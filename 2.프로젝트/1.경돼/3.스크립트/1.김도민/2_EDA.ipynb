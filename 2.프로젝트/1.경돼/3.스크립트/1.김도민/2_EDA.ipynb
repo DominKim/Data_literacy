{
 "cells": [
  {
   "cell_type": "code",
   "execution_count": 52,
   "id": "technological-strain",
   "metadata": {},
   "outputs": [],
   "source": [
    "import pandas as pd\n",
    "import numpy as np\n",
    "import matplotlib.pyplot as plt\n",
    "import seaborn as sns\n",
    "import warnings\n",
    "import re\n",
    "\n",
    "warnings.filterwarnings('ignore')\n",
    "%matplotlib inline"
   ]
  },
  {
   "cell_type": "code",
   "execution_count": 53,
   "id": "frank-nickel",
   "metadata": {},
   "outputs": [],
   "source": [
    "# 데이터 로드\n",
    "df1 = pd.read_csv(\"../../4.데이터/경돼님_댓글.csv\")\n",
    "df2 = pd.read_csv(\"../../4.데이터/경돼님_채널정보.csv\")"
   ]
  },
  {
   "cell_type": "code",
   "execution_count": 54,
   "id": "alive-group",
   "metadata": {},
   "outputs": [],
   "source": [
    "# 데이터 병합\n",
    "df = pd.merge(df2, df1, on = \"video_id\")"
   ]
  },
  {
   "cell_type": "code",
   "execution_count": 55,
   "id": "royal-burst",
   "metadata": {},
   "outputs": [
    {
     "name": "stdout",
     "output_type": "stream",
     "text": [
      "<class 'pandas.core.frame.DataFrame'>\n",
      "Int64Index: 598 entries, 0 to 597\n",
      "Data columns (total 11 columns):\n",
      " #   Column         Non-Null Count  Dtype  \n",
      "---  ------         --------------  -----  \n",
      " 0   video_id       598 non-null    object \n",
      " 1   title          598 non-null    object \n",
      " 2   published_at   598 non-null    object \n",
      " 3   description    596 non-null    object \n",
      " 4   tags           591 non-null    object \n",
      " 5   duration       598 non-null    object \n",
      " 6   view_count     598 non-null    int64  \n",
      " 7   likes          597 non-null    float64\n",
      " 8   dislikes       597 non-null    float64\n",
      " 9   comment_count  597 non-null    float64\n",
      " 10  comments       598 non-null    object \n",
      "dtypes: float64(3), int64(1), object(7)\n",
      "memory usage: 56.1+ KB\n"
     ]
    }
   ],
   "source": [
    "df.info()"
   ]
  },
  {
   "cell_type": "code",
   "execution_count": 56,
   "id": "capital-diving",
   "metadata": {},
   "outputs": [
    {
     "data": {
      "text/html": [
       "<div>\n",
       "<style scoped>\n",
       "    .dataframe tbody tr th:only-of-type {\n",
       "        vertical-align: middle;\n",
       "    }\n",
       "\n",
       "    .dataframe tbody tr th {\n",
       "        vertical-align: top;\n",
       "    }\n",
       "\n",
       "    .dataframe thead th {\n",
       "        text-align: right;\n",
       "    }\n",
       "</style>\n",
       "<table border=\"1\" class=\"dataframe\">\n",
       "  <thead>\n",
       "    <tr style=\"text-align: right;\">\n",
       "      <th></th>\n",
       "      <th>video_id</th>\n",
       "      <th>title</th>\n",
       "      <th>published_at</th>\n",
       "      <th>description</th>\n",
       "      <th>tags</th>\n",
       "      <th>duration</th>\n",
       "      <th>view_count</th>\n",
       "      <th>likes</th>\n",
       "      <th>dislikes</th>\n",
       "      <th>comment_count</th>\n",
       "      <th>comments</th>\n",
       "    </tr>\n",
       "  </thead>\n",
       "  <tbody>\n",
       "    <tr>\n",
       "      <th>0</th>\n",
       "      <td>gBx2UrI4JqE</td>\n",
       "      <td>100kg 20회 실화?!?? 아이템 착용</td>\n",
       "      <td>2021-05-31T12:40:46Z</td>\n",
       "      <td>아이템전....</td>\n",
       "      <td>벤치프레스,스트렝스,경돼 벤치프레스,100kg,벤치프레스100kg,benchpres...</td>\n",
       "      <td>PT37S</td>\n",
       "      <td>973</td>\n",
       "      <td>25.0</td>\n",
       "      <td>2.0</td>\n",
       "      <td>12.0</td>\n",
       "      <td>['형님영상보고 5X5X5 루틴하고있는데\\n5,5,5가 효과가 더있나요 아니면 많이...</td>\n",
       "    </tr>\n",
       "    <tr>\n",
       "      <th>1</th>\n",
       "      <td>n2jAepfvF6c</td>\n",
       "      <td>벤치 120kg,  도와ㅜ줘 도와ㅜ줘!!</td>\n",
       "      <td>2021-05-30T22:29:56Z</td>\n",
       "      <td>출근 전 벤치프레스</td>\n",
       "      <td>벤치프레스,Benchpress,스트렝스,경돼</td>\n",
       "      <td>PT43S</td>\n",
       "      <td>1487</td>\n",
       "      <td>33.0</td>\n",
       "      <td>0.0</td>\n",
       "      <td>21.0</td>\n",
       "      <td>['손바닥 전체적으로 미시나요?\\n자신만의 포인트좀 공유부탁드려요.\\n 상당히 안정...</td>\n",
       "    </tr>\n",
       "    <tr>\n",
       "      <th>2</th>\n",
       "      <td>_thZKDd0NGo</td>\n",
       "      <td>출근 전 벤치프레스 100kg</td>\n",
       "      <td>2021-05-26T22:34:52Z</td>\n",
       "      <td>NaN</td>\n",
       "      <td>shorts,short,벤치프레스,직장인</td>\n",
       "      <td>PT42S</td>\n",
       "      <td>2042</td>\n",
       "      <td>31.0</td>\n",
       "      <td>3.0</td>\n",
       "      <td>17.0</td>\n",
       "      <td>[\"'진짜 운동하는 직장인'\", '쌀돼 경돼 갓돼', '요새는 유도 안하세요??',...</td>\n",
       "    </tr>\n",
       "    <tr>\n",
       "      <th>3</th>\n",
       "      <td>UURowG79j8c</td>\n",
       "      <td>궁금했던 것 물어보면 딱 좋은 타이밍!</td>\n",
       "      <td>2021-05-14T02:32:46Z</td>\n",
       "      <td>여러분 안녕하세요 경돼입니다.\\r\\n\\r\\n모두\\r\\n\\r\\nBe more posi...</td>\n",
       "      <td>경돼,스트렝스,훈련,운동vlog,운동유튜버,워라밸,마왕,마선호,경돼 마선호,브이로그</td>\n",
       "      <td>PT3M30S</td>\n",
       "      <td>2011</td>\n",
       "      <td>67.0</td>\n",
       "      <td>2.0</td>\n",
       "      <td>16.0</td>\n",
       "      <td>['진짜 멋있다 ㅎㅎ', '도대체이형은 몸이 왜 변하지않는거지', '경돼 가슴이 진...</td>\n",
       "    </tr>\n",
       "    <tr>\n",
       "      <th>4</th>\n",
       "      <td>0Cn9Jk0BrdE</td>\n",
       "      <td>비아냥 속에서도 묵묵히 최선을 다할 것.</td>\n",
       "      <td>2021-04-25T02:51:34Z</td>\n",
       "      <td>벚꽃슈레딩 Day25</td>\n",
       "      <td>shorts,짧은동영상,경돼,다이어트</td>\n",
       "      <td>PT13S</td>\n",
       "      <td>5501</td>\n",
       "      <td>127.0</td>\n",
       "      <td>7.0</td>\n",
       "      <td>64.0</td>\n",
       "      <td>['비아냥이라니요. 지금도\\n잘 하시고 있는데.. 누구 탓할\\n필요도 없습니다. 본...</td>\n",
       "    </tr>\n",
       "    <tr>\n",
       "      <th>5</th>\n",
       "      <td>QXpJ7WOF4Zo</td>\n",
       "      <td>78kg, 썸머슈레딩(다이어트) 시작, 이건 못참지</td>\n",
       "      <td>2021-03-13T10:49:13Z</td>\n",
       "      <td>또머슈레딩\\r\\n#썸머슈레딩 #다이어트 #직장인</td>\n",
       "      <td>다이어트,썸머슈레딩,경돼,운동유튜버,shorts,짧은동영상</td>\n",
       "      <td>PT31S</td>\n",
       "      <td>4459</td>\n",
       "      <td>101.0</td>\n",
       "      <td>1.0</td>\n",
       "      <td>53.0</td>\n",
       "      <td>['와 몸 미쳤어요', '무한동력 왜 연구함\\n경돼의 무한슈레딩이 있는데 ㅋㅋ', ...</td>\n",
       "    </tr>\n",
       "    <tr>\n",
       "      <th>6</th>\n",
       "      <td>w2eBt4FhFVQ</td>\n",
       "      <td>아침 저녁으로 운동하기!</td>\n",
       "      <td>2021-03-07T08:59:56Z</td>\n",
       "      <td>여러분 안녕하세요 경돼입니다.\\r\\n\\r\\n이제 운동을, 하루에 2번씩 넣어주고 있...</td>\n",
       "      <td>경돼,스트렝스,훈련,운동vlog,운동유튜버,워라밸,경돼운동,브이로그</td>\n",
       "      <td>PT6M59S</td>\n",
       "      <td>2817</td>\n",
       "      <td>74.0</td>\n",
       "      <td>2.0</td>\n",
       "      <td>41.0</td>\n",
       "      <td>['와 몸 또 만들었네요.. 대박~ 멋있어요', '경돼님 어떻게 운동을 2번이나.....</td>\n",
       "    </tr>\n",
       "    <tr>\n",
       "      <th>7</th>\n",
       "      <td>66z8rKLa-3Q</td>\n",
       "      <td>(경돼 유도) 주말에 유도 한판, 청림유도관</td>\n",
       "      <td>2021-03-07T07:37:24Z</td>\n",
       "      <td>주말 유도</td>\n",
       "      <td>유도,경돼유도,일반인 유도,청림유도관,judo</td>\n",
       "      <td>PT1M24S</td>\n",
       "      <td>2115</td>\n",
       "      <td>42.0</td>\n",
       "      <td>0.0</td>\n",
       "      <td>16.0</td>\n",
       "      <td>['이런 기술은 얼마나 익혀야\\n제대로 나올까요? 유단자시니까\\n잘 하시는것 같아요...</td>\n",
       "    </tr>\n",
       "    <tr>\n",
       "      <th>8</th>\n",
       "      <td>JeEU0qeb-0w</td>\n",
       "      <td>출퇴근 길은 헬스장으로</td>\n",
       "      <td>2021-03-01T13:48:44Z</td>\n",
       "      <td>여러분 안녕하세요 경돼입니다.\\r\\n\\r\\n\\r\\n\\r\\n--------------...</td>\n",
       "      <td>경돼,스트렝스,훈련,운동vlog,운동유튜버,워라밸,경돼운동,집,집회사,회사,헬스장,...</td>\n",
       "      <td>PT8M48S</td>\n",
       "      <td>3587</td>\n",
       "      <td>89.0</td>\n",
       "      <td>1.0</td>\n",
       "      <td>43.0</td>\n",
       "      <td>['저 니랩??은 혹시 어디껀지 알 수 있을까요?', '운동 좋아하는 취준생인데 보...</td>\n",
       "    </tr>\n",
       "    <tr>\n",
       "      <th>9</th>\n",
       "      <td>RodnFgR1vmg</td>\n",
       "      <td>천천히 운동 쌓아 나가기│브이로그</td>\n",
       "      <td>2021-02-21T13:30:02Z</td>\n",
       "      <td>여러분 안녕하세요 경돼입니다.\\r\\n\\r\\n\\r\\n\\r\\n--------------...</td>\n",
       "      <td>경돼,스트렝스,훈련,운동vlog,운동유튜버,워라밸,경돼운동,스쿼트,운동 브이로그,스...</td>\n",
       "      <td>PT10M</td>\n",
       "      <td>3602</td>\n",
       "      <td>91.0</td>\n",
       "      <td>3.0</td>\n",
       "      <td>37.0</td>\n",
       "      <td>['아저씨 다됐네....', '돌아와서 기쁩니다💪💪💪💪', '경돼형님 벌써 4년가까...</td>\n",
       "    </tr>\n",
       "  </tbody>\n",
       "</table>\n",
       "</div>"
      ],
      "text/plain": [
       "      video_id                         title          published_at  \\\n",
       "0  gBx2UrI4JqE       100kg 20회 실화?!?? 아이템 착용  2021-05-31T12:40:46Z   \n",
       "1  n2jAepfvF6c        벤치 120kg,  도와ㅜ줘 도와ㅜ줘!!  2021-05-30T22:29:56Z   \n",
       "2  _thZKDd0NGo              출근 전 벤치프레스 100kg  2021-05-26T22:34:52Z   \n",
       "3  UURowG79j8c         궁금했던 것 물어보면 딱 좋은 타이밍!  2021-05-14T02:32:46Z   \n",
       "4  0Cn9Jk0BrdE        비아냥 속에서도 묵묵히 최선을 다할 것.  2021-04-25T02:51:34Z   \n",
       "5  QXpJ7WOF4Zo  78kg, 썸머슈레딩(다이어트) 시작, 이건 못참지  2021-03-13T10:49:13Z   \n",
       "6  w2eBt4FhFVQ                 아침 저녁으로 운동하기!  2021-03-07T08:59:56Z   \n",
       "7  66z8rKLa-3Q      (경돼 유도) 주말에 유도 한판, 청림유도관  2021-03-07T07:37:24Z   \n",
       "8  JeEU0qeb-0w                  출퇴근 길은 헬스장으로  2021-03-01T13:48:44Z   \n",
       "9  RodnFgR1vmg            천천히 운동 쌓아 나가기│브이로그  2021-02-21T13:30:02Z   \n",
       "\n",
       "                                         description  \\\n",
       "0                                           아이템전....   \n",
       "1                                         출근 전 벤치프레스   \n",
       "2                                                NaN   \n",
       "3  여러분 안녕하세요 경돼입니다.\\r\\n\\r\\n모두\\r\\n\\r\\nBe more posi...   \n",
       "4                                        벚꽃슈레딩 Day25   \n",
       "5                         또머슈레딩\\r\\n#썸머슈레딩 #다이어트 #직장인   \n",
       "6  여러분 안녕하세요 경돼입니다.\\r\\n\\r\\n이제 운동을, 하루에 2번씩 넣어주고 있...   \n",
       "7                                              주말 유도   \n",
       "8  여러분 안녕하세요 경돼입니다.\\r\\n\\r\\n\\r\\n\\r\\n--------------...   \n",
       "9  여러분 안녕하세요 경돼입니다.\\r\\n\\r\\n\\r\\n\\r\\n--------------...   \n",
       "\n",
       "                                                tags duration  view_count  \\\n",
       "0  벤치프레스,스트렝스,경돼 벤치프레스,100kg,벤치프레스100kg,benchpres...    PT37S         973   \n",
       "1                           벤치프레스,Benchpress,스트렝스,경돼    PT43S        1487   \n",
       "2                             shorts,short,벤치프레스,직장인    PT42S        2042   \n",
       "3     경돼,스트렝스,훈련,운동vlog,운동유튜버,워라밸,마왕,마선호,경돼 마선호,브이로그  PT3M30S        2011   \n",
       "4                               shorts,짧은동영상,경돼,다이어트    PT13S        5501   \n",
       "5                   다이어트,썸머슈레딩,경돼,운동유튜버,shorts,짧은동영상    PT31S        4459   \n",
       "6              경돼,스트렝스,훈련,운동vlog,운동유튜버,워라밸,경돼운동,브이로그  PT6M59S        2817   \n",
       "7                          유도,경돼유도,일반인 유도,청림유도관,judo  PT1M24S        2115   \n",
       "8  경돼,스트렝스,훈련,운동vlog,운동유튜버,워라밸,경돼운동,집,집회사,회사,헬스장,...  PT8M48S        3587   \n",
       "9  경돼,스트렝스,훈련,운동vlog,운동유튜버,워라밸,경돼운동,스쿼트,운동 브이로그,스...    PT10M        3602   \n",
       "\n",
       "   likes  dislikes  comment_count  \\\n",
       "0   25.0       2.0           12.0   \n",
       "1   33.0       0.0           21.0   \n",
       "2   31.0       3.0           17.0   \n",
       "3   67.0       2.0           16.0   \n",
       "4  127.0       7.0           64.0   \n",
       "5  101.0       1.0           53.0   \n",
       "6   74.0       2.0           41.0   \n",
       "7   42.0       0.0           16.0   \n",
       "8   89.0       1.0           43.0   \n",
       "9   91.0       3.0           37.0   \n",
       "\n",
       "                                            comments  \n",
       "0  ['형님영상보고 5X5X5 루틴하고있는데\\n5,5,5가 효과가 더있나요 아니면 많이...  \n",
       "1  ['손바닥 전체적으로 미시나요?\\n자신만의 포인트좀 공유부탁드려요.\\n 상당히 안정...  \n",
       "2  [\"'진짜 운동하는 직장인'\", '쌀돼 경돼 갓돼', '요새는 유도 안하세요??',...  \n",
       "3  ['진짜 멋있다 ㅎㅎ', '도대체이형은 몸이 왜 변하지않는거지', '경돼 가슴이 진...  \n",
       "4  ['비아냥이라니요. 지금도\\n잘 하시고 있는데.. 누구 탓할\\n필요도 없습니다. 본...  \n",
       "5  ['와 몸 미쳤어요', '무한동력 왜 연구함\\n경돼의 무한슈레딩이 있는데 ㅋㅋ', ...  \n",
       "6  ['와 몸 또 만들었네요.. 대박~ 멋있어요', '경돼님 어떻게 운동을 2번이나.....  \n",
       "7  ['이런 기술은 얼마나 익혀야\\n제대로 나올까요? 유단자시니까\\n잘 하시는것 같아요...  \n",
       "8  ['저 니랩??은 혹시 어디껀지 알 수 있을까요?', '운동 좋아하는 취준생인데 보...  \n",
       "9  ['아저씨 다됐네....', '돌아와서 기쁩니다💪💪💪💪', '경돼형님 벌써 4년가까...  "
      ]
     },
     "execution_count": 56,
     "metadata": {},
     "output_type": "execute_result"
    }
   ],
   "source": [
    "df.head(10)"
   ]
  },
  {
   "cell_type": "code",
   "execution_count": 57,
   "id": "passing-cuisine",
   "metadata": {},
   "outputs": [],
   "source": [
    "# 업로드 시간의 영향력을 파악하기 위해 추출\n",
    "def publish_time(x):\n",
    "    a = x.split(\"-\")[2][3:5]\n",
    "    return a\n",
    "\n",
    "df[\"published_time\"] = df[\"published_at\"].apply(lambda x: publish_time(x))\n",
    "\n",
    "def date_split(x):\n",
    "    lst = x.split(\"-\")\n",
    "    lst[2] = lst[2][:2]\n",
    "    a = \"-\".join(lst)\n",
    "    return a\n",
    "\n",
    "# 날짜 필요한 부분만 슬라이싱\n",
    "df[\"published_at\"] = df[\"published_at\"].apply(lambda x: date_split(x))\n",
    "\n",
    "# 연도 \n",
    "df[\"published_year\"] = df[\"published_at\"].apply(lambda x: x.split(\"-\")[0])\n",
    "df[\"published_month\"] = df[\"published_at\"].apply(lambda x: x.split(\"-\")[1])\n",
    "df[\"published_day\"] = df[\"published_at\"].apply(lambda x: x.split(\"-\")[2])"
   ]
  },
  {
   "cell_type": "code",
   "execution_count": 76,
   "id": "ethical-ozone",
   "metadata": {},
   "outputs": [
    {
     "data": {
      "text/plain": [
       "['2021', '05', '31']"
      ]
     },
     "execution_count": 76,
     "metadata": {},
     "output_type": "execute_result"
    }
   ],
   "source": [
    "df[\"published_at\"][0].split(\"-\")"
   ]
  },
  {
   "cell_type": "code",
   "execution_count": 60,
   "id": "central-horizontal",
   "metadata": {},
   "outputs": [
    {
     "data": {
      "text/plain": [
       "0      PT37S\n",
       "1      PT43S\n",
       "2      PT42S\n",
       "3    PT3M30S\n",
       "4      PT13S\n",
       "Name: duration, dtype: object"
      ]
     },
     "execution_count": 60,
     "metadata": {},
     "output_type": "execute_result"
    }
   ],
   "source": [
    "df[\"duration\"].head()"
   ]
  },
  {
   "cell_type": "code",
   "execution_count": 61,
   "id": "attempted-burden",
   "metadata": {},
   "outputs": [],
   "source": [
    "# 영상길이를 초로 전환\n",
    "def preprocessing_duration(x):\n",
    "    # 정규표현식으로 분, 초 추출\n",
    "    minute = re.findall(\"[0-9]{1,}M\", x)\n",
    "    second = re.findall(\"[0-9]{1,}S\", x)\n",
    "\n",
    "    if second:\n",
    "        second = int(second[0][:-1])\n",
    "    else:\n",
    "        second = 0\n",
    "        \n",
    "    if minute:\n",
    "        minute = int(minute[0][:-1]) * 60\n",
    "    else:\n",
    "        minute = 0\n",
    "        \n",
    "    result = minute + second\n",
    "    return result\n",
    "\n",
    "df[\"duration\"] = df[\"duration\"].apply(lambda x: preprocessing_duration(x))"
   ]
  },
  {
   "cell_type": "code",
   "execution_count": 63,
   "id": "cooperative-vision",
   "metadata": {},
   "outputs": [],
   "source": [
    "# df 순서 정리\n",
    "pre_df = df[[\"title\", \"published_at\", \"published_time\", \n",
    "   \"published_year\", \"published_month\", \"published_day\",\n",
    "  \"duration\", \"view_count\", \"likes\", \"dislikes\", \"comment_count\", \"description\",\n",
    "   \"tags\", \"comments\"]]"
   ]
  },
  {
   "cell_type": "code",
   "execution_count": 64,
   "id": "international-gender",
   "metadata": {},
   "outputs": [
    {
     "data": {
      "text/html": [
       "<div>\n",
       "<style scoped>\n",
       "    .dataframe tbody tr th:only-of-type {\n",
       "        vertical-align: middle;\n",
       "    }\n",
       "\n",
       "    .dataframe tbody tr th {\n",
       "        vertical-align: top;\n",
       "    }\n",
       "\n",
       "    .dataframe thead th {\n",
       "        text-align: right;\n",
       "    }\n",
       "</style>\n",
       "<table border=\"1\" class=\"dataframe\">\n",
       "  <thead>\n",
       "    <tr style=\"text-align: right;\">\n",
       "      <th></th>\n",
       "      <th>video_id</th>\n",
       "      <th>title</th>\n",
       "      <th>published_at</th>\n",
       "      <th>description</th>\n",
       "      <th>tags</th>\n",
       "      <th>duration</th>\n",
       "      <th>view_count</th>\n",
       "      <th>likes</th>\n",
       "      <th>dislikes</th>\n",
       "      <th>comment_count</th>\n",
       "      <th>comments</th>\n",
       "      <th>published_time</th>\n",
       "      <th>published_year</th>\n",
       "      <th>published_month</th>\n",
       "      <th>published_day</th>\n",
       "    </tr>\n",
       "  </thead>\n",
       "  <tbody>\n",
       "    <tr>\n",
       "      <th>0</th>\n",
       "      <td>gBx2UrI4JqE</td>\n",
       "      <td>100kg 20회 실화?!?? 아이템 착용</td>\n",
       "      <td>2021-05-31</td>\n",
       "      <td>아이템전....</td>\n",
       "      <td>벤치프레스,스트렝스,경돼 벤치프레스,100kg,벤치프레스100kg,benchpres...</td>\n",
       "      <td>37</td>\n",
       "      <td>973</td>\n",
       "      <td>25.0</td>\n",
       "      <td>2.0</td>\n",
       "      <td>12.0</td>\n",
       "      <td>['형님영상보고 5X5X5 루틴하고있는데\\n5,5,5가 효과가 더있나요 아니면 많이...</td>\n",
       "      <td>12</td>\n",
       "      <td>2021</td>\n",
       "      <td>05</td>\n",
       "      <td>31</td>\n",
       "    </tr>\n",
       "    <tr>\n",
       "      <th>1</th>\n",
       "      <td>n2jAepfvF6c</td>\n",
       "      <td>벤치 120kg,  도와ㅜ줘 도와ㅜ줘!!</td>\n",
       "      <td>2021-05-30</td>\n",
       "      <td>출근 전 벤치프레스</td>\n",
       "      <td>벤치프레스,Benchpress,스트렝스,경돼</td>\n",
       "      <td>43</td>\n",
       "      <td>1487</td>\n",
       "      <td>33.0</td>\n",
       "      <td>0.0</td>\n",
       "      <td>21.0</td>\n",
       "      <td>['손바닥 전체적으로 미시나요?\\n자신만의 포인트좀 공유부탁드려요.\\n 상당히 안정...</td>\n",
       "      <td>22</td>\n",
       "      <td>2021</td>\n",
       "      <td>05</td>\n",
       "      <td>30</td>\n",
       "    </tr>\n",
       "  </tbody>\n",
       "</table>\n",
       "</div>"
      ],
      "text/plain": [
       "      video_id                    title published_at description  \\\n",
       "0  gBx2UrI4JqE  100kg 20회 실화?!?? 아이템 착용   2021-05-31    아이템전....   \n",
       "1  n2jAepfvF6c   벤치 120kg,  도와ㅜ줘 도와ㅜ줘!!   2021-05-30  출근 전 벤치프레스   \n",
       "\n",
       "                                                tags  duration  view_count  \\\n",
       "0  벤치프레스,스트렝스,경돼 벤치프레스,100kg,벤치프레스100kg,benchpres...        37         973   \n",
       "1                           벤치프레스,Benchpress,스트렝스,경돼        43        1487   \n",
       "\n",
       "   likes  dislikes  comment_count  \\\n",
       "0   25.0       2.0           12.0   \n",
       "1   33.0       0.0           21.0   \n",
       "\n",
       "                                            comments published_time  \\\n",
       "0  ['형님영상보고 5X5X5 루틴하고있는데\\n5,5,5가 효과가 더있나요 아니면 많이...             12   \n",
       "1  ['손바닥 전체적으로 미시나요?\\n자신만의 포인트좀 공유부탁드려요.\\n 상당히 안정...             22   \n",
       "\n",
       "  published_year published_month published_day  \n",
       "0           2021              05            31  \n",
       "1           2021              05            30  "
      ]
     },
     "execution_count": 64,
     "metadata": {},
     "output_type": "execute_result"
    }
   ],
   "source": [
    "df.head(2)"
   ]
  },
  {
   "cell_type": "code",
   "execution_count": 70,
   "id": "enormous-brave",
   "metadata": {},
   "outputs": [],
   "source": [
    "# month_upload_count_df\n",
    "# 달 별 업로드 횟수\n",
    "month_upload_count_df = pre_df.groupby([\"published_year\", \"published_month\"]).title.agg(\"count\").reset_index()\n",
    "\n",
    "# 기준 날 컬럼 생성\n",
    "month_upload_count_df[\"year_day\"] = month_upload_count_df[\"published_year\"] + month_upload_count_df[\"published_month\"]"
   ]
  },
  {
   "cell_type": "code",
   "execution_count": 71,
   "id": "divine-emphasis",
   "metadata": {},
   "outputs": [],
   "source": [
    "# 사용할 df에 업로드 횟수 컬럼 추가\n",
    "pre_df[\"month_upload_count\"] = 0\n",
    "\n",
    "# 사용할 df에 업로드 횟수 컬럼 채우기\n",
    "for idx in range(len(df)):\n",
    "    check_day = pre_df.loc[idx, \"published_year\"] + pre_df.loc[idx,\"published_month\"]\n",
    "    pre_df.loc[idx, \"month_upload_count\"] = month_upload_count_df[month_upload_count_df[\"year_day\"]== check_day]['title'].values[0]"
   ]
  },
  {
   "cell_type": "code",
   "execution_count": 73,
   "id": "mighty-affair",
   "metadata": {},
   "outputs": [],
   "source": [
    "# df 순서 정리\n",
    "pre_df = pre_df[[\"title\", \"published_at\", \"published_time\", \n",
    "   \"published_year\", \"published_month\", \"published_day\", \"month_upload_count\",\n",
    "  \"duration\", \"view_count\", \"likes\", \"dislikes\", \"comment_count\", \"description\",\n",
    "   \"tags\", \"comments\"]]\n",
    "\n",
    "# 전처리 df 저장\n",
    "pre_df.to_csv(\"../../4.데이터/preprocessing_data.csv\", encoding=\"utf-8-sig\",index = False)"
   ]
  },
  {
   "cell_type": "code",
   "execution_count": 40,
   "id": "endangered-treasury",
   "metadata": {},
   "outputs": [
    {
     "data": {
      "text/plain": [
       "<AxesSubplot:xlabel='view_count'>"
      ]
     },
     "execution_count": 40,
     "metadata": {},
     "output_type": "execute_result"
    },
    {
     "data": {
      "image/png": "[encoded data removed]",
      "text/plain": [
       "<Figure size 1080x360 with 1 Axes>"
      ]
     },
     "metadata": {
      "needs_background": "dark"
     },
     "output_type": "display_data"
    }
   ],
   "source": [
    "# 조회수 boxplot\n",
    "plt.figure(figsize = (15, 5))\n",
    "plt.xticks(color = \"white\", fontsize = 15)\n",
    "plt.yticks(color = \"white\", fontsize = 15)\n",
    "sns.boxplot(pre_df[\"view_count\"])"
   ]
  },
  {
   "cell_type": "code",
   "execution_count": 41,
   "id": "simple-roads",
   "metadata": {},
   "outputs": [],
   "source": [
    "# 4분 위수 1, 3분위 수 구하기\n",
    "quatile_25 = np.percentile(pre_df[\"view_count\"], 25)\n",
    "quatile_75 = np.percentile(pre_df[\"view_count\"], 75)\n",
    "\n",
    "# iqr\n",
    "iqr = quatile_75 - quatile_25\n",
    "# 이상치 처리 기준\n",
    "highest = quatile_75 + (1.5 * iqr)"
   ]
  },
  {
   "cell_type": "code",
   "execution_count": 45,
   "id": "defensive-slope",
   "metadata": {},
   "outputs": [],
   "source": [
    "outlier_rem_df = pre_df[pre_df[\"view_count\"] > highest].reset_index(drop = True)"
   ]
  },
  {
   "cell_type": "code",
   "execution_count": 27,
   "id": "certified-still",
   "metadata": {},
   "outputs": [
    {
     "data": {
      "text/plain": [
       "<AxesSubplot:>"
      ]
     },
     "execution_count": 27,
     "metadata": {},
     "output_type": "execute_result"
    },
    {
     "data": {
      "image/png": "[encoded data removed]",
      "text/plain": [
       "<Figure size 864x576 with 2 Axes>"
      ]
     },
     "metadata": {},
     "output_type": "display_data"
    }
   ],
   "source": [
    "# 기존 df 상관분석\n",
    "plt.figure(figsize = (12,8))\n",
    "plt.xticks(color = \"white\", fontsize = 15)\n",
    "plt.yticks(color = \"white\", fontsize = 15)\n",
    "sns.heatmap(pre_df.corr(), annot = True)"
   ]
  },
  {
   "cell_type": "code",
   "execution_count": 47,
   "id": "located-peeing",
   "metadata": {},
   "outputs": [
    {
     "data": {
      "text/plain": [
       "<AxesSubplot:>"
      ]
     },
     "execution_count": 47,
     "metadata": {},
     "output_type": "execute_result"
    },
    {
     "data": {
      "image/png": "[encoded data removed]",
      "text/plain": [
       "<Figure size 864x576 with 2 Axes>"
      ]
     },
     "metadata": {},
     "output_type": "display_data"
    }
   ],
   "source": [
    "# 이상치 제거 상관분석\n",
    "plt.figure(figsize = (12,8))\n",
    "plt.xticks(color = \"white\", fontsize = 15)\n",
    "plt.yticks(color = \"white\", fontsize = 15)\n",
    "sns.heatmap(outlier_rem_df.corr(), annot = True)"
   ]
  },
  {
   "cell_type": "markdown",
   "id": "heated-voltage",
   "metadata": {},
   "source": [
    "## 상관분석 결과\n",
    "- 업로드 횟수랑 조회수의 상관은 크지 않다(약0.2이하)"
   ]
  },
  {
   "cell_type": "code",
   "execution_count": 51,
   "id": "experienced-corpus",
   "metadata": {},
   "outputs": [
    {
     "data": {
      "text/plain": [
       "13    78\n",
       "14    70\n",
       "17    68\n",
       "18    54\n",
       "19    38\n",
       "15    30\n",
       "26    26\n",
       "5     25\n",
       "12    24\n",
       "8     24\n",
       "23    23\n",
       "11    22\n",
       "7     21\n",
       "20    20\n",
       "3     18\n",
       "16    16\n",
       "4     16\n",
       "6     12\n",
       "9      9\n",
       "1      4\n",
       "Name: month_upload_count, dtype: int64"
      ]
     },
     "execution_count": 51,
     "metadata": {},
     "output_type": "execute_result"
    }
   ],
   "source": [
    "pre_df[\"month_upload_count\"].value_counts()"
   ]
  },
  {
   "cell_type": "code",
   "execution_count": null,
   "id": "collectible-drove",
   "metadata": {},
   "outputs": [],
   "source": []
  }
 ],
 "metadata": {
  "kernelspec": {
   "display_name": "Python 3",
   "language": "python",
   "name": "python3"
  },
  "language_info": {
   "codemirror_mode": {
    "name": "ipython",
    "version": 3
   },
   "file_extension": ".py",
   "mimetype": "text/x-python",
   "name": "python",
   "nbconvert_exporter": "python",
   "pygments_lexer": "ipython3",
   "version": "3.7.9"
  }
 },
 "nbformat": 4,
 "nbformat_minor": 5
}
