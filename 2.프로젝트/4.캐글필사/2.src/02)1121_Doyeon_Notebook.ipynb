{
 "cells": [
  {
   "cell_type": "markdown",
   "id": "85551dc2",
   "metadata": {},
   "source": [
    "#https://www.kaggle.com/werooring/top-9th-lightgbm-xgboost-ensemble"
   ]
  },
  {
   "cell_type": "code",
   "execution_count": 97,
   "id": "f3a6b2fa",
   "metadata": {},
   "outputs": [],
   "source": [
    "import numpy as np\n",
    "import pandas as pd\n",
    "import matplotlib.pyplot as plt\n",
    "import seaborn as sns"
   ]
  },
  {
   "cell_type": "code",
   "execution_count": 98,
   "id": "45e5fc73",
   "metadata": {},
   "outputs": [],
   "source": [
    "train = pd.read_csv('train.csv')\n",
    "test = pd.read_csv('test.csv')\n",
    "sub = pd.read_csv('sample_submission.csv')"
   ]
  },
  {
   "cell_type": "code",
   "execution_count": 99,
   "id": "20f2245f",
   "metadata": {},
   "outputs": [
    {
     "name": "stdout",
     "output_type": "stream",
     "text": [
      "<class 'pandas.core.frame.DataFrame'>\n",
      "RangeIndex: 595212 entries, 0 to 595211\n",
      "Data columns (total 59 columns):\n",
      " #   Column          Non-Null Count   Dtype  \n",
      "---  ------          --------------   -----  \n",
      " 0   id              595212 non-null  int64  \n",
      " 1   target          595212 non-null  int64  \n",
      " 2   ps_ind_01       595212 non-null  int64  \n",
      " 3   ps_ind_02_cat   595212 non-null  int64  \n",
      " 4   ps_ind_03       595212 non-null  int64  \n",
      " 5   ps_ind_04_cat   595212 non-null  int64  \n",
      " 6   ps_ind_05_cat   595212 non-null  int64  \n",
      " 7   ps_ind_06_bin   595212 non-null  int64  \n",
      " 8   ps_ind_07_bin   595212 non-null  int64  \n",
      " 9   ps_ind_08_bin   595212 non-null  int64  \n",
      " 10  ps_ind_09_bin   595212 non-null  int64  \n",
      " 11  ps_ind_10_bin   595212 non-null  int64  \n",
      " 12  ps_ind_11_bin   595212 non-null  int64  \n",
      " 13  ps_ind_12_bin   595212 non-null  int64  \n",
      " 14  ps_ind_13_bin   595212 non-null  int64  \n",
      " 15  ps_ind_14       595212 non-null  int64  \n",
      " 16  ps_ind_15       595212 non-null  int64  \n",
      " 17  ps_ind_16_bin   595212 non-null  int64  \n",
      " 18  ps_ind_17_bin   595212 non-null  int64  \n",
      " 19  ps_ind_18_bin   595212 non-null  int64  \n",
      " 20  ps_reg_01       595212 non-null  float64\n",
      " 21  ps_reg_02       595212 non-null  float64\n",
      " 22  ps_reg_03       595212 non-null  float64\n",
      " 23  ps_car_01_cat   595212 non-null  int64  \n",
      " 24  ps_car_02_cat   595212 non-null  int64  \n",
      " 25  ps_car_03_cat   595212 non-null  int64  \n",
      " 26  ps_car_04_cat   595212 non-null  int64  \n",
      " 27  ps_car_05_cat   595212 non-null  int64  \n",
      " 28  ps_car_06_cat   595212 non-null  int64  \n",
      " 29  ps_car_07_cat   595212 non-null  int64  \n",
      " 30  ps_car_08_cat   595212 non-null  int64  \n",
      " 31  ps_car_09_cat   595212 non-null  int64  \n",
      " 32  ps_car_10_cat   595212 non-null  int64  \n",
      " 33  ps_car_11_cat   595212 non-null  int64  \n",
      " 34  ps_car_11       595212 non-null  int64  \n",
      " 35  ps_car_12       595212 non-null  float64\n",
      " 36  ps_car_13       595212 non-null  float64\n",
      " 37  ps_car_14       595212 non-null  float64\n",
      " 38  ps_car_15       595212 non-null  float64\n",
      " 39  ps_calc_01      595212 non-null  float64\n",
      " 40  ps_calc_02      595212 non-null  float64\n",
      " 41  ps_calc_03      595212 non-null  float64\n",
      " 42  ps_calc_04      595212 non-null  int64  \n",
      " 43  ps_calc_05      595212 non-null  int64  \n",
      " 44  ps_calc_06      595212 non-null  int64  \n",
      " 45  ps_calc_07      595212 non-null  int64  \n",
      " 46  ps_calc_08      595212 non-null  int64  \n",
      " 47  ps_calc_09      595212 non-null  int64  \n",
      " 48  ps_calc_10      595212 non-null  int64  \n",
      " 49  ps_calc_11      595212 non-null  int64  \n",
      " 50  ps_calc_12      595212 non-null  int64  \n",
      " 51  ps_calc_13      595212 non-null  int64  \n",
      " 52  ps_calc_14      595212 non-null  int64  \n",
      " 53  ps_calc_15_bin  595212 non-null  int64  \n",
      " 54  ps_calc_16_bin  595212 non-null  int64  \n",
      " 55  ps_calc_17_bin  595212 non-null  int64  \n",
      " 56  ps_calc_18_bin  595212 non-null  int64  \n",
      " 57  ps_calc_19_bin  595212 non-null  int64  \n",
      " 58  ps_calc_20_bin  595212 non-null  int64  \n",
      "dtypes: float64(10), int64(49)\n",
      "memory usage: 267.9 MB\n"
     ]
    }
   ],
   "source": [
    "train.info()"
   ]
  },
  {
   "cell_type": "markdown",
   "id": "68bbf819",
   "metadata": {},
   "source": [
    "- ind_cat / ind_bin\n",
    "- reg : float\n",
    "- car : int& float / car_cat\n",
    "- calc : float / int / calc_bin"
   ]
  },
  {
   "cell_type": "code",
   "execution_count": 13,
   "id": "614084d5",
   "metadata": {},
   "outputs": [
    {
     "data": {
      "text/plain": [
       "array([0, 1])"
      ]
     },
     "execution_count": 13,
     "metadata": {},
     "output_type": "execute_result"
    }
   ],
   "source": [
    "#train['ps_ind_18_bin'].unique()"
   ]
  },
  {
   "cell_type": "code",
   "execution_count": 100,
   "id": "d526ea81",
   "metadata": {},
   "outputs": [],
   "source": [
    "all_data = pd.concat([train,test],ignore_index = True)\n",
    "all_data = all_data.drop('target',axis = 1)\n",
    "\n",
    "all_features = all_data.columns.tolist()"
   ]
  },
  {
   "cell_type": "markdown",
   "id": "da01a4d4",
   "metadata": {},
   "source": [
    "Generate missing values as a new feature"
   ]
  },
  {
   "cell_type": "code",
   "execution_count": 101,
   "id": "cdaf1731",
   "metadata": {},
   "outputs": [],
   "source": [
    "#Add number of missing value per data\n",
    "all_data['num_missing'] = (all_data == -1).sum(axis = 1)# -1이  missing value 이므로\n",
    "\n",
    "remaining_features = [col for col in all_features \\\n",
    "                     if( 'cat' not in col and 'calc' not in col)]\n",
    "\n",
    "remaining_features.append('num_missing')"
   ]
  },
  {
   "cell_type": "code",
   "execution_count": 75,
   "id": "a35abfe9",
   "metadata": {},
   "outputs": [
    {
     "data": {
      "text/plain": [
       "2    637430\n",
       "1    391628\n",
       "0    311498\n",
       "3    140202\n",
       "4      7062\n",
       "7       142\n",
       "6        48\n",
       "8        13\n",
       "5         5\n",
       "Name: num_missing, dtype: int64"
      ]
     },
     "execution_count": 75,
     "metadata": {},
     "output_type": "execute_result"
    }
   ],
   "source": [
    "all_data['num_missing'].value_counts()"
   ]
  },
  {
   "cell_type": "code",
   "execution_count": 102,
   "id": "bb0bd84a",
   "metadata": {},
   "outputs": [],
   "source": [
    "#Onehot encoding\n",
    "from sklearn.preprocessing import OneHotEncoder\n",
    "\n",
    "cat_features = [col for col in all_features if 'cat' in col] #Nominal features\n",
    "\n",
    "ecn = OneHotEncoder()\n",
    "ecn_cat_matrix = ecn.fit_transform(all_data[cat_features])"
   ]
  },
  {
   "cell_type": "markdown",
   "id": "02b94a26",
   "metadata": {},
   "source": [
    "Create a new features mix_ind that combines unique values of an ind features  \n",
    "    : Feature with 'ind' on tag"
   ]
  },
  {
   "cell_type": "code",
   "execution_count": 103,
   "id": "e62f8bb4",
   "metadata": {},
   "outputs": [],
   "source": [
    "ind_features = [col for col in all_features if 'ind' in col]\n",
    "\n",
    "first_col = True\n",
    "for col in ind_features:\n",
    "    if first_col:\n",
    "        all_data['mix_ind'] = all_data[col].astype(str)+'_'\n",
    "        first_col = False\n",
    "    else:\n",
    "        all_data['mix_ind'] += all_data[col].astype(str)+'_'"
   ]
  },
  {
   "cell_type": "code",
   "execution_count": 78,
   "id": "a9d8cd1a",
   "metadata": {},
   "outputs": [
    {
     "data": {
      "text/plain": [
       "0_2_1_0_0_1_0_0_0_0_0_0_0_0_7_1_0_0_     2992\n",
       "0_1_2_0_0_1_0_0_0_0_0_0_0_0_8_1_0_0_     2784\n",
       "0_1_2_0_0_1_0_0_0_0_0_0_0_0_7_1_0_0_     2568\n",
       "0_1_1_0_0_1_0_0_0_0_0_0_0_0_7_1_0_0_     2174\n",
       "0_2_0_0_0_1_0_0_0_0_0_0_0_0_7_1_0_0_     2131\n",
       "                                         ... \n",
       "3_2_0_1_0_0_0_0_1_0_0_0_0_0_10_1_0_0_       1\n",
       "7_1_7_1_0_0_1_0_0_0_0_0_0_0_4_0_1_0_        1\n",
       "4_1_7_0_6_0_0_1_0_0_0_0_0_0_5_0_0_1_        1\n",
       "5_1_4_0_0_0_0_1_0_0_0_1_1_2_0_0_0_1_        1\n",
       "3_1_8_1_0_0_0_1_0_0_0_0_0_0_12_0_0_0_       1\n",
       "Name: mix_ind, Length: 143769, dtype: int64"
      ]
     },
     "execution_count": 78,
     "metadata": {},
     "output_type": "execute_result"
    }
   ],
   "source": [
    "all_data['mix_ind'].value_counts()"
   ]
  },
  {
   "cell_type": "code",
   "execution_count": 79,
   "id": "af950db3",
   "metadata": {},
   "outputs": [
    {
     "data": {
      "text/plain": [
       "['ps_ind_02_cat',\n",
       " 'ps_ind_04_cat',\n",
       " 'ps_ind_05_cat',\n",
       " 'ps_car_01_cat',\n",
       " 'ps_car_02_cat',\n",
       " 'ps_car_03_cat',\n",
       " 'ps_car_04_cat',\n",
       " 'ps_car_05_cat',\n",
       " 'ps_car_06_cat',\n",
       " 'ps_car_07_cat',\n",
       " 'ps_car_08_cat',\n",
       " 'ps_car_09_cat',\n",
       " 'ps_car_10_cat',\n",
       " 'ps_car_11_cat']"
      ]
     },
     "execution_count": 79,
     "metadata": {},
     "output_type": "execute_result"
    }
   ],
   "source": [
    "cat_features"
   ]
  },
  {
   "cell_type": "code",
   "execution_count": 104,
   "id": "9e3ca19a",
   "metadata": {},
   "outputs": [],
   "source": [
    "#Create new feature, the number of eigenvalues for nominal features\n",
    "cat_count_features = []\n",
    "for col in cat_features + ['mix_ind']:\n",
    "    val_counts_dic = all_data[col].value_counts().to_dict()\n",
    "    all_data[f'{col}_count'] = all_data[col].apply(lambda x:val_counts_dic[x])\n",
    "    cat_count_features.append(f'{col}_count')"
   ]
  },
  {
   "cell_type": "code",
   "execution_count": 30,
   "id": "e384d115",
   "metadata": {},
   "outputs": [
    {
     "data": {
      "text/plain": [
       "0          2_2_5_1_0_0_1_0_0_0_0_0_0_0_11_0_1_0_\n",
       "1           1_1_7_0_0_0_0_1_0_0_0_0_0_0_3_0_0_1_\n",
       "2          5_4_9_1_0_0_0_1_0_0_0_0_0_0_12_1_0_0_\n",
       "3           0_1_2_0_0_1_0_0_0_0_0_0_0_0_8_1_0_0_\n",
       "4           0_2_0_1_0_1_0_0_0_0_0_0_0_0_9_1_0_0_\n",
       "                           ...                  \n",
       "1488023     0_1_6_0_0_0_1_0_0_0_0_0_0_0_2_0_0_1_\n",
       "1488024    5_3_5_1_0_0_0_1_0_0_0_0_0_0_11_1_0_0_\n",
       "1488025     0_1_5_0_0_1_0_0_0_0_0_0_0_0_5_0_0_1_\n",
       "1488026    6_1_5_1_0_0_0_0_1_0_0_0_0_0_13_1_0_0_\n",
       "1488027    7_1_4_1_0_0_0_0_1_0_0_0_0_0_12_1_0_0_\n",
       "Name: mix_ind, Length: 1488028, dtype: object"
      ]
     },
     "execution_count": 30,
     "metadata": {},
     "output_type": "execute_result"
    }
   ],
   "source": [
    "all_data[col]"
   ]
  },
  {
   "cell_type": "code",
   "execution_count": 105,
   "id": "cc0edebe",
   "metadata": {},
   "outputs": [],
   "source": [
    "from scipy import sparse\n",
    "drop_features = ['ps_ind_14', 'ps_ind_10_bin','ps_ind_11_bin', \n",
    "                 'ps_ind_12_bin','ps_ind_13_bin','ps_car_14'] #unbalanced data\n",
    "\n",
    "all_data_remaining = all_data[remaining_features + cat_count_features].drop(drop_features, axis = 1)\n",
    "\n",
    "all_data_spars = sparse.hstack([sparse.csr_matrix(all_data_remaining),\n",
    "                               ecn_cat_matrix],\n",
    "                              format='csr') #hstack 배열 수평 결합 with CSR\n",
    "                                            #CSR(Compressed sparse row) : \n",
    "                                            #가로의 순서대로 재정렬하는 방법으로 행에 관여하여 정리 압축한 것을 CSR이라고 한다\n",
    "#참고할만한 사이트 > https://radish-greens.tistory.com/1"
   ]
  },
  {
   "cell_type": "code",
   "execution_count": 106,
   "id": "b7e7e76b",
   "metadata": {},
   "outputs": [],
   "source": [
    "#Data split\n",
    "num_train = train.shape[0]\n",
    "\n",
    "X = all_data_spars[:num_train]\n",
    "X_test = all_data_spars[num_train:]\n",
    "\n",
    "y=train['target'].values"
   ]
  },
  {
   "cell_type": "code",
   "execution_count": 107,
   "id": "da94dd5e",
   "metadata": {},
   "outputs": [],
   "source": [
    "#Evaluation Metrics : GINI\n",
    "def eval_gini(y_true, y_pred):\n",
    "    # Verify that the actual and predicted values are the same size (different values raise errors)\n",
    "    assert y_true.shape == y_pred.shape\n",
    "\n",
    "    n_samples = y_true.shape[0] # Number of data\n",
    "    L_mid = np.linspace(1 / n_samples, 1, n_samples) # Diagonal value\n",
    "\n",
    "    # 1) Gini coefficient for predicted values\n",
    "    pred_order = y_true[y_pred.argsort()] # Sort y_true values by y_pred size\n",
    "    L_pred = np.cumsum(pred_order) / np.sum(pred_order) # Lorentz Curve\n",
    "    G_pred = np.sum(L_mid - L_pred) # Gini coefficient for predicted values\n",
    "\n",
    "    # 2) Gini coefficient when prediction is perfect\n",
    "    true_order = y_true[y_true.argsort()] # Sort y_true values by y_true size\n",
    "    L_true = np.cumsum(true_order) / np.sum(true_order) # Lorentz Curve\n",
    "    G_true = np.sum(L_mid - L_true) #  Gini coefficient when prediction is perfect\n",
    "\n",
    "    # Normalized Gini coefficient\n",
    "    return G_pred / G_true"
   ]
  },
  {
   "cell_type": "code",
   "execution_count": 108,
   "id": "663e5c09",
   "metadata": {},
   "outputs": [],
   "source": [
    "def gini_lgb(preds, dtrain):\n",
    "    labels = dtrain.get_label()\n",
    "    return 'gini', eval_gini(labels, preds), True"
   ]
  },
  {
   "cell_type": "code",
   "execution_count": 109,
   "id": "b641b88a",
   "metadata": {},
   "outputs": [],
   "source": [
    "def gini_xgb(preds, dtrain):\n",
    "    labels = dtrain.get_label()\n",
    "    return 'gini', eval_gini(labels, preds)"
   ]
  },
  {
   "cell_type": "code",
   "execution_count": 110,
   "id": "73179f0a",
   "metadata": {},
   "outputs": [],
   "source": [
    "#Modeling\n",
    "from sklearn.model_selection import StratifiedKFold\n",
    "\n",
    "folds = StratifiedKFold(n_splits=5, shuffle=True, random_state=1991)"
   ]
  },
  {
   "cell_type": "code",
   "execution_count": 54,
   "id": "1fabfd5d",
   "metadata": {},
   "outputs": [],
   "source": [
    "#lgbm\n",
    "max_params_lgb = {'bagging_fraction': 0.8043696643500143,\n",
    " 'feature_fraction': 0.6829323879981047,\n",
    " 'lambda_l1': 0.9264555612104627,\n",
    " 'lambda_l2': 0.9774233689434216,\n",
    " 'min_child_samples': 10,\n",
    " 'min_child_weight': 125.68433948868649,\n",
    " 'num_leaves': 28,\n",
    " 'objective': 'binary',\n",
    " 'learning_rate': 0.01,\n",
    " 'bagging_freq': 1,\n",
    " 'verbosity': 0,\n",
    " 'random_state': 1991}"
   ]
  },
  {
   "cell_type": "code",
   "execution_count": 55,
   "id": "7cf61f7e",
   "metadata": {},
   "outputs": [
    {
     "name": "stdout",
     "output_type": "stream",
     "text": [
      "######################################## Fold 1 out of 5 ########################################\n",
      "[LightGBM] [Warning] Auto-choosing row-wise multi-threading, the overhead of testing was 0.128230 seconds.\n",
      "You can set `force_row_wise=true` to remove the overhead.\n",
      "And if memory is not enough, you can set `force_col_wise=true`.\n",
      "Training until validation scores don't improve for 150 rounds\n",
      "[100]\tvalid_0's binary_logloss: 0.153313\tvalid_0's gini: 0.26991\n",
      "[200]\tvalid_0's binary_logloss: 0.152355\tvalid_0's gini: 0.279633\n",
      "[300]\tvalid_0's binary_logloss: 0.151926\tvalid_0's gini: 0.286347\n",
      "[400]\tvalid_0's binary_logloss: 0.151693\tvalid_0's gini: 0.291197\n",
      "[500]\tvalid_0's binary_logloss: 0.151558\tvalid_0's gini: 0.294222\n",
      "[600]\tvalid_0's binary_logloss: 0.151476\tvalid_0's gini: 0.296027\n",
      "[700]\tvalid_0's binary_logloss: 0.15142\tvalid_0's gini: 0.297357\n",
      "[800]\tvalid_0's binary_logloss: 0.151378\tvalid_0's gini: 0.298398\n",
      "[900]\tvalid_0's binary_logloss: 0.151348\tvalid_0's gini: 0.299141\n",
      "[1000]\tvalid_0's binary_logloss: 0.151327\tvalid_0's gini: 0.299547\n",
      "[1100]\tvalid_0's binary_logloss: 0.151321\tvalid_0's gini: 0.299595\n",
      "[1200]\tvalid_0's binary_logloss: 0.151312\tvalid_0's gini: 0.299612\n",
      "[1300]\tvalid_0's binary_logloss: 0.151306\tvalid_0's gini: 0.299812\n",
      "[1400]\tvalid_0's binary_logloss: 0.151311\tvalid_0's gini: 0.299612\n",
      "Early stopping, best iteration is:\n",
      "[1343]\tvalid_0's binary_logloss: 0.151301\tvalid_0's gini: 0.299901\n",
      "Fold 1 gini score: 0.29990106342154393\n",
      "\n",
      "######################################## Fold 2 out of 5 ########################################\n",
      "[LightGBM] [Warning] Auto-choosing row-wise multi-threading, the overhead of testing was 0.119265 seconds.\n",
      "You can set `force_row_wise=true` to remove the overhead.\n",
      "And if memory is not enough, you can set `force_col_wise=true`.\n",
      "Training until validation scores don't improve for 150 rounds\n",
      "[100]\tvalid_0's binary_logloss: 0.153493\tvalid_0's gini: 0.258326\n",
      "[200]\tvalid_0's binary_logloss: 0.152626\tvalid_0's gini: 0.266948\n",
      "[300]\tvalid_0's binary_logloss: 0.152275\tvalid_0's gini: 0.272541\n",
      "[400]\tvalid_0's binary_logloss: 0.152111\tvalid_0's gini: 0.275819\n",
      "[500]\tvalid_0's binary_logloss: 0.152017\tvalid_0's gini: 0.278083\n",
      "[600]\tvalid_0's binary_logloss: 0.151956\tvalid_0's gini: 0.279744\n",
      "[700]\tvalid_0's binary_logloss: 0.151928\tvalid_0's gini: 0.28058\n",
      "[800]\tvalid_0's binary_logloss: 0.151896\tvalid_0's gini: 0.281522\n",
      "[900]\tvalid_0's binary_logloss: 0.151888\tvalid_0's gini: 0.281746\n",
      "[1000]\tvalid_0's binary_logloss: 0.151877\tvalid_0's gini: 0.281962\n",
      "[1100]\tvalid_0's binary_logloss: 0.151864\tvalid_0's gini: 0.282491\n",
      "[1200]\tvalid_0's binary_logloss: 0.151866\tvalid_0's gini: 0.282472\n",
      "[1300]\tvalid_0's binary_logloss: 0.15186\tvalid_0's gini: 0.282563\n",
      "[1400]\tvalid_0's binary_logloss: 0.151875\tvalid_0's gini: 0.282179\n",
      "Early stopping, best iteration is:\n",
      "[1259]\tvalid_0's binary_logloss: 0.151859\tvalid_0's gini: 0.282657\n",
      "Fold 2 gini score: 0.2826565975030582\n",
      "\n",
      "######################################## Fold 3 out of 5 ########################################\n",
      "[LightGBM] [Warning] Auto-choosing row-wise multi-threading, the overhead of testing was 0.104696 seconds.\n",
      "You can set `force_row_wise=true` to remove the overhead.\n",
      "And if memory is not enough, you can set `force_col_wise=true`.\n",
      "Training until validation scores don't improve for 150 rounds\n",
      "[100]\tvalid_0's binary_logloss: 0.153328\tvalid_0's gini: 0.26216\n",
      "[200]\tvalid_0's binary_logloss: 0.152362\tvalid_0's gini: 0.272043\n",
      "[300]\tvalid_0's binary_logloss: 0.151965\tvalid_0's gini: 0.277656\n",
      "[400]\tvalid_0's binary_logloss: 0.15178\tvalid_0's gini: 0.280676\n",
      "[500]\tvalid_0's binary_logloss: 0.151687\tvalid_0's gini: 0.282373\n",
      "[600]\tvalid_0's binary_logloss: 0.151646\tvalid_0's gini: 0.283057\n",
      "[700]\tvalid_0's binary_logloss: 0.15162\tvalid_0's gini: 0.283486\n",
      "[800]\tvalid_0's binary_logloss: 0.15161\tvalid_0's gini: 0.283783\n",
      "[900]\tvalid_0's binary_logloss: 0.151611\tvalid_0's gini: 0.283846\n",
      "[1000]\tvalid_0's binary_logloss: 0.151605\tvalid_0's gini: 0.284104\n",
      "[1100]\tvalid_0's binary_logloss: 0.151608\tvalid_0's gini: 0.284044\n",
      "[1200]\tvalid_0's binary_logloss: 0.151623\tvalid_0's gini: 0.283495\n",
      "Early stopping, best iteration is:\n",
      "[1050]\tvalid_0's binary_logloss: 0.151603\tvalid_0's gini: 0.284188\n",
      "Fold 3 gini score: 0.28418751259279934\n",
      "\n",
      "######################################## Fold 4 out of 5 ########################################\n",
      "[LightGBM] [Warning] Auto-choosing row-wise multi-threading, the overhead of testing was 0.108635 seconds.\n",
      "You can set `force_row_wise=true` to remove the overhead.\n",
      "And if memory is not enough, you can set `force_col_wise=true`.\n",
      "Training until validation scores don't improve for 150 rounds\n",
      "[100]\tvalid_0's binary_logloss: 0.153433\tvalid_0's gini: 0.257073\n",
      "[200]\tvalid_0's binary_logloss: 0.152543\tvalid_0's gini: 0.265984\n",
      "[300]\tvalid_0's binary_logloss: 0.152196\tvalid_0's gini: 0.270994\n",
      "[400]\tvalid_0's binary_logloss: 0.152027\tvalid_0's gini: 0.27413\n",
      "[500]\tvalid_0's binary_logloss: 0.151935\tvalid_0's gini: 0.276269\n",
      "[600]\tvalid_0's binary_logloss: 0.151883\tvalid_0's gini: 0.277652\n",
      "[700]\tvalid_0's binary_logloss: 0.151857\tvalid_0's gini: 0.278271\n",
      "[800]\tvalid_0's binary_logloss: 0.151838\tvalid_0's gini: 0.278855\n",
      "[900]\tvalid_0's binary_logloss: 0.151831\tvalid_0's gini: 0.279124\n",
      "[1000]\tvalid_0's binary_logloss: 0.151822\tvalid_0's gini: 0.279346\n",
      "[1100]\tvalid_0's binary_logloss: 0.151821\tvalid_0's gini: 0.279571\n",
      "Early stopping, best iteration is:\n",
      "[1035]\tvalid_0's binary_logloss: 0.151818\tvalid_0's gini: 0.279598\n",
      "Fold 4 gini score: 0.27959815704242\n",
      "\n",
      "######################################## Fold 5 out of 5 ########################################\n",
      "[LightGBM] [Warning] Auto-choosing row-wise multi-threading, the overhead of testing was 0.140632 seconds.\n",
      "You can set `force_row_wise=true` to remove the overhead.\n",
      "And if memory is not enough, you can set `force_col_wise=true`.\n",
      "Training until validation scores don't improve for 150 rounds\n",
      "[100]\tvalid_0's binary_logloss: 0.153528\tvalid_0's gini: 0.265916\n",
      "[200]\tvalid_0's binary_logloss: 0.152633\tvalid_0's gini: 0.274739\n",
      "[300]\tvalid_0's binary_logloss: 0.15224\tvalid_0's gini: 0.281215\n",
      "[400]\tvalid_0's binary_logloss: 0.15203\tvalid_0's gini: 0.28593\n",
      "[500]\tvalid_0's binary_logloss: 0.151899\tvalid_0's gini: 0.289433\n",
      "[600]\tvalid_0's binary_logloss: 0.151822\tvalid_0's gini: 0.291573\n",
      "[700]\tvalid_0's binary_logloss: 0.15177\tvalid_0's gini: 0.293098\n",
      "[800]\tvalid_0's binary_logloss: 0.15173\tvalid_0's gini: 0.294245\n",
      "[900]\tvalid_0's binary_logloss: 0.151714\tvalid_0's gini: 0.294697\n",
      "[1000]\tvalid_0's binary_logloss: 0.151699\tvalid_0's gini: 0.295185\n",
      "[1100]\tvalid_0's binary_logloss: 0.151696\tvalid_0's gini: 0.295305\n",
      "[1200]\tvalid_0's binary_logloss: 0.151702\tvalid_0's gini: 0.295138\n",
      "Early stopping, best iteration is:\n",
      "[1094]\tvalid_0's binary_logloss: 0.151694\tvalid_0's gini: 0.295364\n",
      "Fold 5 gini score: 0.295363517829689\n",
      "\n"
     ]
    }
   ],
   "source": [
    "import lightgbm as lgbm\n",
    "\n",
    "# One-dimensional array of probabilities for predicting validation data target values with an OOF-trained model\n",
    "oof_val_preds_lgb = np.zeros(X.shape[0]) \n",
    "# One-dimensional array of probabilities for predicting test data target values with an OOF-trained model\n",
    "oof_test_preds_lgb = np.zeros(X_test.shape[0]) \n",
    "\n",
    "# Train, validate, and predict models by OOF\n",
    "for idx, (train_idx, valid_idx) in enumerate(folds.split(X, y)):\n",
    "    # The phrase that separates each fold.\n",
    "    print('#'*40, f'Fold {idx+1} out of {folds.n_splits}', '#'*40)\n",
    "    \n",
    "    # Set train data, valid data\n",
    "    X_train, y_train = X[train_idx], y[train_idx] # Train data\n",
    "    X_valid, y_valid = X[valid_idx], y[valid_idx] # Valid data\n",
    "\n",
    "    # Create lgbm dataset\n",
    "    dtrain = lgbm.Dataset(X_train, y_train) # lgbm train dataset\n",
    "    dvalid = lgbm.Dataset(X_valid, y_valid) # lgbm valid dataset\n",
    "\n",
    "    # Train LightGBM\n",
    "    lgb_model = lgbm.train(params=max_params_lgb, # Optimal Hyper-parameters\n",
    "                           train_set=dtrain, # Train data\n",
    "                           num_boost_round=1500, # Number of boosting iterations\n",
    "                           valid_sets=dvalid, # Valid data for model performance evaluation\n",
    "                           feval=gini_lgb, # Evaluation metrics for validation\n",
    "                           early_stopping_rounds=150, # Early stopping condition\n",
    "                           verbose_eval=100)\n",
    "    \n",
    "    # The number of boosting iterations when the model performs best \n",
    "    best_iter = lgb_model.best_iteration\n",
    "    # Predict probabilities using test data\n",
    "    oof_test_preds_lgb += lgb_model.predict(X_test, \n",
    "                                    num_iteration=best_iter)/folds.n_splits\n",
    "    # OOF prediction for model performance evaluation\n",
    "    oof_val_preds_lgb[valid_idx] += lgb_model.predict(X_valid, num_iteration=best_iter)\n",
    "    \n",
    "    # Normalized Gini coefficient for oof prediction probabilities\n",
    "    gini_score = eval_gini(y_valid, oof_val_preds_lgb[valid_idx])\n",
    "    print(f'Fold {idx+1} gini score: {gini_score}\\n')"
   ]
  },
  {
   "cell_type": "code",
   "execution_count": 96,
   "id": "a06ed37d",
   "metadata": {},
   "outputs": [
    {
     "data": {
      "image/png": "[encoded data removed]",
      "text/plain": [
       "<Figure size 1080x1080 with 1 Axes>"
      ]
     },
     "metadata": {
      "needs_background": "light"
     },
     "output_type": "display_data"
    }
   ],
   "source": [
    "ax = lgbm.plot_importance(lgb_model, max_num_features=40, figsize=(15,15))\n",
    "plt.show()"
   ]
  },
  {
   "cell_type": "code",
   "execution_count": 56,
   "id": "1c75c679",
   "metadata": {},
   "outputs": [],
   "source": [
    "#xgboost\n",
    "max_params_xgb = {'colsample_bytree': 0.8927325521002059,\n",
    " 'gamma': 9.766883037651555,\n",
    " 'max_depth': 7,\n",
    " 'min_child_weight': 6.0577898395058085,\n",
    " 'reg_alpha': 8.136089122187865,\n",
    " 'reg_lambda': 1.385119327658532,\n",
    " 'scale_pos_weight': 1.5142072116395773,\n",
    " 'subsample': 0.717425859940308,\n",
    " 'objective': 'binary:logistic',\n",
    " 'learning_rate': 0.05,\n",
    " 'random_state': 1991}"
   ]
  },
  {
   "cell_type": "code",
   "execution_count": 57,
   "id": "99490b40",
   "metadata": {},
   "outputs": [
    {
     "name": "stdout",
     "output_type": "stream",
     "text": [
      "######################################## Fold 1 out of 5 ########################################\n",
      "[01:31:49] WARNING: /Users/travis/build/dmlc/xgboost/src/learner.cc:1095: Starting in XGBoost 1.3.0, the default evaluation metric used with the objective 'binary:logistic' was changed from 'error' to 'logloss'. Explicitly set eval_metric if you'd like to restore the old behavior.\n",
      "[0]\ttrain-logloss:0.65258\ttrain-gini:0.15851\tvalid-logloss:0.65282\tvalid-gini:0.15941\n",
      "[100]\ttrain-logloss:0.15541\ttrain-gini:0.31140\tvalid-logloss:0.15638\tvalid-gini:0.28408\n",
      "[200]\ttrain-logloss:0.15293\ttrain-gini:0.34519\tvalid-logloss:0.15487\tvalid-gini:0.29439\n",
      "[300]\ttrain-logloss:0.15205\ttrain-gini:0.36650\tvalid-logloss:0.15478\tvalid-gini:0.29574\n",
      "[400]\ttrain-logloss:0.15131\ttrain-gini:0.38496\tvalid-logloss:0.15476\tvalid-gini:0.29548\n",
      "[424]\ttrain-logloss:0.15116\ttrain-gini:0.38814\tvalid-logloss:0.15475\tvalid-gini:0.29599\n"
     ]
    },
    {
     "name": "stderr",
     "output_type": "stream",
     "text": [
      "/Users/doyeonpyun/opt/anaconda3/lib/python3.8/site-packages/xgboost/core.py:101: UserWarning: ntree_limit is deprecated, use `iteration_range` or model slicing instead.\n",
      "  warnings.warn(\n"
     ]
    },
    {
     "name": "stdout",
     "output_type": "stream",
     "text": [
      "Fold 1 gini score: 0.296205806085978\n",
      "\n",
      "######################################## Fold 2 out of 5 ########################################\n",
      "[01:38:56] WARNING: /Users/travis/build/dmlc/xgboost/src/learner.cc:1095: Starting in XGBoost 1.3.0, the default evaluation metric used with the objective 'binary:logistic' was changed from 'error' to 'logloss'. Explicitly set eval_metric if you'd like to restore the old behavior.\n",
      "[0]\ttrain-logloss:0.65280\ttrain-gini:0.17041\tvalid-logloss:0.65286\tvalid-gini:0.15070\n",
      "[100]\ttrain-logloss:0.15528\ttrain-gini:0.31574\tvalid-logloss:0.15674\tvalid-gini:0.26953\n",
      "[200]\ttrain-logloss:0.15269\ttrain-gini:0.35025\tvalid-logloss:0.15534\tvalid-gini:0.27900\n",
      "[300]\ttrain-logloss:0.15172\ttrain-gini:0.37434\tvalid-logloss:0.15526\tvalid-gini:0.28109\n"
     ]
    },
    {
     "ename": "KeyboardInterrupt",
     "evalue": "",
     "output_type": "error",
     "traceback": [
      "\u001b[0;31m---------------------------------------------------------------------------\u001b[0m",
      "\u001b[0;31mKeyboardInterrupt\u001b[0m                         Traceback (most recent call last)",
      "\u001b[0;32m<ipython-input-57-a674554512c1>\u001b[0m in \u001b[0;36m<module>\u001b[0;34m\u001b[0m\n\u001b[1;32m     22\u001b[0m     \u001b[0mwatchlist\u001b[0m \u001b[0;34m=\u001b[0m \u001b[0;34m[\u001b[0m\u001b[0;34m(\u001b[0m\u001b[0mdtrain\u001b[0m\u001b[0;34m,\u001b[0m \u001b[0;34m'train'\u001b[0m\u001b[0;34m)\u001b[0m\u001b[0;34m,\u001b[0m \u001b[0;34m(\u001b[0m\u001b[0mdvalid\u001b[0m\u001b[0;34m,\u001b[0m \u001b[0;34m'valid'\u001b[0m\u001b[0;34m)\u001b[0m\u001b[0;34m]\u001b[0m\u001b[0;34m\u001b[0m\u001b[0;34m\u001b[0m\u001b[0m\n\u001b[1;32m     23\u001b[0m \u001b[0;34m\u001b[0m\u001b[0m\n\u001b[0;32m---> 24\u001b[0;31m     xgb_model = xgb.train(params=max_params_xgb, \n\u001b[0m\u001b[1;32m     25\u001b[0m                            \u001b[0mdtrain\u001b[0m\u001b[0;34m=\u001b[0m\u001b[0mdtrain\u001b[0m\u001b[0;34m,\u001b[0m\u001b[0;34m\u001b[0m\u001b[0;34m\u001b[0m\u001b[0m\n\u001b[1;32m     26\u001b[0m                            \u001b[0mnum_boost_round\u001b[0m\u001b[0;34m=\u001b[0m\u001b[0;36m1000\u001b[0m\u001b[0;34m,\u001b[0m\u001b[0;34m\u001b[0m\u001b[0;34m\u001b[0m\u001b[0m\n",
      "\u001b[0;32m~/opt/anaconda3/lib/python3.8/site-packages/xgboost/training.py\u001b[0m in \u001b[0;36mtrain\u001b[0;34m(params, dtrain, num_boost_round, evals, obj, feval, maximize, early_stopping_rounds, evals_result, verbose_eval, xgb_model, callbacks)\u001b[0m\n\u001b[1;32m    187\u001b[0m     \u001b[0mBooster\u001b[0m \u001b[0;34m:\u001b[0m \u001b[0ma\u001b[0m \u001b[0mtrained\u001b[0m \u001b[0mbooster\u001b[0m \u001b[0mmodel\u001b[0m\u001b[0;34m\u001b[0m\u001b[0;34m\u001b[0m\u001b[0m\n\u001b[1;32m    188\u001b[0m     \"\"\"\n\u001b[0;32m--> 189\u001b[0;31m     bst = _train_internal(params, dtrain,\n\u001b[0m\u001b[1;32m    190\u001b[0m                           \u001b[0mnum_boost_round\u001b[0m\u001b[0;34m=\u001b[0m\u001b[0mnum_boost_round\u001b[0m\u001b[0;34m,\u001b[0m\u001b[0;34m\u001b[0m\u001b[0;34m\u001b[0m\u001b[0m\n\u001b[1;32m    191\u001b[0m                           \u001b[0mevals\u001b[0m\u001b[0;34m=\u001b[0m\u001b[0mevals\u001b[0m\u001b[0;34m,\u001b[0m\u001b[0;34m\u001b[0m\u001b[0;34m\u001b[0m\u001b[0m\n",
      "\u001b[0;32m~/opt/anaconda3/lib/python3.8/site-packages/xgboost/training.py\u001b[0m in \u001b[0;36m_train_internal\u001b[0;34m(params, dtrain, num_boost_round, evals, obj, feval, xgb_model, callbacks, evals_result, maximize, verbose_eval, early_stopping_rounds)\u001b[0m\n\u001b[1;32m     80\u001b[0m             \u001b[0;32mbreak\u001b[0m\u001b[0;34m\u001b[0m\u001b[0;34m\u001b[0m\u001b[0m\n\u001b[1;32m     81\u001b[0m         \u001b[0mbst\u001b[0m\u001b[0;34m.\u001b[0m\u001b[0mupdate\u001b[0m\u001b[0;34m(\u001b[0m\u001b[0mdtrain\u001b[0m\u001b[0;34m,\u001b[0m \u001b[0mi\u001b[0m\u001b[0;34m,\u001b[0m \u001b[0mobj\u001b[0m\u001b[0;34m)\u001b[0m\u001b[0;34m\u001b[0m\u001b[0;34m\u001b[0m\u001b[0m\n\u001b[0;32m---> 82\u001b[0;31m         \u001b[0;32mif\u001b[0m \u001b[0mcallbacks\u001b[0m\u001b[0;34m.\u001b[0m\u001b[0mafter_iteration\u001b[0m\u001b[0;34m(\u001b[0m\u001b[0mbst\u001b[0m\u001b[0;34m,\u001b[0m \u001b[0mi\u001b[0m\u001b[0;34m,\u001b[0m \u001b[0mdtrain\u001b[0m\u001b[0;34m,\u001b[0m \u001b[0mevals\u001b[0m\u001b[0;34m)\u001b[0m\u001b[0;34m:\u001b[0m\u001b[0;34m\u001b[0m\u001b[0;34m\u001b[0m\u001b[0m\n\u001b[0m\u001b[1;32m     83\u001b[0m             \u001b[0;32mbreak\u001b[0m\u001b[0;34m\u001b[0m\u001b[0;34m\u001b[0m\u001b[0m\n\u001b[1;32m     84\u001b[0m \u001b[0;34m\u001b[0m\u001b[0m\n",
      "\u001b[0;32m~/opt/anaconda3/lib/python3.8/site-packages/xgboost/callback.py\u001b[0m in \u001b[0;36mafter_iteration\u001b[0;34m(self, model, epoch, dtrain, evals)\u001b[0m\n\u001b[1;32m    430\u001b[0m             \u001b[0;32mfor\u001b[0m \u001b[0m_\u001b[0m\u001b[0;34m,\u001b[0m \u001b[0mname\u001b[0m \u001b[0;32min\u001b[0m \u001b[0mevals\u001b[0m\u001b[0;34m:\u001b[0m\u001b[0;34m\u001b[0m\u001b[0;34m\u001b[0m\u001b[0m\n\u001b[1;32m    431\u001b[0m                 \u001b[0;32massert\u001b[0m \u001b[0mname\u001b[0m\u001b[0;34m.\u001b[0m\u001b[0mfind\u001b[0m\u001b[0;34m(\u001b[0m\u001b[0;34m'-'\u001b[0m\u001b[0;34m)\u001b[0m \u001b[0;34m==\u001b[0m \u001b[0;34m-\u001b[0m\u001b[0;36m1\u001b[0m\u001b[0;34m,\u001b[0m \u001b[0;34m'Dataset name should not contain `-`'\u001b[0m\u001b[0;34m\u001b[0m\u001b[0;34m\u001b[0m\u001b[0m\n\u001b[0;32m--> 432\u001b[0;31m             \u001b[0mscore\u001b[0m \u001b[0;34m=\u001b[0m \u001b[0mmodel\u001b[0m\u001b[0;34m.\u001b[0m\u001b[0meval_set\u001b[0m\u001b[0;34m(\u001b[0m\u001b[0mevals\u001b[0m\u001b[0;34m,\u001b[0m \u001b[0mepoch\u001b[0m\u001b[0;34m,\u001b[0m \u001b[0mself\u001b[0m\u001b[0;34m.\u001b[0m\u001b[0mmetric\u001b[0m\u001b[0;34m)\u001b[0m\u001b[0;34m\u001b[0m\u001b[0;34m\u001b[0m\u001b[0m\n\u001b[0m\u001b[1;32m    433\u001b[0m             \u001b[0mscore\u001b[0m \u001b[0;34m=\u001b[0m \u001b[0mscore\u001b[0m\u001b[0;34m.\u001b[0m\u001b[0msplit\u001b[0m\u001b[0;34m(\u001b[0m\u001b[0;34m)\u001b[0m\u001b[0;34m[\u001b[0m\u001b[0;36m1\u001b[0m\u001b[0;34m:\u001b[0m\u001b[0;34m]\u001b[0m  \u001b[0;31m# into datasets\u001b[0m\u001b[0;34m\u001b[0m\u001b[0;34m\u001b[0m\u001b[0m\n\u001b[1;32m    434\u001b[0m             \u001b[0;31m# split up `test-error:0.1234`\u001b[0m\u001b[0;34m\u001b[0m\u001b[0;34m\u001b[0m\u001b[0;34m\u001b[0m\u001b[0m\n",
      "\u001b[0;32m~/opt/anaconda3/lib/python3.8/site-packages/xgboost/core.py\u001b[0m in \u001b[0;36meval_set\u001b[0;34m(self, evals, iteration, feval)\u001b[0m\n\u001b[1;32m   1571\u001b[0m         \u001b[0;32mif\u001b[0m \u001b[0mfeval\u001b[0m \u001b[0;32mis\u001b[0m \u001b[0;32mnot\u001b[0m \u001b[0;32mNone\u001b[0m\u001b[0;34m:\u001b[0m\u001b[0;34m\u001b[0m\u001b[0;34m\u001b[0m\u001b[0m\n\u001b[1;32m   1572\u001b[0m             \u001b[0;32mfor\u001b[0m \u001b[0mdmat\u001b[0m\u001b[0;34m,\u001b[0m \u001b[0mevname\u001b[0m \u001b[0;32min\u001b[0m \u001b[0mevals\u001b[0m\u001b[0;34m:\u001b[0m\u001b[0;34m\u001b[0m\u001b[0;34m\u001b[0m\u001b[0m\n\u001b[0;32m-> 1573\u001b[0;31m                 feval_ret = feval(self.predict(dmat, training=False,\n\u001b[0m\u001b[1;32m   1574\u001b[0m                                                output_margin=True), dmat)\n\u001b[1;32m   1575\u001b[0m                 \u001b[0;32mif\u001b[0m \u001b[0misinstance\u001b[0m\u001b[0;34m(\u001b[0m\u001b[0mfeval_ret\u001b[0m\u001b[0;34m,\u001b[0m \u001b[0mlist\u001b[0m\u001b[0;34m)\u001b[0m\u001b[0;34m:\u001b[0m\u001b[0;34m\u001b[0m\u001b[0;34m\u001b[0m\u001b[0m\n",
      "\u001b[0;32m<ipython-input-51-4f270dccaeec>\u001b[0m in \u001b[0;36mgini_xgb\u001b[0;34m(preds, dtrain)\u001b[0m\n\u001b[1;32m      1\u001b[0m \u001b[0;32mdef\u001b[0m \u001b[0mgini_xgb\u001b[0m\u001b[0;34m(\u001b[0m\u001b[0mpreds\u001b[0m\u001b[0;34m,\u001b[0m \u001b[0mdtrain\u001b[0m\u001b[0;34m)\u001b[0m\u001b[0;34m:\u001b[0m\u001b[0;34m\u001b[0m\u001b[0;34m\u001b[0m\u001b[0m\n\u001b[1;32m      2\u001b[0m     \u001b[0mlabels\u001b[0m \u001b[0;34m=\u001b[0m \u001b[0mdtrain\u001b[0m\u001b[0;34m.\u001b[0m\u001b[0mget_label\u001b[0m\u001b[0;34m(\u001b[0m\u001b[0;34m)\u001b[0m\u001b[0;34m\u001b[0m\u001b[0;34m\u001b[0m\u001b[0m\n\u001b[0;32m----> 3\u001b[0;31m     \u001b[0;32mreturn\u001b[0m \u001b[0;34m'gini'\u001b[0m\u001b[0;34m,\u001b[0m \u001b[0meval_gini\u001b[0m\u001b[0;34m(\u001b[0m\u001b[0mlabels\u001b[0m\u001b[0;34m,\u001b[0m \u001b[0mpreds\u001b[0m\u001b[0;34m)\u001b[0m\u001b[0;34m\u001b[0m\u001b[0;34m\u001b[0m\u001b[0m\n\u001b[0m",
      "\u001b[0;32m<ipython-input-49-659506d7de66>\u001b[0m in \u001b[0;36meval_gini\u001b[0;34m(y_true, y_pred)\u001b[0m\n\u001b[1;32m      8\u001b[0m \u001b[0;34m\u001b[0m\u001b[0m\n\u001b[1;32m      9\u001b[0m     \u001b[0;31m# 1) Gini coefficient for predicted values\u001b[0m\u001b[0;34m\u001b[0m\u001b[0;34m\u001b[0m\u001b[0;34m\u001b[0m\u001b[0m\n\u001b[0;32m---> 10\u001b[0;31m     \u001b[0mpred_order\u001b[0m \u001b[0;34m=\u001b[0m \u001b[0my_true\u001b[0m\u001b[0;34m[\u001b[0m\u001b[0my_pred\u001b[0m\u001b[0;34m.\u001b[0m\u001b[0margsort\u001b[0m\u001b[0;34m(\u001b[0m\u001b[0;34m)\u001b[0m\u001b[0;34m]\u001b[0m \u001b[0;31m# Sort y_true values by y_pred size\u001b[0m\u001b[0;34m\u001b[0m\u001b[0;34m\u001b[0m\u001b[0m\n\u001b[0m\u001b[1;32m     11\u001b[0m     \u001b[0mL_pred\u001b[0m \u001b[0;34m=\u001b[0m \u001b[0mnp\u001b[0m\u001b[0;34m.\u001b[0m\u001b[0mcumsum\u001b[0m\u001b[0;34m(\u001b[0m\u001b[0mpred_order\u001b[0m\u001b[0;34m)\u001b[0m \u001b[0;34m/\u001b[0m \u001b[0mnp\u001b[0m\u001b[0;34m.\u001b[0m\u001b[0msum\u001b[0m\u001b[0;34m(\u001b[0m\u001b[0mpred_order\u001b[0m\u001b[0;34m)\u001b[0m \u001b[0;31m# Lorentz Curve\u001b[0m\u001b[0;34m\u001b[0m\u001b[0;34m\u001b[0m\u001b[0m\n\u001b[1;32m     12\u001b[0m     \u001b[0mG_pred\u001b[0m \u001b[0;34m=\u001b[0m \u001b[0mnp\u001b[0m\u001b[0;34m.\u001b[0m\u001b[0msum\u001b[0m\u001b[0;34m(\u001b[0m\u001b[0mL_mid\u001b[0m \u001b[0;34m-\u001b[0m \u001b[0mL_pred\u001b[0m\u001b[0;34m)\u001b[0m \u001b[0;31m# Gini coefficient for predicted values\u001b[0m\u001b[0;34m\u001b[0m\u001b[0;34m\u001b[0m\u001b[0m\n",
      "\u001b[0;31mKeyboardInterrupt\u001b[0m: "
     ]
    }
   ],
   "source": [
    "import xgboost as xgb\n",
    "\n",
    "# One-dimensional array of probabilities for predicting validation data target values with an OOF-trained model\n",
    "oof_val_preds_xgb = np.zeros(X.shape[0]) \n",
    "# One-dimensional array of probabilities for predicting test data target values with an OOF-trained model\n",
    "oof_test_preds_xgb = np.zeros(X_test.shape[0]) \n",
    "\n",
    "# Train, validate, and predict models by OOF\n",
    "for idx, (train_idx, valid_idx) in enumerate(folds.split(X, y)):\n",
    "    # The phrase that separates each fold.\n",
    "    print('#'*40, f'Fold {idx+1} out of {folds.n_splits}', '#'*40)\n",
    "    \n",
    "    # Set train data, valid data\n",
    "    X_train, y_train = X[train_idx], y[train_idx]\n",
    "    X_valid, y_valid = X[valid_idx], y[valid_idx]\n",
    "\n",
    "    # Create xgboost dmatrix\n",
    "    dtrain = xgb.DMatrix(X_train, y_train)\n",
    "    dvalid = xgb.DMatrix(X_valid, y_valid)\n",
    "    dtest = xgb.DMatrix(X_test)\n",
    "    \n",
    "    watchlist = [(dtrain, 'train'), (dvalid, 'valid')]\n",
    "\n",
    "    xgb_model = xgb.train(params=max_params_xgb, \n",
    "                           dtrain=dtrain,\n",
    "                           num_boost_round=1000,\n",
    "                           evals=watchlist,\n",
    "                          maximize=True,\n",
    "                           feval=gini_xgb,\n",
    "                           early_stopping_rounds=150,\n",
    "                           verbose_eval=100)\n",
    "\n",
    "    # The number of boosting iterations when the model performs best \n",
    "    best_iter = xgb_model.best_iteration\n",
    "    # Predict probabilities using test data\n",
    "    oof_test_preds_xgb += xgb_model.predict(dtest, \n",
    "                                    ntree_limit=best_iter)/folds.n_splits\n",
    "    # OOF prediction for model performance evaluation\n",
    "    oof_val_preds_xgb[valid_idx] += xgb_model.predict(dvalid, ntree_limit=best_iter)\n",
    "    \n",
    "    # Normalized Gini coefficient for oof prediction probabilities\n",
    "    gini_score = eval_gini(y_valid, oof_val_preds_xgb[valid_idx])\n",
    "    print(f'Fold {idx+1} gini score: {gini_score}\\n')"
   ]
  },
  {
   "cell_type": "code",
   "execution_count": 70,
   "id": "ca1b410b",
   "metadata": {},
   "outputs": [],
   "source": [
    "cat_params = {'n_est' : 2000,\n",
    "                'seed' : 42,\n",
    "                'n_fold' : 15,\n",
    "                'n_class' : 3}"
   ]
  },
  {
   "cell_type": "code",
   "execution_count": 85,
   "id": "20de7b20",
   "metadata": {},
   "outputs": [
    {
     "name": "stdout",
     "output_type": "stream",
     "text": [
      "######################################## Fold 1 out of 5 ########################################\n"
     ]
    },
    {
     "ename": "TypeError",
     "evalue": "__init__() got an unexpected keyword argument 'params'",
     "output_type": "error",
     "traceback": [
      "\u001b[0;31m---------------------------------------------------------------------------\u001b[0m",
      "\u001b[0;31mTypeError\u001b[0m                                 Traceback (most recent call last)",
      "\u001b[0;32m<ipython-input-85-ec0c26e0024b>\u001b[0m in \u001b[0;36m<module>\u001b[0;34m\u001b[0m\n\u001b[1;32m     16\u001b[0m \u001b[0;34m\u001b[0m\u001b[0m\n\u001b[1;32m     17\u001b[0m     \u001b[0;31m# Train LightGBM\u001b[0m\u001b[0;34m\u001b[0m\u001b[0;34m\u001b[0m\u001b[0;34m\u001b[0m\u001b[0m\n\u001b[0;32m---> 18\u001b[0;31m     cat_model = CatBoostClassifier(params=cat_params, # Optimal Hyper-parameters\n\u001b[0m\u001b[1;32m     19\u001b[0m                            \u001b[0mtrain_set\u001b[0m\u001b[0;34m=\u001b[0m\u001b[0mdtrain\u001b[0m\u001b[0;34m,\u001b[0m \u001b[0;31m# Train data\u001b[0m\u001b[0;34m\u001b[0m\u001b[0;34m\u001b[0m\u001b[0m\n\u001b[1;32m     20\u001b[0m                            \u001b[0mnum_boost_round\u001b[0m\u001b[0;34m=\u001b[0m\u001b[0;36m1500\u001b[0m\u001b[0;34m,\u001b[0m \u001b[0;31m# Number of boosting iterations\u001b[0m\u001b[0;34m\u001b[0m\u001b[0;34m\u001b[0m\u001b[0m\n",
      "\u001b[0;31mTypeError\u001b[0m: __init__() got an unexpected keyword argument 'params'"
     ]
    }
   ],
   "source": [
    "from catboost import CatBoostClassifier, Pool\n",
    "\n",
    "# One-dimensional array of probabilities for predicting validation data target values with an OOF-trained model\n",
    "oof_val_preds_cat = np.zeros(X.shape[0]) \n",
    "# One-dimensional array of probabilities for predicting test data target values with an OOF-trained model\n",
    "oof_test_preds_cat = np.zeros(X_test.shape[0]) \n",
    "\n",
    "# Train, validate, and predict models by OOF\n",
    "for idx, (train_idx, valid_idx) in enumerate(folds.split(X, y)):\n",
    "    # The phrase that separates each fold.\n",
    "    print('#'*40, f'Fold {idx+1} out of {folds.n_splits}', '#'*40)\n",
    "    \n",
    "    # Set train data, valid data\n",
    "    X_train, y_train = X[train_idx], y[train_idx] # Train data\n",
    "    X_valid, y_valid = X[valid_idx], y[valid_idx] # Valid data\n",
    "\n",
    "    # Train LightGBM\n",
    "    cat_model = CatBoostClassifier(, # Optimal Hyper-parameters\n",
    "                           train_set=dtrain, # Train data\n",
    "                           num_boost_round=1500, # Number of boosting iterations\n",
    "                           valid_sets=dvalid, # Valid data for model performance evaluation\n",
    "                           feval=gini_lgb, # Evaluation metrics for validation\n",
    "                           early_stopping_rounds=150, # Early stopping condition\n",
    "                           verbose_eval=100)\n",
    "    \n",
    "    # The number of boosting iterations when the model performs best \n",
    "    best_iter = cat_model.best_iteration\n",
    "    # Predict probabilities using test data\n",
    "    oof_test_preds_cat += cat_model.predict(X_test, \n",
    "                                    num_iteration=best_iter)/folds.n_splits\n",
    "    # OOF prediction for model performance evaluation\n",
    "    oof_val_preds_cat[valid_idx] += cat_model.predict(X_valid, num_iteration=best_iter)\n",
    "    \n",
    "    # Normalized Gini coefficient for oof prediction probabilities\n",
    "    gini_score = eval_gini(y_valid, oof_test_preds_cat[valid_idx])\n",
    "    print(f'Fold {idx+1} gini score: {gini_score}\\n')"
   ]
  },
  {
   "cell_type": "code",
   "execution_count": null,
   "id": "024875e2",
   "metadata": {},
   "outputs": [],
   "source": []
  }
 ],
 "metadata": {
  "kernelspec": {
   "display_name": "Python 3",
   "language": "python",
   "name": "python3"
  },
  "language_info": {
   "codemirror_mode": {
    "name": "ipython",
    "version": 3
   },
   "file_extension": ".py",
   "mimetype": "text/x-python",
   "name": "python",
   "nbconvert_exporter": "python",
   "pygments_lexer": "ipython3",
   "version": "3.8.8"
  }
 },
 "nbformat": 4,
 "nbformat_minor": 5
}
