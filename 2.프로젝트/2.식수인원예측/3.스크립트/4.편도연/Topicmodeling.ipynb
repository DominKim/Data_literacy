{
 "cells": [
  {
   "cell_type": "code",
   "execution_count": 85,
   "id": "996a9f36",
   "metadata": {},
   "outputs": [],
   "source": [
    "import pandas as pd\n",
    "import numpy as np\n",
    "import datetime as dt\n",
    "import matplotlib.pyplot as plt\n",
    "import seaborn as sns\n",
    "%matplotlib inline\n",
    "\n",
    "from konlpy.tag import Twitter\n",
    "from wordcloud import WordCloud\n",
    "from collections import Counter\n",
    "\n",
    "import warnings\n",
    "warnings.filterwarnings('ignore')"
   ]
  },
  {
   "cell_type": "code",
   "execution_count": 86,
   "id": "32dff292",
   "metadata": {},
   "outputs": [],
   "source": [
    "# 한글 깨짐\n",
    "import platform\n",
    "if platform.system() == 'Darwin': #맥\n",
    "        plt.rc('font', family='AppleGothic') \n",
    "elif platform.system() == 'Windows': #윈도우\n",
    "        plt.rc('font', family='Malgun Gothic') \n",
    "elif platform.system() == 'Linux': #리눅스 (구글 콜랩)\n",
    "        #!wget \"https://www.wfonts.com/download/data/2016/06/13/malgun-gothic/malgun.ttf\"\n",
    "        #!mv malgun.ttf /usr/share/fonts/truetype/\n",
    "        #import matplotlib.font_manager as fm \n",
    "        #fm._rebuild() \n",
    "        plt.rc('font', family='Malgun Gothic') \n",
    "plt.rcParams['axes.unicode_minus'] = False #한글 폰트 사용시 마이너스 폰트 깨짐 해결"
   ]
  },
  {
   "cell_type": "code",
   "execution_count": 87,
   "id": "fecf94a7",
   "metadata": {},
   "outputs": [],
   "source": [
    "from konlpy.tag import Kkma"
   ]
  },
  {
   "cell_type": "code",
   "execution_count": 184,
   "id": "1ce0c658",
   "metadata": {},
   "outputs": [],
   "source": [
    "train_raw = pd.read_csv('train.csv',encoding = 'utf-8')\n",
    "test_raw = pd.read_csv('test.csv',encoding = 'utf-8')\n",
    "train = train_raw\n",
    "test = test_raw"
   ]
  },
  {
   "cell_type": "code",
   "execution_count": 185,
   "id": "f5e9383a",
   "metadata": {},
   "outputs": [
    {
     "data": {
      "text/plain": [
       "re.compile(r'<title>(.*)</title>', re.UNICODE)"
      ]
     },
     "execution_count": 185,
     "metadata": {},
     "output_type": "execute_result"
    }
   ],
   "source": [
    "import re\n",
    "re.compile('<title>(.*)</title>')"
   ]
  },
  {
   "cell_type": "code",
   "execution_count": 186,
   "id": "7184b3e3",
   "metadata": {},
   "outputs": [],
   "source": [
    "func = '[-=+,#/\\?:^$.@*\\\"※~&%ㆍ!』\\\\‘|\\(\\)\\[\\]\\<\\>`\\'…》]'\n",
    "\n",
    "def text_preprocessing(x):\n",
    "    func = '[-=+,#/\\?:^$.@*\\\"※~&%ㆍ!』\\\\‘|\\(\\)\\[\\]\\<\\>`\\'…》]'\n",
    "    a = re.sub(\"\\\\(.*?\\\\)\",'',str(x)) #()안에 문자 제거\n",
    "    a = re.sub(func, \"\", a)\n",
    "    a = re.sub(\"[0-9]\", \"\", a)\n",
    "    a = a.replace(\"\\\\n\", \"\")\n",
    "\n",
    "    return a\n",
    "\n",
    "def comment_preprocessing(x):\n",
    "#    twitter = Twitter()\n",
    "    a = kkma.nouns(x)\n",
    "    a = \" \".join(a)\n",
    "    return a\n",
    "\n",
    "#이미 명사형태이므로 형태소 분석기의 nouns()함수를 통해서 명사를 추출하면 메뉴가 너무 잘게 쪼개져 의미가 퇴색되는 듯 보인다.\n",
    "#ex) 쇠불고기 > 쇠+불고기 / 유산슬 > 유+산+슬\n",
    "#또한, 동일한 메뉴의 메뉴명이 바뀌지 않는다고 가정한다면 생소한 메뉴여도 count될 것이므로 nouns로 쪼개지 않는 것이 나아보임."
   ]
  },
  {
   "cell_type": "code",
   "execution_count": 237,
   "id": "f1f4d47b",
   "metadata": {},
   "outputs": [],
   "source": [
    "train[\"중식메뉴\"] = train[\"중식메뉴\"].apply(lambda x: text_preprocessing(x))\n",
    "#train[\"중식메뉴\"] = train[\"중식메뉴\"].apply(lambda x: comment_preprocessing(x))\n",
    "#train['중식메뉴']"
   ]
  },
  {
   "cell_type": "code",
   "execution_count": 238,
   "id": "29ba5de3",
   "metadata": {},
   "outputs": [
    {
     "data": {
      "text/plain": [
       "0            쌀밥잡곡밥  오징어찌개  쇠불고기  계란찜  청포묵무침  요구르트  포기김치  \n",
       "1       쌀밥잡곡밥  김치찌개  가자미튀김  모둠소세지구이  마늘쫑무침  요구르트  배추겉절이  \n",
       "2           카레덮밥  팽이장국  치킨핑거  쫄면야채무침  견과류조림  요구르트  포기김치  \n",
       "3           쌀밥잡곡밥  쇠고기무국  주꾸미볶음  부추전  시금치나물  요구르트  포기김치  \n",
       "4            쌀밥잡곡밥  떡국  돈육씨앗강정  우엉잡채  청경채무침  요구르트  포기김치  \n",
       "                              ...                        \n",
       "1200    쌀밥흑미밥찰현미밥 아욱국 수제함박스테이크 견과류마카로니범벅 생깻잎지 단호박물김치 양...\n",
       "1201     쌀밥수수밥찰현미밥 냉이된장국 동파육 봄동전 청경채버섯숙회초장 무생채 양상추샐러드파인D \n",
       "1202    전주비빔밥약고추장 계란파국 요거닭 올방개묵무침 파프리카해초무침 포기김치 양상추샐러드...\n",
       "1203    쌀밥흑미밥찰현미밥 전주식콩나물해장국 돈육간장불고기 깐풍연근 연두부달래양념장 봄동겉절...\n",
       "1204    쌀밥귀리밥찰현미밥 들깨미역국 교촌간장치킨 옥수수콘치즈구이 가지고추장무침 포기김치요구...\n",
       "Name: 중식메뉴, Length: 1205, dtype: object"
      ]
     },
     "execution_count": 238,
     "metadata": {},
     "output_type": "execute_result"
    }
   ],
   "source": [
    "train['중식메뉴']"
   ]
  },
  {
   "cell_type": "code",
   "execution_count": 239,
   "id": "30822de1",
   "metadata": {},
   "outputs": [],
   "source": [
    "lunch_menu = {}\n",
    "\n",
    "for sentence in train['중식메뉴']:\n",
    "    lst = sentence.split(\" \")\n",
    "    for text in lst:\n",
    "        lunch_menu[text] = words.get(text, 0) + 1 #딕셔너리에 속한 값들 빈도수 세기\n",
    "        \n",
    "#lunch_count = Counter(lunch_menu)\n",
    "#lunch_count"
   ]
  },
  {
   "cell_type": "code",
   "execution_count": 240,
   "id": "2d07542a",
   "metadata": {},
   "outputs": [],
   "source": [
    "del lunch_menu['']"
   ]
  },
  {
   "cell_type": "code",
   "execution_count": 243,
   "id": "b902c7ba",
   "metadata": {},
   "outputs": [],
   "source": [
    "lmenu_tk = list(lunch_menu.keys())\n",
    "lcount_tk = list(lunch_menu.values())"
   ]
  },
  {
   "cell_type": "code",
   "execution_count": 244,
   "id": "6e2f993a",
   "metadata": {},
   "outputs": [
    {
     "data": {
      "text/html": [
       "<div>\n",
       "<style scoped>\n",
       "    .dataframe tbody tr th:only-of-type {\n",
       "        vertical-align: middle;\n",
       "    }\n",
       "\n",
       "    .dataframe tbody tr th {\n",
       "        vertical-align: top;\n",
       "    }\n",
       "\n",
       "    .dataframe thead th {\n",
       "        text-align: right;\n",
       "    }\n",
       "</style>\n",
       "<table border=\"1\" class=\"dataframe\">\n",
       "  <thead>\n",
       "    <tr style=\"text-align: right;\">\n",
       "      <th></th>\n",
       "      <th>menu</th>\n",
       "      <th>count</th>\n",
       "    </tr>\n",
       "  </thead>\n",
       "  <tbody>\n",
       "    <tr>\n",
       "      <th>0</th>\n",
       "      <td>쌀밥잡곡밥</td>\n",
       "      <td>1</td>\n",
       "    </tr>\n",
       "    <tr>\n",
       "      <th>1</th>\n",
       "      <td>오징어찌개</td>\n",
       "      <td>2</td>\n",
       "    </tr>\n",
       "    <tr>\n",
       "      <th>2</th>\n",
       "      <td>쇠불고기</td>\n",
       "      <td>5</td>\n",
       "    </tr>\n",
       "    <tr>\n",
       "      <th>3</th>\n",
       "      <td>계란찜</td>\n",
       "      <td>25</td>\n",
       "    </tr>\n",
       "    <tr>\n",
       "      <th>4</th>\n",
       "      <td>청포묵무침</td>\n",
       "      <td>7</td>\n",
       "    </tr>\n",
       "    <tr>\n",
       "      <th>...</th>\n",
       "      <td>...</td>\n",
       "      <td>...</td>\n",
       "    </tr>\n",
       "    <tr>\n",
       "      <th>1674</th>\n",
       "      <td>전주식콩나물해장국</td>\n",
       "      <td>2</td>\n",
       "    </tr>\n",
       "    <tr>\n",
       "      <th>1675</th>\n",
       "      <td>연두부달래양념장</td>\n",
       "      <td>1</td>\n",
       "    </tr>\n",
       "    <tr>\n",
       "      <th>1676</th>\n",
       "      <td>봄동겉절이양념김</td>\n",
       "      <td>1</td>\n",
       "    </tr>\n",
       "    <tr>\n",
       "      <th>1677</th>\n",
       "      <td>교촌간장치킨</td>\n",
       "      <td>2</td>\n",
       "    </tr>\n",
       "    <tr>\n",
       "      <th>1678</th>\n",
       "      <td>옥수수콘치즈구이</td>\n",
       "      <td>2</td>\n",
       "    </tr>\n",
       "  </tbody>\n",
       "</table>\n",
       "<p>1679 rows × 2 columns</p>\n",
       "</div>"
      ],
      "text/plain": [
       "           menu  count\n",
       "0         쌀밥잡곡밥      1\n",
       "1         오징어찌개      2\n",
       "2          쇠불고기      5\n",
       "3           계란찜     25\n",
       "4         청포묵무침      7\n",
       "...         ...    ...\n",
       "1674  전주식콩나물해장국      2\n",
       "1675   연두부달래양념장      1\n",
       "1676   봄동겉절이양념김      1\n",
       "1677     교촌간장치킨      2\n",
       "1678   옥수수콘치즈구이      2\n",
       "\n",
       "[1679 rows x 2 columns]"
      ]
     },
     "execution_count": 244,
     "metadata": {},
     "output_type": "execute_result"
    }
   ],
   "source": [
    "lmenu_df = pd.DataFrame(lmenu_tk)\n",
    "lmenu_df.columns = ['menu']\n",
    "lcount_df = pd.DataFrame(lcount_tk)\n",
    "lcount_df.columns = ['count']\n",
    "lunch_df = pd.concat([lmenu_df,lcount_df],axis =1)\n",
    "#lunch_df.index = lunch_df['menu']\n",
    "#lunch_df = lunch_df.drop(['menu'],axis = 1)\n",
    "lunch_df"
   ]
  },
  {
   "cell_type": "code",
   "execution_count": 232,
   "id": "1483b613",
   "metadata": {},
   "outputs": [],
   "source": [
    "from sklearn.feature_extraction.text import CountVectorizer\n",
    "from sklearn.cluster import KMeans\n",
    "from sklearn.decomposition import PCA\n",
    "from sklearn.cluster import AgglomerativeClustering\n",
    "import scipy.cluster.hierarchy as shc\n",
    "from sklearn.feature_extraction.text import TfidfVectorizer\n",
    "from sklearn.decomposition import TruncatedSVD"
   ]
  },
  {
   "cell_type": "code",
   "execution_count": 220,
   "id": "369266e7",
   "metadata": {},
   "outputs": [
    {
     "data": {
      "text/plain": [
       "array([2, 2, 2, ..., 2, 2, 2])"
      ]
     },
     "execution_count": 220,
     "metadata": {},
     "output_type": "execute_result"
    }
   ],
   "source": [
    "lunch_cluster = AgglomerativeClustering(n_clusters = 4, linkage = \"ward\")\n",
    "lunch_cluster.fit_predict(lunch_df)"
   ]
  },
  {
   "cell_type": "code",
   "execution_count": 221,
   "id": "6f112e51",
   "metadata": {},
   "outputs": [
    {
     "data": {
      "image/png": "[encoded data removed]",
      "text/plain": [
       "<Figure size 720x504 with 1 Axes>"
      ]
     },
     "metadata": {
      "needs_background": "light"
     },
     "output_type": "display_data"
    }
   ],
   "source": [
    "# 덴드로그램 작성하기\n",
    "plt.figure(figsize = (10, 7))\n",
    "plt.title(\"Customer Dendrograms\")\n",
    "dend = shc.dendrogram(shc.linkage(lunch_df, method = \"ward\"))\n",
    "plt.show()"
   ]
  },
  {
   "cell_type": "code",
   "execution_count": null,
   "id": "9d6e64c8",
   "metadata": {},
   "outputs": [],
   "source": []
  },
  {
   "cell_type": "code",
   "execution_count": 230,
   "id": "935836ef",
   "metadata": {},
   "outputs": [],
   "source": [
    "vectorizer = TfidfVectorizer(stop_words='english', \n",
    "max_features= 2000, # 상위 1,000개의 단어를 보존 \n",
    "max_df = 0.5, \n",
    "smooth_idf=True)"
   ]
  },
  {
   "cell_type": "code",
   "execution_count": null,
   "id": "941e6275",
   "metadata": {},
   "outputs": [],
   "source": [
    "detokenized_doc = []\n",
    "for i in range(len()):\n",
    "    t = ' '.join(tokenized_doc[i])\n",
    "    detokenized_doc.append(t)"
   ]
  },
  {
   "cell_type": "code",
   "execution_count": null,
   "id": "3cf01be2",
   "metadata": {},
   "outputs": [],
   "source": []
  },
  {
   "cell_type": "code",
   "execution_count": null,
   "id": "eb29c711",
   "metadata": {},
   "outputs": [],
   "source": []
  },
  {
   "cell_type": "code",
   "execution_count": null,
   "id": "a5488ca2",
   "metadata": {},
   "outputs": [],
   "source": []
  },
  {
   "cell_type": "code",
   "execution_count": null,
   "id": "57658ff7",
   "metadata": {},
   "outputs": [],
   "source": []
  },
  {
   "cell_type": "code",
   "execution_count": null,
   "id": "9a5e6e26",
   "metadata": {},
   "outputs": [],
   "source": []
  },
  {
   "cell_type": "code",
   "execution_count": null,
   "id": "33441851",
   "metadata": {},
   "outputs": [],
   "source": []
  },
  {
   "cell_type": "code",
   "execution_count": 231,
   "id": "ea80a9e1",
   "metadata": {},
   "outputs": [
    {
     "data": {
      "text/plain": [
       "(1205, 1676)"
      ]
     },
     "execution_count": 231,
     "metadata": {},
     "output_type": "execute_result"
    }
   ],
   "source": [
    "X = vectorizer.fit_transform(train['중식메뉴'])\n",
    "X.shape # TF-IDF 행렬의 크기 확인"
   ]
  },
  {
   "cell_type": "code",
   "execution_count": 235,
   "id": "a3c3e955",
   "metadata": {},
   "outputs": [
    {
     "data": {
      "text/plain": [
       "10"
      ]
     },
     "execution_count": 235,
     "metadata": {},
     "output_type": "execute_result"
    }
   ],
   "source": [
    "svd_model = TruncatedSVD(n_components=10, algorithm='randomized', n_iter=100, random_state=122)\n",
    "svd_model.fit(X)\n",
    "len(svd_model.components_)"
   ]
  },
  {
   "cell_type": "code",
   "execution_count": 236,
   "id": "c5f76b83",
   "metadata": {},
   "outputs": [
    {
     "name": "stdout",
     "output_type": "stream",
     "text": [
      "Topic 1: [('배추겉절이', 0.35315), ('콩나물국', 0.21619), ('열무김치', 0.19496), ('알타리김치', 0.18532), ('깍두기', 0.16551)]\n",
      "Topic 2: [('배추겉절이', 0.47144), ('맑은국', 0.32745), ('카레덮밥', 0.16805), ('가쯔오장국', 0.12065), ('오이무침', 0.11719)]\n",
      "Topic 3: [('맑은국', 0.41875), ('오이무침', 0.343), ('카레덮밥', 0.24844), ('콩나물국', 0.22747), ('파스타샐러드', 0.16238)]\n",
      "Topic 4: [('버섯불고기', 0.38521), ('배추겉절이', 0.34182), ('콩나물국', 0.23318), ('고추장찌개', 0.18698), ('오이무침', 0.11657)]\n",
      "Topic 5: [('훈제오리구이', 0.47862), ('배추된장국', 0.21299), ('쌈무부추생채', 0.19543), ('열무김치', 0.15864), ('열무된장국', 0.15638)]\n",
      "Topic 6: [('콩나물국', 0.50578), ('훈제오리구이', 0.20892), ('깍두기', 0.17751), ('배추겉절이', 0.17129), ('짬뽕불고기', 0.17058)]\n",
      "Topic 7: [('버섯불고기', 0.32717), ('훈제오리구이', 0.25589), ('고추장찌개', 0.21912), ('계란말이', 0.21701), ('열무김치', 0.15074)]\n",
      "Topic 8: [('오징어볶음', 0.35041), ('닭갈비', 0.34001), ('쇠고기샤브국', 0.24508), ('열무김치', 0.21426), ('무생채', 0.1393)]\n",
      "Topic 9: [('닭갈비', 0.37929), ('깍두기', 0.368), ('배추된장국', 0.18934), ('콩나물무침', 0.15929), ('제육볶음', 0.1264)]\n",
      "Topic 10: [('닭갈비', 0.35061), ('어묵국', 0.27744), ('콩나물국', 0.20112), ('열무김치', 0.17276), ('돈육굴소스볶음', 0.14704)]\n"
     ]
    }
   ],
   "source": [
    "terms = vectorizer.get_feature_names() # 단어 집합. 1,000개의 단어가 저장됨.\n",
    "\n",
    "def get_topics(components, feature_names, n=5):\n",
    "    for idx, topic in enumerate(components):\n",
    "        print(\"Topic %d:\" % (idx+1), [(feature_names[i], topic[i].round(5)) for i in topic.argsort()[:-n - 1:-1]])\n",
    "get_topics(svd_model.components_,terms)"
   ]
  },
  {
   "cell_type": "code",
   "execution_count": null,
   "id": "2f2dfb9e",
   "metadata": {},
   "outputs": [],
   "source": []
  },
  {
   "cell_type": "code",
   "execution_count": null,
   "id": "b32a7116",
   "metadata": {},
   "outputs": [],
   "source": [
    "from sklearn.datasets import fetch_20newsgroups\n",
    "# LDA는 빈도수에만 기반하는 CountVectorizer사용함!\n",
    "# CountVectorizer로 텍스트 데이터들 단어 빈도수에 기반해 벡터화시키기(fit_transform까지!)\n",
    "count_vect = CountVectorizer(max_df=0.95, max_features=1000,\n",
    "                            min_df=2, stop_words='english',\n",
    "                            ngram_range=(1,2))\n",
    "ftr_vect = count_vect.fit_transform(news_df.data)\n",
    "# LDA클래스를 이용해서 피처 벡터화시킨 것을 토픽모델링 시키기\n",
    "# 8개의 주제만 뽑았으니 n_components(토픽개수) 8로 설정\n",
    "lda = LatentDirichletAllocation(n_components=8, random_state=42)\n",
    "lda.fit(ftr_vect)\n",
    "# components_속성은 8개의 토픽별(row)로 1000개의 feature(단어)들의 분포수치(column)를 보여줌\n",
    "print(lda.components_.shape)\n",
    "print(lda.components_)"
   ]
  },
  {
   "cell_type": "code",
   "execution_count": null,
   "id": "938b370b",
   "metadata": {},
   "outputs": [],
   "source": []
  },
  {
   "cell_type": "code",
   "execution_count": 249,
   "id": "1ee2c753",
   "metadata": {},
   "outputs": [
    {
     "data": {
      "text/html": [
       "<div>\n",
       "<style scoped>\n",
       "    .dataframe tbody tr th:only-of-type {\n",
       "        vertical-align: middle;\n",
       "    }\n",
       "\n",
       "    .dataframe tbody tr th {\n",
       "        vertical-align: top;\n",
       "    }\n",
       "\n",
       "    .dataframe thead th {\n",
       "        text-align: right;\n",
       "    }\n",
       "</style>\n",
       "<table border=\"1\" class=\"dataframe\">\n",
       "  <thead>\n",
       "    <tr style=\"text-align: right;\">\n",
       "      <th></th>\n",
       "      <th>중식메뉴</th>\n",
       "    </tr>\n",
       "  </thead>\n",
       "  <tbody>\n",
       "    <tr>\n",
       "      <th>0</th>\n",
       "      <td>쌀밥잡곡밥  오징어찌개  쇠불고기  계란찜  청포묵무침  요구르트  포기김치</td>\n",
       "    </tr>\n",
       "    <tr>\n",
       "      <th>1</th>\n",
       "      <td>쌀밥잡곡밥  김치찌개  가자미튀김  모둠소세지구이  마늘쫑무침  요구르트  배추겉절이</td>\n",
       "    </tr>\n",
       "    <tr>\n",
       "      <th>2</th>\n",
       "      <td>카레덮밥  팽이장국  치킨핑거  쫄면야채무침  견과류조림  요구르트  포기김치</td>\n",
       "    </tr>\n",
       "    <tr>\n",
       "      <th>3</th>\n",
       "      <td>쌀밥잡곡밥  쇠고기무국  주꾸미볶음  부추전  시금치나물  요구르트  포기김치</td>\n",
       "    </tr>\n",
       "    <tr>\n",
       "      <th>4</th>\n",
       "      <td>쌀밥잡곡밥  떡국  돈육씨앗강정  우엉잡채  청경채무침  요구르트  포기김치</td>\n",
       "    </tr>\n",
       "    <tr>\n",
       "      <th>...</th>\n",
       "      <td>...</td>\n",
       "    </tr>\n",
       "    <tr>\n",
       "      <th>1200</th>\n",
       "      <td>쌀밥흑미밥찰현미밥 아욱국 수제함박스테이크 견과류마카로니범벅 생깻잎지 단호박물김치 양...</td>\n",
       "    </tr>\n",
       "    <tr>\n",
       "      <th>1201</th>\n",
       "      <td>쌀밥수수밥찰현미밥 냉이된장국 동파육 봄동전 청경채버섯숙회초장 무생채 양상추샐러드파인D</td>\n",
       "    </tr>\n",
       "    <tr>\n",
       "      <th>1202</th>\n",
       "      <td>전주비빔밥약고추장 계란파국 요거닭 올방개묵무침 파프리카해초무침 포기김치 양상추샐러드...</td>\n",
       "    </tr>\n",
       "    <tr>\n",
       "      <th>1203</th>\n",
       "      <td>쌀밥흑미밥찰현미밥 전주식콩나물해장국 돈육간장불고기 깐풍연근 연두부달래양념장 봄동겉절...</td>\n",
       "    </tr>\n",
       "    <tr>\n",
       "      <th>1204</th>\n",
       "      <td>쌀밥귀리밥찰현미밥 들깨미역국 교촌간장치킨 옥수수콘치즈구이 가지고추장무침 포기김치요구...</td>\n",
       "    </tr>\n",
       "  </tbody>\n",
       "</table>\n",
       "<p>1205 rows × 1 columns</p>\n",
       "</div>"
      ],
      "text/plain": [
       "                                                   중식메뉴\n",
       "0          쌀밥잡곡밥  오징어찌개  쇠불고기  계란찜  청포묵무침  요구르트  포기김치  \n",
       "1     쌀밥잡곡밥  김치찌개  가자미튀김  모둠소세지구이  마늘쫑무침  요구르트  배추겉절이  \n",
       "2         카레덮밥  팽이장국  치킨핑거  쫄면야채무침  견과류조림  요구르트  포기김치  \n",
       "3         쌀밥잡곡밥  쇠고기무국  주꾸미볶음  부추전  시금치나물  요구르트  포기김치  \n",
       "4          쌀밥잡곡밥  떡국  돈육씨앗강정  우엉잡채  청경채무침  요구르트  포기김치  \n",
       "...                                                 ...\n",
       "1200  쌀밥흑미밥찰현미밥 아욱국 수제함박스테이크 견과류마카로니범벅 생깻잎지 단호박물김치 양...\n",
       "1201   쌀밥수수밥찰현미밥 냉이된장국 동파육 봄동전 청경채버섯숙회초장 무생채 양상추샐러드파인D \n",
       "1202  전주비빔밥약고추장 계란파국 요거닭 올방개묵무침 파프리카해초무침 포기김치 양상추샐러드...\n",
       "1203  쌀밥흑미밥찰현미밥 전주식콩나물해장국 돈육간장불고기 깐풍연근 연두부달래양념장 봄동겉절...\n",
       "1204  쌀밥귀리밥찰현미밥 들깨미역국 교촌간장치킨 옥수수콘치즈구이 가지고추장무침 포기김치요구...\n",
       "\n",
       "[1205 rows x 1 columns]"
      ]
     },
     "execution_count": 249,
     "metadata": {},
     "output_type": "execute_result"
    }
   ],
   "source": [
    "lunch_df = pd.DataFrame(train['중식메뉴'])\n",
    "lunch_df"
   ]
  },
  {
   "cell_type": "code",
   "execution_count": 252,
   "id": "5607999b",
   "metadata": {},
   "outputs": [],
   "source": [
    "#stop_words = stopwords.words('english') # NLTK로부터 불용어를 받아옵니다.\n",
    "tokenized_doc = lunch_df['중식메뉴'].apply(lambda x: x.split()) # 토큰화\n",
    "#tokenized_doc = tokenized_doc.apply(lambda x: [item for item in x if item not in stop_words])"
   ]
  },
  {
   "cell_type": "code",
   "execution_count": 253,
   "id": "c13057cd",
   "metadata": {},
   "outputs": [
    {
     "name": "stdout",
     "output_type": "stream",
     "text": [
      "['쌀밥잡곡밥', '김치찌개', '가자미튀김', '모둠소세지구이', '마늘쫑무침', '요구르트', '배추겉절이']\n"
     ]
    }
   ],
   "source": [
    "print(tokenized_doc[1])"
   ]
  },
  {
   "cell_type": "code",
   "execution_count": 255,
   "id": "09b6d684",
   "metadata": {},
   "outputs": [],
   "source": [
    "detokenized_doc = []\n",
    "for i in range(len(lunch_df)):\n",
    "    t = ' '.join(tokenized_doc[i])\n",
    "    detokenized_doc.append(t)\n",
    "\n",
    "lunch_df['중식메뉴'] = detokenized_doc"
   ]
  },
  {
   "cell_type": "code",
   "execution_count": 256,
   "id": "c6418ea1",
   "metadata": {},
   "outputs": [
    {
     "data": {
      "text/plain": [
       "'쌀밥잡곡밥 김치찌개 가자미튀김 모둠소세지구이 마늘쫑무침 요구르트 배추겉절이'"
      ]
     },
     "execution_count": 256,
     "metadata": {},
     "output_type": "execute_result"
    }
   ],
   "source": [
    "lunch_df['중식메뉴'][1]"
   ]
  },
  {
   "cell_type": "code",
   "execution_count": 259,
   "id": "724de479",
   "metadata": {},
   "outputs": [
    {
     "data": {
      "text/plain": [
       "(1205, 1676)"
      ]
     },
     "execution_count": 259,
     "metadata": {},
     "output_type": "execute_result"
    }
   ],
   "source": [
    "vectorizer = TfidfVectorizer(\n",
    "max_features= 2000, # 상위 1,000개의 단어를 보존 \n",
    "max_df = 0.5, \n",
    "smooth_idf=True)\n",
    "\n",
    "X = vectorizer.fit_transform(lunch_df['중식메뉴'])\n",
    "X.shape # TF-IDF 행렬의 크기 확인"
   ]
  },
  {
   "cell_type": "code",
   "execution_count": 260,
   "id": "9f754a63",
   "metadata": {},
   "outputs": [
    {
     "name": "stdout",
     "output_type": "stream",
     "text": [
      "[(2, 1), (4, 1), (7, 1), (8, 1), (9, 1), (10, 1), (11, 1)]\n"
     ]
    }
   ],
   "source": [
    "from gensim import corpora\n",
    "dictionary = corpora.Dictionary(tokenized_doc)\n",
    "corpus = [dictionary.doc2bow(text) for text in tokenized_doc]\n",
    "print(corpus[1]) # 수행된 결과에서 두번째 뉴스 출력. 첫번째 문서의 인덱스는 0"
   ]
  },
  {
   "cell_type": "code",
   "execution_count": 261,
   "id": "36b675f3",
   "metadata": {},
   "outputs": [
    {
     "name": "stdout",
     "output_type": "stream",
     "text": [
      "쌀밥잡곡밥\n"
     ]
    }
   ],
   "source": [
    "print(dictionary[2])"
   ]
  },
  {
   "cell_type": "code",
   "execution_count": 262,
   "id": "40093f4e",
   "metadata": {},
   "outputs": [
    {
     "data": {
      "text/plain": [
       "1679"
      ]
     },
     "execution_count": 262,
     "metadata": {},
     "output_type": "execute_result"
    }
   ],
   "source": [
    "len(dictionary)"
   ]
  },
  {
   "cell_type": "code",
   "execution_count": null,
   "id": "fe6b5560",
   "metadata": {},
   "outputs": [],
   "source": [
    "#pip install pyLDAvis"
   ]
  },
  {
   "cell_type": "code",
   "execution_count": 277,
   "id": "23fbd043",
   "metadata": {},
   "outputs": [
    {
     "name": "stderr",
     "output_type": "stream",
     "text": [
      "/Users/doyeonpyun/opt/anaconda3/lib/python3.8/site-packages/ipykernel/ipkernel.py:287: DeprecationWarning: `should_run_async` will not call `transform_cell` automatically in the future. Please pass the result to `transformed_cell` argument and any exception that happen during thetransform in `preprocessing_exc_tuple` in IPython 7.17 and above.\n",
      "  and should_run_async(code)\n"
     ]
    },
    {
     "name": "stdout",
     "output_type": "stream",
     "text": [
      "(0, '0.059*\"쌀밥잡곡밥\" + 0.059*\"포기김치\" + 0.019*\"쌀밥흑미밥찰현미밥\" + 0.015*\"배추겉절이\"')\n",
      "(1, '0.135*\"쌀밥잡곡밥\" + 0.121*\"포기김치\" + 0.008*\"콩나물국\" + 0.008*\"된장찌개\"')\n",
      "(2, '0.093*\"포기김치\" + 0.076*\"쌀밥잡곡밥\" + 0.014*\"맑은국\" + 0.012*\"열무김치\"')\n",
      "(3, '0.057*\"쌀밥잡곡밥\" + 0.028*\"포기김치\" + 0.018*\"배추겉절이\" + 0.013*\"부대찌개\"')\n"
     ]
    }
   ],
   "source": [
    "import gensim\n",
    "NUM_TOPICS = 4 #20개의 토픽, k=20\n",
    "ldamodel = gensim.models.ldamodel.LdaModel(corpus, num_topics = NUM_TOPICS, id2word=dictionary, passes=15)\n",
    "topics = ldamodel.print_topics(num_words=4)\n",
    "for topic in topics:\n",
    "    print(topic)"
   ]
  },
  {
   "cell_type": "code",
   "execution_count": 278,
   "id": "8389f581",
   "metadata": {},
   "outputs": [
    {
     "name": "stderr",
     "output_type": "stream",
     "text": [
      "/Users/doyeonpyun/opt/anaconda3/lib/python3.8/site-packages/ipykernel/ipkernel.py:287: DeprecationWarning: `should_run_async` will not call `transform_cell` automatically in the future. Please pass the result to `transformed_cell` argument and any exception that happen during thetransform in `preprocessing_exc_tuple` in IPython 7.17 and above.\n",
      "  and should_run_async(code)\n"
     ]
    },
    {
     "data": {
      "text/html": [
       "\n",
       "<link rel=\"stylesheet\" type=\"text/css\" href=\"https://cdn.jsdelivr.net/gh/bmabey/pyLDAvis@3.2.2/pyLDAvis/js/ldavis.v1.0.0.css\">\n",
       "\n",
       "\n",
       "<div id=\"ldavis_el583341402299605598567524109041\"></div>\n",
       "<script type=\"text/javascript\">\n",
       "\n",
       "var ldavis_el583341402299605598567524109041_data = {\"mdsDat\": {\"x\": [-0.13782213579294766, 0.0013095061046948205, 0.07867152773083805, 0.057841101957414834], \"y\": [0.027392303673625364, -0.10358255457674861, -0.023812297064769138, 0.10000254796789236], \"topics\": [1, 2, 3, 4], \"cluster\": [1, 1, 1, 1], \"Freq\": [45.28428308992859, 25.992581610091055, 18.4067165350915, 10.316418764888855]}, \"tinfo\": {\"Term\": [\"\\ubc30\\ucd94\\uac89\\uc808\\uc774\", \"\\ub9d1\\uc740\\uad6d\", \"\\uc300\\ubc25\\ud751\\ubbf8\\ubc25\\ucc30\\ud604\\ubbf8\\ubc25\", \"\\ud6c8\\uc81c\\uc624\\ub9ac\\uad6c\\uc774\", \"\\uc5f4\\ubb34\\uae40\\uce58\", \"\\ubbf8\\uc18c\\uc7a5\\uad6d\", \"\\ubd80\\ub300\\ucc0c\\uac1c\", \"\\ub41c\\uc7a5\\ucc0c\\uac1c\", \"\\ucf69\\ub098\\ubb3c\\ubb34\\uce68\", \"\\ub098\\ubb3c\\ube44\\ube54\\ubc25\", \"\\ucf69\\ub098\\ubb3c\\uad6d\", \"\\uc300\\ubc25\\uc7a1\\uace1\\ubc25\", \"\\uce74\\ub808\\ub36e\\ubc25\", \"\\ub9e4\\uc6b4\\ub3fc\\uc9c0\\uac08\\ube44\\ucc1c\", \"\\uba54\\ucd94\\ub9ac\\uc54c\\uc870\\ub9bc\", \"\\ub4f1\\uac08\\ube44\\uae40\\uce58\\ucc1c\", \"\\uce58\\ud0a8\\ud551\\uac70\", \"\\uc0ac\\ucc9c\\uc2dd\\ud0d5\\uc218\\uc721\", \"\\uac00\\ucbd4\\uc624\\uc7a5\\uad6d\", \"\\ucf69\\ub098\\ubb3c\\ubc25\", \"\\ubc84\\uc12f\\ubd88\\uace0\\uae30\", \"\\uc544\\uc0ad\\uace0\\ucd94\\ubb34\\uce68\", \"\\uae40\\uce58\\uc804\", \"\\ub3c8\\uc721\\uad74\\uc18c\\uc2a4\\ubcf6\\uc74c\", \"\\uccad\\uacbd\\ucc44\\uc0dd\\ucc44\", \"\\ucac4\\uba74\\ubb34\\uce68\", \"\\ud574\\ubb3c\\ub204\\ub8fd\\uc9c0\\ud0d5\", \"\\ub9c8\\ub298\\ucad1\\ubcf6\\uc74c\", \"\\ub545\\ucf69\\uc870\\ub9bc\", \"\\uc11d\\ubc15\\uc9c0\", \"\\ub3c8\\uc721\\uad74\\uc18c\\uc2a4\\ubcf6\\uc74c\", \"\\uc2dc\\uae08\\uce58\\ud504\\ub9ac\\ud0c0\\ud0c0\", \"\\ubc84\\uc12f\\ubd88\\uace0\\uae30\", \"\\ubd80\\ucd94\\uc0dd\\ucc44\", \"\\uc720\\uc790\\uccad\\uc81c\\uc721\\ubcf6\\uc74c\", \"\\uad74\\ube44\\uad6c\\uc774\", \"\\ud64d\\uc5b4\\ucc44\\ubb34\\uce68\", \"\\uc1e0\\uace0\\uae30\\uc7a5\\uc870\\ub9bc\", \"\\ub2ed\\uac08\\ube44\", \"\\ub2e8\\ud638\\ubc15\\uc601\\uc591\\ubc25\", \"\\uc7a1\\ucc44\", \"\\ub450\\ubd80\\uc0c8\\uc2f9\\uad6c\\uc774\", \"\\uace0\\uae30\\uc804\", \"\\ud574\\ubb3c\\ub41c\\uc7a5\\ucc0c\\uac1c\", \"\\uc720\\ucc44\\ub098\\ubb3c\", \"\\uc21c\\uc0b4\\ud30c\\ub2ed\", \"\\uc62c\\ubc29\\uac1c\\ubb35\\ubb34\\uce68\", \"\\ub3c4\\ud1a0\\ub9ac\\ubb35\\ub0c9\\uad6d\", \"\\uc721\\uac1c\\uc7a5\", \"\\ub3d9\\ud30c\\uc0bc\\uacb9\\uc218\\uc721\", \"\\uc218\\uc81c\\ub3c8\\uae4c\\uc2a4\", \"\\ubaa8\\ub4ec\\uc308\", \"\\ubaa8\\ub4ec\\uc308\\uc308\\uc7a5\", \"\\uae50\\ud48d\\uae30\", \"\\ubc29\\ud48d\\ub098\\ubb3c\", \"\\uc18c\\uace0\\uae30\\ub099\\uc9c0\\ubcf6\\uc74c\", \"\\uae7b\\uc78e\\uc9c0\", \"\\uadfc\\ub300\\ub41c\\uc7a5\\uad6d\", \"\\ub9e4\\uc6b4\\ucf69\\ub098\\ubb3c\\uad6d\", \"\\uc5bc\\uac08\\uc774\\uad6d\", \"\\uc1e0\\uace0\\uae30\\uc0e4\\ube0c\\uad6d\", \"\\ucad1\\uc0c1\\ucd94\\ubb34\\uce68\", \"\\uc624\\uc9d5\\uc5b4\\ubcf6\\uc74c\", \"\\uace0\\ucd94\\uc7a1\\ucc44\\uaf43\\ube75\", \"\\uace0\\ucd94\\uc7a5\\ucc0c\\uac1c\", \"\\uc300\\ubc25\\uc7a1\\uace1\\ubc25\", \"\\ud3ec\\uae30\\uae40\\uce58\", \"\\ub9c8\\ub298\\ucad1\\ubb34\\uce68\", \"\\ub41c\\uc7a5\\ucc0c\\uac1c\", \"\\uacc4\\ub780\\ucc1c\", \"\\uc5f0\\ub450\\ubd80\\uc591\\ub150\\uc7a5\", \"\\ucf69\\ub098\\ubb3c\\uad6d\", \"\\uc9ec\\ubf55\\ubd88\\uace0\\uae30\", \"\\uadfc\\ub300\\uad6d\", \"\\uacc4\\ub780\\ub9d0\\uc774\", \"\\ubb34\\uc0dd\\ucc44\", \"\\uc5f4\\ubb34\\ub41c\\uc7a5\\uad6d\", \"\\uaf43\\uac8c\\ud0d5\", \"\\uc54c\\ud0c0\\ub9ac\\uae40\\uce58\", \"\\uae4d\\ub450\\uae30\", \"\\uc5b4\\ubb35\\uad6d\", \"\\ubc30\\ucd94\\uac89\\uc808\\uc774\", \"\\ubc30\\ucd94\\ub41c\\uc7a5\\uad6d\", \"\\uc624\\uc774\\ubb34\\uce68\", \"\\uc544\\uc6b1\\uad6d\", \"\\ud6c8\\uc81c\\uc624\\ub9ac\\uad6c\\uc774\", \"\\uce74\\ub808\\ub36e\\ubc25\", \"\\uce58\\ud0a8\\ud551\\uac70\", \"\\ub545\\ucf69\\uc870\\ub9bc\", \"\\ucac4\\uba74\\ubb34\\uce68\", \"\\uccad\\uacbd\\ucc44\\uc0dd\\ucc44\", \"\\uc1e0\\uace0\\uae30\\ubb34\\uad6d\", \"\\ub3c8\\uc721\\uac15\\uc815\", \"\\uc138\\ubc1c\\ub098\\ubb3c\", \"\\uc624\\uc9d5\\uc5b4\\ubcf6\\uc74c\\uc18c\\uba74\", \"\\ubb34\\uc308\\uc591\\ud30c\\uc808\\uc784\", \"\\uc2dc\\uc800\\uc0d0\\ub7ec\\ub4dc\", \"\\uace4\\ub4dc\\ub808\\ubc25\\uc591\\ub150\\uc7a5\", \"\\uc308\\ubb34\\uc591\\ud30c\\uc808\\uc784\", \"\\uc720\\uc0b0\\uc2ac\", \"\\ub450\\ubd80\\uad6c\\uc774\", \"\\uc720\\ubd80\\uc8fc\\uba38\\ub2c8\\uad6d\", \"\\ub9c8\\ub298\\uac04\\uc7a5\\uce58\\ud0a8\", \"\\ub3d9\\ud0dc\\ud0d5\", \"\\uae50\\ud48d\\uc721\", \"\\ub2e8\\ubc30\\ucd94\\ub098\\ubb3c\", \"\\uace4\\ub4dc\\ub808\\ubc25\\uac15\\ub41c\\uc7a5\", \"\\uac1c\\uc131\\uac10\\uc790\\ub9cc\\ub450\", \"\\uc0d0\\ub7ec\\ub4dc\\ud30c\\uc2a4\\ud0c0\", \"\\uc465\\uac13\\ub450\\ubd80\\ubb34\\uce68\", \"\\uace0\\uad6c\\ub9c8\\uc21c\\ubcf6\\uc74c\", \"\\uc624\\uc0bc\\ubd88\\uace0\\uae30\", \"\\uca14\\uc0e4\\uc774\\ubb34\\uce68\", \"\\ud751\\uc784\\uc790\\uc5f0\\uadfc\\uc0d0\\ub7ec\\ub4dc\", \"\\ub9db\\uc0b4\\ub0c9\\ucc44\", \"\\uc308\\ubb34\\ubd80\\ucd94\\uc0dd\\ucc44\", \"\\uce58\\uc988\\ud568\\ubc15\\uc2a4\\ud14c\\uc774\\ud06c\", \"\\uc624\\ubcf5\\uc9c0\\ubb34\\uce68\", \"\\ub9d1\\uc740\\uad6d\", \"\\ud33d\\uc774\\uc7a5\\uad6d\", \"\\uac00\\ucbd4\\uc624\\uc7a5\\uad6d\", \"\\ucf69\\ub098\\ubb3c\\ubc25\", \"\\uc0c8\\uc1a1\\uc774\\ubc84\\uc12f\\uc804\", \"\\uc0ac\\uacfc\\uace0\\uad6c\\ub9c8\\uadf8\\ub77c\\ud0d5\", \"\\ud3ec\\uae30\\uae40\\uce58\", \"\\uc5f4\\ubb34\\uae40\\uce58\", \"\\uc300\\ubc25\\uc7a1\\uace1\\ubc25\", \"\\uc624\\uc774\\ubb34\\uce68\", \"\\ud0d5\\uc218\\uc5b4\", \"\\ub9e4\\uc6b4\\uc5b4\\ubb35\\ubcf6\\uc74c\", \"\\uc694\\uad6c\\ub974\\ud2b8\", \"\\uc2dc\\ub798\\uae30\\uad6d\", \"\\ubc30\\ucd94\\uac89\\uc808\\uc774\", \"\\uc300\\ubc25\\ud751\\ubbf8\\ubc25\\ucc30\\ud604\\ubbf8\\ubc25\", \"\\uc21c\\ub450\\ubd80\\ucc0c\\uac1c\", \"\\uc8fc\\uafb8\\ubbf8\\ubcf6\\uc74c\", \"\\ub3c8\\uc721\\uae40\\uce58\\ucc0c\\uac1c\", \"\\ucf69\\ub098\\ubb3c\\ubb34\\uce68\", \"\\ub4f1\\uac08\\ube44\\uae40\\uce58\\ucc1c\", \"\\uae4d\\ub450\\uae30\", \"\\ub098\\ubb3c\\ube44\\ube54\\ubc25\", \"\\ubbf8\\uc18c\\uc7a5\\uad6d\", \"\\uc0ac\\ucc9c\\uc2dd\\ud0d5\\uc218\\uc721\", \"\\ub9c8\\ub298\\ucad1\\ubcf6\\uc74c\", \"\\uce74\\ub808\\ub77c\\uc774\\uc2a4\", \"\\uba54\\ubc00\\uc804\\ubcd1\\ub9cc\\ub450\", \"\\ub2ed\\uac15\\uc815\", \"\\uc694\\ud50c\\ub808\", \"\\ub2e8\\ubb34\\uc9c0\", \"\\uc0b0\\ucc44\\ube44\\ube54\\ubc25\", \"\\uad70\\uace0\\uad6c\\ub9c8\", \"\\uc624\\uc774\\ub0c9\\uad6d\", \"\\ud55c\\uc2dd\\uc7a1\\ucc44\", \"\\uc0bc\\uacb9\\uc0b4\\uc624\\ube10\\uad6c\\uc774\", \"\\uc57c\\ucc44\\ube44\\ube54\\ub9cc\\ub450\", \"\\uace4\\ub4dc\\ub808\\ubc25\", \"\\ud3ec\\uae30\\uae40\\uce58\\uc694\\uad6c\\ub974\\ud2b8\", \"\\uc591\\ubc30\\ucd94\\uc0d0\\ub7ec\\ub4dc\\uc0ac\\uc6b0\\uc804D\", \"\\uc591\\uc7a5\\ud53c\\uc7a1\\ucc44\", \"\\uc11d\\ubc15\\uc9c0\", \"\\ud3ec\\uae30\\uae40\\uce58\\ub538\\uae30\\ud478\\ub529\", \"LA\\uac08\\ube44\\uad6c\\uc774\", \"\\uc81c\\uc721\\uace0\\ucd94\\uc7a5\\ubd88\\uace0\\uae30\", \"\\uc0bc\\uc0c9\\uc720\\uc790\\uccad\\ubb34\\uce68\", \"\\uac08\\ube44\\ud0d5\", \"\\uc694\\ud50c\\ub808\\uc624\\ubcf5\\uc9c0\", \"\\uac08\\ube44\\ub9cc\\ub450\", \"\\uc218\\uc6d0\\uc655\\uac08\\ube44\\ud1b5\\ub2ed\", \"\\ucc38\\uce58\\ud68c\\ub36e\\ubc25\", \"\\uc720\\uae30\\ub18d\\uc2dd\\ud61c\", \"\\uae40\\uce58\\uc804\", \"\\uacfc\\uc77c\\uc0d0\\ub7ec\\ub4dc\", \"\\ucf69\\ub098\\ubb3c\\ubb34\\uce68\", \"\\ucd98\\ucc9c\\ub2ed\\uac08\\ube44\", \"\\uc124\\ub801\\ud0d5\", \"\\ub4f1\\uac08\\ube44\\uae40\\uce58\\ucc1c\", \"\\uc300\\ubc25\\ud751\\ubbf8\\ubc25\\ucc30\\ud604\\ubbf8\\ubc25\", \"\\uc544\\uc6b1\\ub41c\\uc7a5\\uad6d\", \"\\uc544\\uc0ad\\uace0\\ucd94\\ubb34\\uce68\", \"\\uc624\\uc9d5\\uc5b4\\uc219\\ud68c\\ubb34\\uce68\", \"\\ubc30\\ucd94\\uac89\\uc808\\uc774\", \"\\ud3ec\\uae30\\uae40\\uce58\", \"\\uc300\\ubc25\\uc7a1\\uace1\\ubc25\", \"\\uc5f4\\ubb34\\uae40\\uce58\", \"\\uae4d\\ub450\\uae30\", \"\\ub9d1\\uc740\\uad6d\", \"\\uc54c\\ud0c0\\ub9ac\\uae40\\uce58\", \"\\uace8\\ubc45\\uc774\\ubb34\\uce68\\uc18c\\uba74\", \"\\uc5b8\\uc591\\uc2dd\\ubd88\\uace0\\uae30\", \"\\uc5b4\\ubb35\\ubcf6\\uc74c\", \"\\uc219\\uc8fc\\ub098\\ubb3c\", \"\\ucf69\\ub098\\ubb3c\\ubc25\", \"\\uc21c\\ub450\\ubd80\\ucc0c\\uac1c\", \"\\uc628\\ub450\\ubd80\", \"\\uac00\\uc790\\ubbf8\\ud280\\uae40\", \"\\ub9e4\\uc6b4\\ub3fc\\uc9c0\\uac08\\ube44\\ucc1c\", \"\\ub9db\\uc0b4\\uc804\", \"\\ub099\\uc9c0\\ubcf6\\uc74c\", \"\\uc591\\ubc30\\ucd94\\uc308\", \"\\uc0bc\\uacc4\\ud0d5\", \"\\ubcf6\\uc74c\\uae40\\uce58\", \"\\ud638\\ubc15\\ubd80\\ucd94\\uc804\", \"\\uae40\\uce58\\ucc0c\\uac1c\", \"\\ucc39\\uc300\\ubc25\", \"\\ub3c8\\uc721\\uace0\\ucd94\\uc7a5\\ubd88\\uace0\\uae30\", \"\\ubd80\\ub300\\ucc0c\\uac1c\", \"\\uc544\\uadc0\\ucf69\\ub098\\ubb3c\\ucc1c\", \"\\ucd08\\ubcf5\\ud2b9\\uc2dd\", \"\\uc0dd\\uc57c\\ucc44\\uc308\\uc7a5\", \"\\ubc84\\uc12f\\ub9e4\\uc6b4\\ud0d5\", \"\\uc465\\uac13\\ub098\\ubb3c\", \"\\uad74\\ubbf8\\uc5ed\\uad6d\", \"\\ub9e4\\ucf64\\ub3fc\\uc9c0\\uac08\\ube44\\ucc1c\", \"\\uac00\\uc790\\ubbf8\\uc591\\ub150\\ucc1c\", \"\\ud638\\ubc15\\ub41c\\uc7a5\\ucc0c\\uac1c\", \"\\ub450\\ubd80\\uad6c\\uc774\\uc591\\ub150\\uc7a5\", \"\\uac00\\uc790\\ubbf8\\uce74\\ub808\\ud280\\uae40\", \"\\ub3c8\\uc721\\uc7a5\\uc870\\ub9bc\", \"\\ub354\\ub355\\ubb34\\uce68\", \"\\uce58\\ud0a8\\uae4c\\uc2a4\\uc18c\\uc2a4\", \"\\uc591\\ubc30\\ucd94\\ucf00\\uc77c\\uc219\\uc308\\uc591\\ub150\\uac04\\uc7a5\", \"\\ud478\\uc2e4\\ub9ac\\ud30c\\uc2a4\\ud0c0\\uc0d0\\ub7ec\\ub4dc\", \"\\ud6c8\\uc81c\\uc624\\ub9ac\\ub9c8\\ub298\\ubcf6\\uc74c\", \"\\uaf41\\uce58\\ud55c\\ub9c8\\ub9ac\\uad6c\\uc774\", \"\\ubaa8\\ub4ec\\uc18c\\uc2dc\\uc9c0\\uad6c\\uc774\", \"\\ubb3c\\ubbf8\\uc5ed\\ucd08\\uc7a5\", \"\\uc624\\uc774\\uc9c0\\ub0c9\\uad6d\", \"\\uc5f4\\ubb34\\ub098\\ubb3c\", \"\\ub3c4\\ud1a0\\ub9ac\\ubb35\\uc57c\\ucc44\\ubb34\\uce68\", \"\\uba54\\ucd94\\ub9ac\\uc54c\\uc870\\ub9bc\", \"\\ud574\\ubb3c\\ub204\\ub8fd\\uc9c0\\ud0d5\", \"\\ubc30\\ucd94\\uac89\\uc808\\uc774\", \"\\uc300\\ubc25\\uc7a1\\uace1\\ubc25\", \"\\uc5f4\\ubb34\\uae40\\uce58\", \"\\ub41c\\uc7a5\\ucc0c\\uac1c\", \"\\uc18c\\uace0\\uae30\\ubbf8\\uc5ed\\uad6d\", \"\\ucf69\\ub098\\ubb3c\\uad6d\", \"\\uc300\\ubc25\\ud751\\ubbf8\\ubc25\\ucc30\\ud604\\ubbf8\\ubc25\", \"\\ud3ec\\uae30\\uae40\\uce58\", \"\\uae4d\\ub450\\uae30\", \"\\ub2ed\\ubcf6\\uc74c\\ud0d5\", \"\\uc2dc\\uae08\\uce58\\ub41c\\uc7a5\\uad6d\", \"\\uac08\\uce58\\uad6c\\uc774\", \"\\uc54c\\ud0c0\\ub9ac\\uae40\\uce58\", \"\\uac10\\uc790\\ucc44\\ubcf6\\uc74c\", \"\\ubc84\\uc12f\\uc7a1\\ucc44\", \"\\ub2ed\\uc624\\ube10\\uad6c\\uc774\"], \"Freq\": [77.0, 37.0, 60.0, 22.0, 54.0, 17.0, 13.0, 32.0, 23.0, 12.0, 37.0, 726.0, 15.0, 8.0, 15.0, 17.0, 12.0, 9.0, 23.0, 19.0, 25.0, 17.0, 10.0, 21.0, 11.0, 11.0, 13.0, 7.0, 10.0, 10.0, 21.268499294625798, 15.397323582823606, 24.312929170125983, 13.694007422329728, 12.017663417976413, 11.076909084303754, 12.65717466468245, 9.485054822873892, 24.41813764312328, 8.639191474529808, 8.627041558469275, 8.611380988270648, 10.930281937267864, 9.364139597159763, 7.796369127596313, 7.79107457584825, 7.78490803553612, 6.9417616282206485, 16.16435102432884, 9.200173654178966, 6.114485569322087, 6.111792110929851, 6.874655298251217, 6.111212089811383, 6.092848276788699, 5.273449076884928, 5.271870260965969, 5.271699620474975, 5.270904341856402, 5.2696855930285285, 14.115235822610021, 13.345600242958046, 24.081504657630127, 13.258626819860643, 14.690250443002459, 454.86951243476136, 405.1883945120985, 14.041591143919186, 25.254172725389793, 16.865209093056016, 10.075467007937553, 26.3889163354035, 16.237911165528725, 16.951114838952893, 17.777606577796522, 15.736963911281878, 13.564547647993209, 15.169225777147572, 24.612954291019282, 24.922472659044526, 15.661432794135568, 22.851556177714965, 14.097351446746663, 14.542594756493337, 13.617277125219191, 22.024987633904512, 14.75271296012766, 12.308380552496446, 9.90089627987814, 10.586540087295518, 10.523069675695016, 9.73237179671683, 7.450099476332012, 5.852309546667321, 5.807081689093316, 5.0579202945422805, 5.756249827471027, 6.435759018414799, 4.248587630676204, 4.2433066667073485, 4.24135809254256, 4.227798945731594, 4.21204321623867, 4.195522344527015, 3.439272713796411, 3.4295484885403344, 8.833490086520946, 3.404243532554807, 3.3984908132543796, 7.929092882562798, 2.6299335352138513, 2.629920505780884, 2.6295204123306317, 2.6279020668979434, 2.6280512314408786, 5.8772303590257104, 3.290270589482533, 9.160512679529889, 27.597510774977014, 11.564638054187402, 16.94285640645516, 13.17239010858252, 12.602187077254793, 4.957840770630201, 178.7379699153783, 24.095810228862877, 147.50394979073712, 13.617055901143369, 7.138833960688369, 6.914695814005795, 10.149817755936759, 8.220025743415682, 20.60159307017985, 17.154053630456524, 9.323620512903169, 8.275183376783092, 7.531701017842601, 8.261182577123616, 7.530231387662056, 8.420802116788014, 11.896300760289193, 16.32305665600244, 8.819495340167064, 7.319747630506901, 6.409228973569547, 7.049399025396729, 4.877859015427206, 4.8568151661394605, 4.1474744484536865, 4.123499331367027, 3.319354865198159, 3.9664584010016735, 2.5720840894407817, 2.5688392685738295, 2.5561985142428982, 5.712387107963721, 2.5387101753918038, 2.5108543817238607, 2.507824959565241, 7.95697400604237, 1.781833794458791, 1.7818274311291504, 1.781823294964884, 1.7818217041324738, 1.7818032504765162, 1.7817930691490915, 1.7817930691490915, 1.7817890920680661, 1.7817892511513072, 1.781788932984825, 7.310179091726422, 7.916223243024356, 14.369133929244349, 3.3686245357724456, 2.310488562417654, 9.650873266365029, 25.481169583328203, 5.594790230874697, 8.475516011453246, 5.786909970382969, 19.91624309478952, 80.00582794935136, 80.14436018095776, 13.617706149316048, 12.779600911022104, 9.798363157106415, 10.221396675276509, 5.4225832588105645, 5.592092815440072, 5.23544696091028, 5.306608712613396, 5.210100228119602, 4.982865408489459, 4.745799121258404, 3.9743379735219575, 7.25828537264916, 3.9512990143408246, 3.220171291777422, 3.194243858619788, 3.1891491739976963, 2.4677254258047863, 2.4620182020970494, 2.459918450209576, 2.4590457380450497, 2.427311220368045, 10.103526750628042, 1.7083920169954807, 1.7083838141430965, 1.7083768595508577, 1.7083706182501306, 1.7083604538460893, 1.7083501111191701, 1.7058289822711783, 1.7053362761594932, 1.559457106004879, 2.492929581369588, 2.4763223717491694, 3.9562596001587225, 0.9490252618080046, 0.949024548516493, 0.9490241918707372, 0.9490236569021034, 0.9490236569021034, 2.349559949075901, 2.3064373757693555, 4.043495152035765, 1.371958535243121, 2.5131945498618427, 1.7419900087467184, 6.076539660692573, 4.835630697592165, 13.911762313056562, 43.697265144581706, 9.693564594171175, 5.972738626748544, 2.911633303624828, 6.02371614450446, 7.423733338780641, 21.26232977502782, 5.259848341555479, 3.1937713029933077, 2.974881218610219, 2.9092125705571035, 3.081166825212267, 2.564639630203657, 2.518312773103819, 2.4940621099672398], \"Total\": [77.0, 37.0, 60.0, 22.0, 54.0, 17.0, 13.0, 32.0, 23.0, 12.0, 37.0, 726.0, 15.0, 8.0, 15.0, 17.0, 12.0, 9.0, 23.0, 19.0, 25.0, 17.0, 10.0, 21.0, 11.0, 11.0, 13.0, 7.0, 10.0, 10.0, 21.895173923268434, 15.990406419466527, 25.252654480323, 14.301964434161805, 12.614533318383767, 11.76524355769654, 13.448388484147149, 10.08291939148019, 26.071259382393833, 9.238952211004635, 9.238195161417192, 9.237886996583667, 11.747178378277919, 10.070536598428994, 8.395102115581523, 8.394797453547836, 8.393637405303679, 7.550824677393992, 17.585919938065548, 10.055528691443053, 6.707679197184606, 6.707268942414954, 7.5446489776032015, 6.707347465932691, 6.7066697788854075, 5.863974419263412, 5.863908263415763, 5.863843567904825, 5.863844068803396, 5.8637390174267505, 15.871495134115603, 15.096844850852818, 27.670436726959526, 15.031818660879122, 17.54230941319385, 726.215087551038, 685.194522151856, 16.742706224501596, 32.19803669263411, 20.902611479529618, 11.705580243888289, 37.09876589474477, 20.748754216769164, 22.390341087708595, 24.177715922325532, 20.791636405916666, 17.530385650570036, 21.64616053766541, 45.09451834899885, 51.382724028410124, 26.440541281571033, 77.28115465574089, 23.96126437025531, 29.687501017965065, 23.83212911022591, 22.653879389466912, 15.369369465447965, 12.940973964000822, 10.51270761766081, 11.318017460572472, 11.330500149130204, 10.52022039221278, 8.084900884722732, 6.46657988920545, 6.468595508680414, 5.656974417906107, 6.4639634905434615, 7.270431825432419, 4.847626572347618, 4.847749431392239, 4.847675456424184, 4.8470733777442225, 4.8488270093940224, 4.844551561711539, 4.038275499395016, 4.038488858339641, 10.447961612121647, 4.037522768411101, 4.039653960531392, 9.679265655505416, 3.228923921186004, 3.228923622484248, 3.228931720896761, 3.2287937005566105, 3.228984600437602, 7.226706153508855, 4.044242775974148, 11.388605868078805, 37.82220073451286, 15.269051363814597, 23.538712575914968, 19.328192972381476, 20.523689452563254, 6.453580046123468, 685.194522151856, 54.38494715399763, 726.215087551038, 29.687501017965065, 11.184996029163633, 10.6403047411959, 19.78182254709156, 14.718554961420567, 77.28115465574089, 60.06484763994136, 19.46277418713949, 16.48948507393965, 14.823791006039317, 23.15797051130316, 17.590930131966143, 51.382724028410124, 12.687260029809485, 17.467157815755566, 9.519274725469247, 7.929674309461904, 7.140055481785069, 7.946796194903395, 5.55790927485217, 5.5587202687264226, 4.761417896958092, 4.763288119176358, 3.969694199788934, 4.765339362136167, 3.1772681861122054, 3.1771668823637764, 3.177971244936041, 7.105553034669355, 3.1793136590676863, 3.181064167075816, 3.1813836214588864, 10.353171348373023, 2.3850822117316355, 2.3850835777791786, 2.3850820094231926, 2.3850820988157455, 2.3850797258349745, 2.385078062060586, 2.3850780766480515, 2.3850774844513043, 2.3850781020986354, 2.385077816581907, 10.207487187816117, 11.971818336029978, 23.15797051130316, 4.778692908392585, 3.1940794884619295, 17.590930131966143, 60.06484763994136, 9.694127136167314, 17.136355503898937, 12.12570320902145, 77.28115465574089, 685.194522151856, 726.215087551038, 54.38494715399763, 51.382724028410124, 37.82220073451286, 45.09451834899885, 15.648473486280878, 18.736396484588987, 16.322069217629583, 20.5084531587846, 19.328192972381476, 19.46277418713949, 5.357222335858598, 4.598979500941854, 8.432328143710306, 4.601310113882551, 3.8389465145017683, 3.841871334139335, 3.8420212876633144, 3.0791373042715304, 3.0795585075691854, 3.0798105525931065, 3.0794563495953695, 3.0833730804472887, 13.081238468763948, 2.319773298149312, 2.319771609232421, 2.3197719656396583, 2.319771568651995, 2.3197749218844743, 2.319774247713787, 2.3199878251451613, 2.319932740957907, 2.336148136434174, 3.8868271136765316, 3.8708393169440822, 6.218384904678279, 1.5603998045409346, 1.560399825838961, 1.5603998123424827, 1.560399752852279, 1.5603999022792867, 3.902136396371422, 3.8892508709937137, 7.122348233318136, 2.356839276350102, 4.677299897580154, 3.1592847442018854, 15.74864485459983, 13.558697455055874, 77.28115465574089, 726.215087551038, 54.38494715399763, 32.19803669263411, 7.132133863215593, 37.09876589474477, 60.06484763994136, 685.194522151856, 51.382724028410124, 15.274080970717574, 12.035486882515249, 13.147054682622988, 45.09451834899885, 16.312918353553737, 10.666915276863222, 7.089344141339694], \"Category\": [\"Default\", \"Default\", \"Default\", \"Default\", \"Default\", \"Default\", \"Default\", \"Default\", \"Default\", \"Default\", \"Default\", \"Default\", \"Default\", \"Default\", \"Default\", \"Default\", \"Default\", \"Default\", \"Default\", \"Default\", \"Default\", \"Default\", \"Default\", \"Default\", \"Default\", \"Default\", \"Default\", \"Default\", \"Default\", \"Default\", \"Topic1\", \"Topic1\", \"Topic1\", \"Topic1\", \"Topic1\", \"Topic1\", \"Topic1\", \"Topic1\", \"Topic1\", \"Topic1\", \"Topic1\", \"Topic1\", \"Topic1\", \"Topic1\", \"Topic1\", \"Topic1\", \"Topic1\", \"Topic1\", \"Topic1\", \"Topic1\", \"Topic1\", \"Topic1\", \"Topic1\", \"Topic1\", \"Topic1\", \"Topic1\", \"Topic1\", \"Topic1\", \"Topic1\", \"Topic1\", \"Topic1\", \"Topic1\", \"Topic1\", \"Topic1\", \"Topic1\", \"Topic1\", \"Topic1\", \"Topic1\", \"Topic1\", \"Topic1\", \"Topic1\", \"Topic1\", \"Topic1\", \"Topic1\", \"Topic1\", \"Topic1\", \"Topic1\", \"Topic1\", \"Topic1\", \"Topic1\", \"Topic1\", \"Topic1\", \"Topic1\", \"Topic1\", \"Topic1\", \"Topic2\", \"Topic2\", \"Topic2\", \"Topic2\", \"Topic2\", \"Topic2\", \"Topic2\", \"Topic2\", \"Topic2\", \"Topic2\", \"Topic2\", \"Topic2\", \"Topic2\", \"Topic2\", \"Topic2\", \"Topic2\", \"Topic2\", \"Topic2\", \"Topic2\", \"Topic2\", \"Topic2\", \"Topic2\", \"Topic2\", \"Topic2\", \"Topic2\", \"Topic2\", \"Topic2\", \"Topic2\", \"Topic2\", \"Topic2\", \"Topic2\", \"Topic2\", \"Topic2\", \"Topic2\", \"Topic2\", \"Topic2\", \"Topic2\", \"Topic2\", \"Topic2\", \"Topic2\", \"Topic2\", \"Topic2\", \"Topic2\", \"Topic2\", \"Topic2\", \"Topic2\", \"Topic2\", \"Topic2\", \"Topic2\", \"Topic2\", \"Topic2\", \"Topic2\", \"Topic2\", \"Topic2\", \"Topic2\", \"Topic3\", \"Topic3\", \"Topic3\", \"Topic3\", \"Topic3\", \"Topic3\", \"Topic3\", \"Topic3\", \"Topic3\", \"Topic3\", \"Topic3\", \"Topic3\", \"Topic3\", \"Topic3\", \"Topic3\", \"Topic3\", \"Topic3\", \"Topic3\", \"Topic3\", \"Topic3\", \"Topic3\", \"Topic3\", \"Topic3\", \"Topic3\", \"Topic3\", \"Topic3\", \"Topic3\", \"Topic3\", \"Topic3\", \"Topic3\", \"Topic3\", \"Topic3\", \"Topic3\", \"Topic3\", \"Topic3\", \"Topic3\", \"Topic3\", \"Topic3\", \"Topic3\", \"Topic3\", \"Topic3\", \"Topic3\", \"Topic3\", \"Topic3\", \"Topic3\", \"Topic3\", \"Topic3\", \"Topic3\", \"Topic3\", \"Topic3\", \"Topic3\", \"Topic3\", \"Topic3\", \"Topic4\", \"Topic4\", \"Topic4\", \"Topic4\", \"Topic4\", \"Topic4\", \"Topic4\", \"Topic4\", \"Topic4\", \"Topic4\", \"Topic4\", \"Topic4\", \"Topic4\", \"Topic4\", \"Topic4\", \"Topic4\", \"Topic4\", \"Topic4\", \"Topic4\", \"Topic4\", \"Topic4\", \"Topic4\", \"Topic4\", \"Topic4\", \"Topic4\", \"Topic4\", \"Topic4\", \"Topic4\", \"Topic4\", \"Topic4\", \"Topic4\", \"Topic4\", \"Topic4\", \"Topic4\", \"Topic4\", \"Topic4\", \"Topic4\", \"Topic4\", \"Topic4\", \"Topic4\", \"Topic4\", \"Topic4\", \"Topic4\", \"Topic4\", \"Topic4\", \"Topic4\", \"Topic4\", \"Topic4\", \"Topic4\", \"Topic4\", \"Topic4\", \"Topic4\", \"Topic4\", \"Topic4\"], \"logprob\": [30.0, 29.0, 28.0, 27.0, 26.0, 25.0, 24.0, 23.0, 22.0, 21.0, 20.0, 19.0, 18.0, 17.0, 16.0, 15.0, 14.0, 13.0, 12.0, 11.0, 10.0, 9.0, 8.0, 7.0, 6.0, 5.0, 4.0, 3.0, 2.0, 1.0, -5.063, -5.3861, -4.9293, -5.5033, -5.6339, -5.7154, -5.582, -5.8705, -4.9249, -5.964, -5.9654, -5.9672, -5.7287, -5.8834, -6.0666, -6.0673, -6.0681, -6.1827, -5.3375, -5.901, -6.3096, -6.31, -6.1924, -6.3101, -6.3131, -6.4576, -6.4579, -6.4579, -6.4581, -6.4583, -5.473, -5.5291, -4.9388, -5.5356, -5.4331, -2.0003, -2.1159, -5.4782, -4.8913, -5.295, -5.8102, -4.8473, -5.3329, -5.2899, -5.2423, -5.3643, -5.5128, -5.401, -4.917, -4.9045, -5.3691, -4.9912, -5.4743, -5.4432, -5.5089, -4.4729, -4.8737, -5.0548, -5.2725, -5.2055, -5.2115, -5.2897, -5.5569, -5.7983, -5.806, -5.9442, -5.8148, -5.7032, -6.1185, -6.1198, -6.1202, -6.1234, -6.1272, -6.1311, -6.3299, -6.3327, -5.3866, -6.3401, -6.3418, -5.4946, -6.5982, -6.5982, -6.5983, -6.5989, -6.5989, -5.794, -6.3741, -5.3502, -4.2474, -5.1172, -4.7353, -4.987, -5.0312, -5.9641, -2.3792, -4.3831, -2.5713, -4.9538, -5.5996, -5.6315, -5.2477, -5.4585, -4.5397, -4.7229, -5.3326, -5.4519, -5.546, -5.4535, -5.5462, -5.4344, -4.7438, -4.4274, -5.0431, -5.2294, -5.3623, -5.2671, -5.6353, -5.6396, -5.7975, -5.8033, -6.0202, -5.8421, -6.2753, -6.2766, -6.2815, -5.4774, -6.2884, -6.2994, -6.3006, -5.146, -6.6424, -6.6424, -6.6424, -6.6424, -6.6424, -6.6424, -6.6424, -6.6424, -6.6424, -6.6424, -5.2308, -5.1511, -4.5549, -6.0055, -6.3826, -4.953, -3.9821, -5.4982, -5.0828, -5.4644, -4.2285, -2.8379, -2.8362, -4.6086, -4.6722, -4.9378, -4.8955, -5.5294, -5.4987, -5.5646, -5.5511, -5.5694, -5.614, -5.0838, -5.2612, -4.6589, -5.267, -5.4716, -5.4797, -5.4813, -5.7377, -5.7401, -5.7409, -5.7413, -5.7543, -4.3282, -6.1055, -6.1055, -6.1055, -6.1055, -6.1055, -6.1055, -6.107, -6.1073, -6.1967, -5.7276, -5.7343, -5.2657, -6.6934, -6.6934, -6.6934, -6.6934, -6.6934, -5.7868, -5.8053, -5.2439, -6.3248, -5.7195, -6.086, -4.8366, -5.065, -4.0083, -2.8638, -4.3696, -4.8538, -5.5723, -4.8453, -4.6364, -3.5841, -4.9809, -5.4798, -5.5508, -5.5732, -5.5157, -5.6992, -5.7175, -5.7271], \"loglift\": [30.0, 29.0, 28.0, 27.0, 26.0, 25.0, 24.0, 23.0, 22.0, 21.0, 20.0, 19.0, 18.0, 17.0, 16.0, 15.0, 14.0, 13.0, 12.0, 11.0, 10.0, 9.0, 8.0, 7.0, 6.0, 5.0, 4.0, 3.0, 2.0, 1.0, 0.7632, 0.7544, 0.7543, 0.7488, 0.7437, 0.7319, 0.7316, 0.7311, 0.7267, 0.7251, 0.7238, 0.722, 0.7201, 0.7195, 0.7182, 0.7176, 0.7169, 0.7081, 0.7079, 0.7033, 0.6996, 0.6992, 0.6992, 0.6991, 0.6962, 0.6861, 0.6858, 0.6858, 0.6856, 0.6854, 0.6749, 0.6689, 0.6533, 0.6667, 0.6148, 0.3244, 0.2669, 0.6163, 0.5493, 0.5776, 0.6422, 0.4516, 0.5471, 0.5139, 0.4847, 0.5137, 0.5357, 0.4367, 0.1867, 0.0687, 0.2685, -0.4262, 0.2618, 0.0786, 0.2325, 1.3192, 1.3064, 1.2972, 1.2874, 1.2805, 1.2734, 1.2695, 1.2656, 1.2475, 1.2395, 1.2354, 1.2314, 1.2254, 1.2155, 1.2142, 1.2137, 1.2107, 1.2066, 1.2035, 1.1868, 1.1839, 1.1795, 1.1768, 1.1745, 1.1479, 1.1422, 1.1422, 1.142, 1.1414, 1.1414, 1.1407, 1.141, 1.1296, 1.0322, 1.0695, 1.0186, 0.9639, 0.8596, 1.0837, 0.0036, 0.5333, -0.2466, 0.568, 0.8983, 0.9164, 0.6801, 0.7648, 0.0253, 0.0942, 0.6114, 0.6579, 0.6702, 0.3166, 0.4989, -0.4612, 1.6281, 1.6247, 1.6161, 1.6124, 1.5845, 1.5726, 1.5619, 1.5575, 1.5544, 1.5482, 1.5135, 1.509, 1.4811, 1.4799, 1.4747, 1.4742, 1.4674, 1.4559, 1.4546, 1.4292, 1.4009, 1.4009, 1.4009, 1.4009, 1.4008, 1.4008, 1.4008, 1.4008, 1.4008, 1.4008, 1.3586, 1.2788, 1.2152, 1.3428, 1.3686, 1.0921, 0.835, 1.1428, 0.9884, 0.9527, 0.3365, -0.4551, -0.5116, 0.3077, 0.301, 0.3418, 0.2082, 0.6327, 0.4833, 0.5554, 0.3406, 0.3815, 0.33, 2.1502, 2.1255, 2.1215, 2.1191, 2.0957, 2.0868, 2.0852, 2.0501, 2.0476, 2.0467, 2.0465, 2.0322, 2.0131, 1.9655, 1.9655, 1.9655, 1.9655, 1.9655, 1.9655, 1.9639, 1.9637, 1.8673, 1.8273, 1.8247, 1.8192, 1.7742, 1.7742, 1.7742, 1.7742, 1.7742, 1.7641, 1.7489, 1.7053, 1.7304, 1.6503, 1.6761, 1.3191, 1.2404, 0.5567, -0.5391, 0.5468, 0.5867, 1.3755, 0.4536, 0.1807, -1.2013, -0.0078, 0.7065, 0.8738, 0.7631, -0.412, 0.4213, 0.8279, 1.2268]}, \"token.table\": {\"Topic\": [3, 4, 3, 4, 4, 1, 2, 3, 3, 3, 1, 4, 1, 2, 3, 4, 2, 1, 2, 1, 2, 2, 1, 1, 3, 4, 1, 2, 3, 3, 4, 2, 4, 2, 1, 3, 2, 3, 3, 4, 1, 1, 3, 4, 1, 3, 4, 4, 1, 2, 3, 4, 1, 2, 1, 2, 4, 1, 2, 3, 4, 3, 2, 1, 1, 2, 3, 1, 2, 3, 4, 2, 3, 4, 4, 1, 1, 4, 2, 4, 1, 1, 2, 2, 4, 2, 1, 1, 2, 4, 2, 2, 4, 1, 2, 3, 2, 2, 1, 2, 3, 2, 3, 2, 4, 2, 4, 1, 2, 1, 4, 3, 2, 3, 4, 3, 4, 1, 1, 1, 2, 4, 2, 1, 4, 1, 3, 1, 1, 2, 3, 4, 1, 2, 3, 4, 1, 1, 4, 4, 2, 3, 4, 1, 2, 3, 3, 3, 3, 4, 3, 1, 2, 2, 4, 2, 3, 3, 2, 1, 1, 3, 4, 2, 1, 4, 1, 3, 1, 1, 2, 3, 1, 2, 3, 4, 1, 1, 2, 3, 4, 1, 1, 2, 3, 2, 1, 2, 3, 4, 1, 2, 3, 4, 2, 4, 2, 4, 2, 3, 4, 1, 3, 1, 2, 3, 4, 1, 2, 3, 1, 2, 3, 4, 3, 3, 4, 4, 3, 1, 2, 3, 1, 2, 3, 1, 2, 3, 1, 1, 3, 1, 2, 3, 4, 2, 3, 4, 1, 2, 1, 2, 2, 3, 1, 2, 3, 1, 4, 1, 2, 2, 1, 2, 3, 4, 1, 1, 2, 3, 3, 3, 2, 2, 1, 1, 1, 4, 1, 3, 1, 2, 1, 2, 4, 2, 2, 1, 2, 3, 4, 2, 4, 2, 3, 2, 4, 2, 2, 3, 1, 2, 4, 2, 3, 1, 2, 3, 2, 3, 4, 2, 3, 4, 1, 2, 3, 4, 3, 3, 4, 3, 1, 2, 3, 4, 1, 4, 4, 1, 2, 4, 2], \"Freq\": [0.8385450382674886, 0.8620939584542412, 0.25834190420218, 0.51668380840436, 0.8697581711727166, 0.1699328281909877, 0.7222145198116978, 0.1274496211432408, 0.8385469723535283, 0.8385463925319457, 0.76062663778355, 0.22818799133506498, 0.4904088788170276, 0.2452044394085138, 0.1226022197042569, 0.18390332955638536, 0.7430298656075689, 0.7444871987836919, 0.24816239959456396, 0.8132955069584712, 0.14352273652208314, 0.9291021012653904, 0.9363950768246143, 0.8648321466139685, 0.06652554973953603, 0.06652554973953603, 0.8550755574245124, 0.05700503716163416, 0.11401007432326832, 0.8444099946513453, 0.14073499910855755, 0.8614120470693792, 0.09571244967437548, 0.8252604720137297, 0.6390399682606145, 0.31951998413030724, 0.2505885000753229, 0.668236000200861, 0.7557257181572092, 0.8621528590426698, 0.9349572702049219, 0.7592559636946452, 0.17864846204579887, 0.04466211551144972, 0.8526830468955571, 0.6857711277223405, 0.1959346079206687, 0.649390592650597, 0.4865448547682525, 0.1556943535258408, 0.2530033244794913, 0.0973089709536505, 0.8945414011238598, 0.7428913654973361, 0.8526736393873032, 0.2562698733262874, 0.5125397466525748, 0.6929635384482733, 0.2771854153793093, 0.9458306972352797, 0.7814643909904408, 0.8400858917583067, 0.7428521175203641, 0.9741364382510804, 0.9205539190871396, 0.03835641329529748, 0.8996188589517756, 0.2618815500368583, 0.32735193754607295, 0.19641116252764376, 0.19641116252764376, 0.42317031592616144, 0.28211354395077426, 0.28211354395077426, 0.6408613978865483, 0.9270510572119259, 0.31652734114430864, 0.6330546822886173, 0.8658114799189727, 0.648640287055328, 0.9591154687144496, 0.47221388895378724, 0.5396730159471854, 0.3216269225302119, 0.6432538450604238, 0.8256698167098947, 0.8950300154440138, 0.776444857139976, 0.03105779428559904, 0.18634676571359426, 0.8251377461127607, 0.2572792590854664, 0.5145585181709328, 0.9742487652564227, 0.4547798177802118, 0.5684747722252648, 0.9512297272684073, 0.8249417832911915, 0.8361850116865894, 0.11945500166951277, 0.8827600891057289, 0.7403059434997372, 0.26439497982133475, 0.9290846415289286, 0.8693176293272765, 0.11859121027517204, 0.8301384719262043, 0.2819468119540738, 0.6578758945595055, 0.8526829740580608, 0.8620734894912047, 0.8808581255033804, 0.44448268816954467, 0.12699505376272704, 0.3809851612881811, 0.25711892422730176, 0.5142378484546035, 0.894551873722794, 0.9278098982179253, 0.7695401981657821, 0.19238504954144553, 0.04809626238536138, 0.8838647005673959, 0.42120939635696103, 0.561612528475948, 0.057250298563054663, 0.9160047770088746, 0.8946317916068844, 0.29761460090052405, 0.271735070387435, 0.25879530513089044, 0.18115671359162333, 0.584276346342521, 0.250404148432509, 0.1252020742162545, 0.8621538547272513, 0.9503951364281694, 0.7499825200029646, 0.28124344500111176, 0.6495325808386335, 0.1528907224477027, 0.07644536122385134, 0.7644536122385134, 0.9788865064270101, 0.7747637689879427, 0.15495275379758855, 0.94545017972011, 0.8397560466469659, 0.9442374640919188, 0.7808389843213428, 0.8385455582401341, 0.389793463718623, 0.6334143785427624, 0.7426378668348534, 0.8621537071849716, 0.1931775233599602, 0.7727100934398408, 0.6261584933075901, 0.9278475025129893, 0.8526640197431253, 0.28042098456888476, 0.28042098456888476, 0.4206314768533271, 0.9505504283353365, 0.8820845094742936, 0.06300603639102097, 0.8925986265054119, 0.8385471805584158, 0.894497161181823, 0.4876038150013569, 0.24380190750067846, 0.24380190750067846, 0.256900683937641, 0.4624212310877538, 0.256900683937641, 0.0513801367875282, 0.9529711758106819, 0.2492628698186111, 0.41543811636435185, 0.08308762327287036, 0.2492628698186111, 0.9380624611103806, 0.3397072615556156, 0.5435316184889849, 0.13588290462224623, 0.9282230644987053, 0.6265361430789922, 0.20379637181470517, 0.1101602009809217, 0.06058811053950694, 0.1664867288092527, 0.2830274389757296, 0.41621682202313176, 0.1165407101664769, 0.830253766037901, 0.1383756276729835, 0.8251460669056594, 0.8621526084846609, 0.8265089816446689, 0.10331362270558361, 0.8621532119520371, 0.4668437228779367, 0.4668437228779367, 0.587442269016278, 0.20980081036295645, 0.16784064829036516, 0.08392032414518258, 0.30946571649627497, 0.10315523883209166, 0.6189314329925499, 0.5543911081723535, 0.155229510288259, 0.2217564432689414, 0.06652693298068242, 0.943998472226698, 0.9430806303909742, 0.780869461541212, 0.6408613946824264, 0.9429859322103037, 0.6051313333419519, 0.26474495833710393, 0.15128283333548798, 0.3676004506536069, 0.2450669671024046, 0.30633370887800576, 0.3202323352270595, 0.3736043910982361, 0.3202323352270595, 0.8526982502359399, 0.8542934046538355, 0.08542934046538354, 0.1287120860884289, 0.44129858087461343, 0.2574241721768578, 0.1838744086977556, 0.21379856367930558, 0.21379856367930558, 0.6413956910379167, 0.7986133493614707, 0.17113143200602943, 0.1756141202151716, 0.7902635409682722, 0.9291021872149083, 0.8393945731929809, 0.5052631405695924, 0.47157893119828626, 0.03368420937130616, 0.42429707024767555, 0.42429707024767555, 0.867351687897886, 0.10841896098723575, 0.9275583844975944, 0.2474083315652999, 0.2474083315652999, 0.4948166631305998, 0.9333194865802884, 0.9531028818263043, 0.4549631348969528, 0.5055145943299475, 0.8994876083493885, 0.8385469774821969, 0.8385470637877266, 0.8252402405060264, 0.8251251547981161, 0.9512837056375143, 0.9529365920578615, 0.9098187673064092, 0.056863672956650575, 0.9742162665699031, 0.8385455896687088, 0.48515766041981373, 0.48515766041981373, 0.7711306342946018, 0.09639132928682523, 0.09639132928682523, 0.9290998569541815, 0.9719016637250897, 0.8611070808789316, 0.06623900622145627, 0.8385469634055991, 0.6494652863849795, 0.9708309302519558, 0.8621538396453481, 0.2092622437076358, 0.6277867311229074, 0.7417952299555958, 0.640861389139378, 0.9272872376825406, 0.9759671685765412, 0.840329604623738, 0.7008319380155724, 0.1078202981562419, 0.16173044723436286, 0.3454534151036804, 0.6045434764314407, 0.05173789404053055, 0.6725926225268971, 0.25868947020265276, 0.6258383983104042, 0.1788109709458298, 0.1788109709458298, 0.7859034405004512, 0.1964758601251128, 0.0654919533750376, 0.5910730265736743, 0.26123968334984615, 0.116755165742948, 0.03064823100752385, 0.8385455185412434, 0.9435998840327479, 0.640861419115252, 0.9442073581049777, 0.295013589119392, 0.295013589119392, 0.073753397279848, 0.36876698639924005, 0.8936961712054154, 0.856110093708672, 0.6494437417195484, 0.9666585714209769, 0.9711360964616533, 0.6408613577450839, 0.9291395729255886], \"Term\": [\"LA\\uac08\\ube44\\uad6c\\uc774\", \"\\uac00\\uc790\\ubbf8\\uc591\\ub150\\ucc1c\", \"\\uac00\\uc790\\ubbf8\\uce74\\ub808\\ud280\\uae40\", \"\\uac00\\uc790\\ubbf8\\uce74\\ub808\\ud280\\uae40\", \"\\uac00\\uc790\\ubbf8\\ud280\\uae40\", \"\\uac00\\ucbd4\\uc624\\uc7a5\\uad6d\", \"\\uac00\\ucbd4\\uc624\\uc7a5\\uad6d\", \"\\uac00\\ucbd4\\uc624\\uc7a5\\uad6d\", \"\\uac08\\ube44\\ub9cc\\ub450\", \"\\uac08\\ube44\\ud0d5\", \"\\uac08\\uce58\\uad6c\\uc774\", \"\\uac08\\uce58\\uad6c\\uc774\", \"\\uac10\\uc790\\ucc44\\ubcf6\\uc74c\", \"\\uac10\\uc790\\ucc44\\ubcf6\\uc74c\", \"\\uac10\\uc790\\ucc44\\ubcf6\\uc74c\", \"\\uac10\\uc790\\ucc44\\ubcf6\\uc74c\", \"\\uac1c\\uc131\\uac10\\uc790\\ub9cc\\ub450\", \"\\uacc4\\ub780\\ub9d0\\uc774\", \"\\uacc4\\ub780\\ub9d0\\uc774\", \"\\uacc4\\ub780\\ucc1c\", \"\\uacc4\\ub780\\ucc1c\", \"\\uace0\\uad6c\\ub9c8\\uc21c\\ubcf6\\uc74c\", \"\\uace0\\uae30\\uc804\", \"\\uace0\\ucd94\\uc7a1\\ucc44\\uaf43\\ube75\", \"\\uace0\\ucd94\\uc7a1\\ucc44\\uaf43\\ube75\", \"\\uace0\\ucd94\\uc7a1\\ucc44\\uaf43\\ube75\", \"\\uace0\\ucd94\\uc7a5\\ucc0c\\uac1c\", \"\\uace0\\ucd94\\uc7a5\\ucc0c\\uac1c\", \"\\uace0\\ucd94\\uc7a5\\ucc0c\\uac1c\", \"\\uace4\\ub4dc\\ub808\\ubc25\", \"\\uace4\\ub4dc\\ub808\\ubc25\", \"\\uace4\\ub4dc\\ub808\\ubc25\\uac15\\ub41c\\uc7a5\", \"\\uace4\\ub4dc\\ub808\\ubc25\\uac15\\ub41c\\uc7a5\", \"\\uace4\\ub4dc\\ub808\\ubc25\\uc591\\ub150\\uc7a5\", \"\\uace8\\ubc45\\uc774\\ubb34\\uce68\\uc18c\\uba74\", \"\\uace8\\ubc45\\uc774\\ubb34\\uce68\\uc18c\\uba74\", \"\\uacfc\\uc77c\\uc0d0\\ub7ec\\ub4dc\", \"\\uacfc\\uc77c\\uc0d0\\ub7ec\\ub4dc\", \"\\uad70\\uace0\\uad6c\\ub9c8\", \"\\uad74\\ubbf8\\uc5ed\\uad6d\", \"\\uad74\\ube44\\uad6c\\uc774\", \"\\uadfc\\ub300\\uad6d\", \"\\uadfc\\ub300\\uad6d\", \"\\uadfc\\ub300\\uad6d\", \"\\uadfc\\ub300\\ub41c\\uc7a5\\uad6d\", \"\\uae40\\uce58\\uc804\", \"\\uae40\\uce58\\uc804\", \"\\uae40\\uce58\\ucc0c\\uac1c\", \"\\uae4d\\ub450\\uae30\", \"\\uae4d\\ub450\\uae30\", \"\\uae4d\\ub450\\uae30\", \"\\uae4d\\ub450\\uae30\", \"\\uae50\\ud48d\\uae30\", \"\\uae50\\ud48d\\uc721\", \"\\uae7b\\uc78e\\uc9c0\", \"\\uaf41\\uce58\\ud55c\\ub9c8\\ub9ac\\uad6c\\uc774\", \"\\uaf41\\uce58\\ud55c\\ub9c8\\ub9ac\\uad6c\\uc774\", \"\\uaf43\\uac8c\\ud0d5\", \"\\uaf43\\uac8c\\ud0d5\", \"\\ub098\\ubb3c\\ube44\\ube54\\ubc25\", \"\\ub099\\uc9c0\\ubcf6\\uc74c\", \"\\ub2e8\\ubb34\\uc9c0\", \"\\ub2e8\\ubc30\\ucd94\\ub098\\ubb3c\", \"\\ub2e8\\ud638\\ubc15\\uc601\\uc591\\ubc25\", \"\\ub2ed\\uac08\\ube44\", \"\\ub2ed\\uac08\\ube44\", \"\\ub2ed\\uac15\\uc815\", \"\\ub2ed\\ubcf6\\uc74c\\ud0d5\", \"\\ub2ed\\ubcf6\\uc74c\\ud0d5\", \"\\ub2ed\\ubcf6\\uc74c\\ud0d5\", \"\\ub2ed\\ubcf6\\uc74c\\ud0d5\", \"\\ub2ed\\uc624\\ube10\\uad6c\\uc774\", \"\\ub2ed\\uc624\\ube10\\uad6c\\uc774\", \"\\ub2ed\\uc624\\ube10\\uad6c\\uc774\", \"\\ub354\\ub355\\ubb34\\uce68\", \"\\ub3c4\\ud1a0\\ub9ac\\ubb35\\ub0c9\\uad6d\", \"\\ub3c4\\ud1a0\\ub9ac\\ubb35\\uc57c\\ucc44\\ubb34\\uce68\", \"\\ub3c4\\ud1a0\\ub9ac\\ubb35\\uc57c\\ucc44\\ubb34\\uce68\", \"\\ub3c8\\uc721\\uac15\\uc815\", \"\\ub3c8\\uc721\\uace0\\ucd94\\uc7a5\\ubd88\\uace0\\uae30\", \"\\ub3c8\\uc721\\uad74\\uc18c\\uc2a4\\ubcf6\\uc74c\", \"\\ub3c8\\uc721\\uae40\\uce58\\ucc0c\\uac1c\", \"\\ub3c8\\uc721\\uae40\\uce58\\ucc0c\\uac1c\", \"\\ub3c8\\uc721\\uc7a5\\uc870\\ub9bc\", \"\\ub3c8\\uc721\\uc7a5\\uc870\\ub9bc\", \"\\ub3d9\\ud0dc\\ud0d5\", \"\\ub3d9\\ud30c\\uc0bc\\uacb9\\uc218\\uc721\", \"\\ub41c\\uc7a5\\ucc0c\\uac1c\", \"\\ub41c\\uc7a5\\ucc0c\\uac1c\", \"\\ub41c\\uc7a5\\ucc0c\\uac1c\", \"\\ub450\\ubd80\\uad6c\\uc774\", \"\\ub450\\ubd80\\uad6c\\uc774\\uc591\\ub150\\uc7a5\", \"\\ub450\\ubd80\\uad6c\\uc774\\uc591\\ub150\\uc7a5\", \"\\ub450\\ubd80\\uc0c8\\uc2f9\\uad6c\\uc774\", \"\\ub4f1\\uac08\\ube44\\uae40\\uce58\\ucc1c\", \"\\ub4f1\\uac08\\ube44\\uae40\\uce58\\ucc1c\", \"\\ub545\\ucf69\\uc870\\ub9bc\", \"\\ub9c8\\ub298\\uac04\\uc7a5\\uce58\\ud0a8\", \"\\ub9c8\\ub298\\ucad1\\ubb34\\uce68\", \"\\ub9c8\\ub298\\ucad1\\ubb34\\uce68\", \"\\ub9c8\\ub298\\ucad1\\ubcf6\\uc74c\", \"\\ub9d1\\uc740\\uad6d\", \"\\ub9d1\\uc740\\uad6d\", \"\\ub9db\\uc0b4\\ub0c9\\ucc44\", \"\\ub9db\\uc0b4\\uc804\", \"\\ub9e4\\uc6b4\\ub3fc\\uc9c0\\uac08\\ube44\\ucc1c\", \"\\ub9e4\\uc6b4\\ub3fc\\uc9c0\\uac08\\ube44\\ucc1c\", \"\\ub9e4\\uc6b4\\uc5b4\\ubb35\\ubcf6\\uc74c\", \"\\ub9e4\\uc6b4\\uc5b4\\ubb35\\ubcf6\\uc74c\", \"\\ub9e4\\uc6b4\\ucf69\\ub098\\ubb3c\\uad6d\", \"\\ub9e4\\ucf64\\ub3fc\\uc9c0\\uac08\\ube44\\ucc1c\", \"\\uba54\\ubc00\\uc804\\ubcd1\\ub9cc\\ub450\", \"\\uba54\\ucd94\\ub9ac\\uc54c\\uc870\\ub9bc\", \"\\uba54\\ucd94\\ub9ac\\uc54c\\uc870\\ub9bc\", \"\\uba54\\ucd94\\ub9ac\\uc54c\\uc870\\ub9bc\", \"\\ubaa8\\ub4ec\\uc18c\\uc2dc\\uc9c0\\uad6c\\uc774\", \"\\ubaa8\\ub4ec\\uc18c\\uc2dc\\uc9c0\\uad6c\\uc774\", \"\\ubaa8\\ub4ec\\uc308\", \"\\ubaa8\\ub4ec\\uc308\\uc308\\uc7a5\", \"\\ubb34\\uc0dd\\ucc44\", \"\\ubb34\\uc0dd\\ucc44\", \"\\ubb34\\uc0dd\\ucc44\", \"\\ubb34\\uc308\\uc591\\ud30c\\uc808\\uc784\", \"\\ubb3c\\ubbf8\\uc5ed\\ucd08\\uc7a5\", \"\\ubb3c\\ubbf8\\uc5ed\\ucd08\\uc7a5\", \"\\ubbf8\\uc18c\\uc7a5\\uad6d\", \"\\ubbf8\\uc18c\\uc7a5\\uad6d\", \"\\ubc29\\ud48d\\ub098\\ubb3c\", \"\\ubc30\\ucd94\\uac89\\uc808\\uc774\", \"\\ubc30\\ucd94\\uac89\\uc808\\uc774\", \"\\ubc30\\ucd94\\uac89\\uc808\\uc774\", \"\\ubc30\\ucd94\\uac89\\uc808\\uc774\", \"\\ubc30\\ucd94\\ub41c\\uc7a5\\uad6d\", \"\\ubc30\\ucd94\\ub41c\\uc7a5\\uad6d\", \"\\ubc30\\ucd94\\ub41c\\uc7a5\\uad6d\", \"\\ubc84\\uc12f\\ub9e4\\uc6b4\\ud0d5\", \"\\ubc84\\uc12f\\ubd88\\uace0\\uae30\", \"\\ubc84\\uc12f\\uc7a1\\ucc44\", \"\\ubc84\\uc12f\\uc7a1\\ucc44\", \"\\ubcf6\\uc74c\\uae40\\uce58\", \"\\ubd80\\ub300\\ucc0c\\uac1c\", \"\\ubd80\\ub300\\ucc0c\\uac1c\", \"\\ubd80\\ub300\\ucc0c\\uac1c\", \"\\ubd80\\ucd94\\uc0dd\\ucc44\", \"\\uc0ac\\uacfc\\uace0\\uad6c\\ub9c8\\uadf8\\ub77c\\ud0d5\", \"\\uc0ac\\uacfc\\uace0\\uad6c\\ub9c8\\uadf8\\ub77c\\ud0d5\", \"\\uc0ac\\ucc9c\\uc2dd\\ud0d5\\uc218\\uc721\", \"\\uc0b0\\ucc44\\ube44\\ube54\\ubc25\", \"\\uc0bc\\uacb9\\uc0b4\\uc624\\ube10\\uad6c\\uc774\", \"\\uc0bc\\uacc4\\ud0d5\", \"\\uc0bc\\uc0c9\\uc720\\uc790\\uccad\\ubb34\\uce68\", \"\\uc0c8\\uc1a1\\uc774\\ubc84\\uc12f\\uc804\", \"\\uc0c8\\uc1a1\\uc774\\ubc84\\uc12f\\uc804\", \"\\uc0d0\\ub7ec\\ub4dc\\ud30c\\uc2a4\\ud0c0\", \"\\uc0dd\\uc57c\\ucc44\\uc308\\uc7a5\", \"\\uc11d\\ubc15\\uc9c0\", \"\\uc11d\\ubc15\\uc9c0\", \"\\uc124\\ub801\\ud0d5\", \"\\uc138\\ubc1c\\ub098\\ubb3c\", \"\\uc18c\\uace0\\uae30\\ub099\\uc9c0\\ubcf6\\uc74c\", \"\\uc18c\\uace0\\uae30\\ubbf8\\uc5ed\\uad6d\", \"\\uc18c\\uace0\\uae30\\ubbf8\\uc5ed\\uad6d\", \"\\uc18c\\uace0\\uae30\\ubbf8\\uc5ed\\uad6d\", \"\\uc1e0\\uace0\\uae30\\ubb34\\uad6d\", \"\\uc1e0\\uace0\\uae30\\uc0e4\\ube0c\\uad6d\", \"\\uc1e0\\uace0\\uae30\\uc0e4\\ube0c\\uad6d\", \"\\uc1e0\\uace0\\uae30\\uc7a5\\uc870\\ub9bc\", \"\\uc218\\uc6d0\\uc655\\uac08\\ube44\\ud1b5\\ub2ed\", \"\\uc218\\uc81c\\ub3c8\\uae4c\\uc2a4\", \"\\uc219\\uc8fc\\ub098\\ubb3c\", \"\\uc219\\uc8fc\\ub098\\ubb3c\", \"\\uc219\\uc8fc\\ub098\\ubb3c\", \"\\uc21c\\ub450\\ubd80\\ucc0c\\uac1c\", \"\\uc21c\\ub450\\ubd80\\ucc0c\\uac1c\", \"\\uc21c\\ub450\\ubd80\\ucc0c\\uac1c\", \"\\uc21c\\ub450\\ubd80\\ucc0c\\uac1c\", \"\\uc21c\\uc0b4\\ud30c\\ub2ed\", \"\\uc2dc\\uae08\\uce58\\ub41c\\uc7a5\\uad6d\", \"\\uc2dc\\uae08\\uce58\\ub41c\\uc7a5\\uad6d\", \"\\uc2dc\\uae08\\uce58\\ub41c\\uc7a5\\uad6d\", \"\\uc2dc\\uae08\\uce58\\ub41c\\uc7a5\\uad6d\", \"\\uc2dc\\uae08\\uce58\\ud504\\ub9ac\\ud0c0\\ud0c0\", \"\\uc2dc\\ub798\\uae30\\uad6d\", \"\\uc2dc\\ub798\\uae30\\uad6d\", \"\\uc2dc\\ub798\\uae30\\uad6d\", \"\\uc2dc\\uc800\\uc0d0\\ub7ec\\ub4dc\", \"\\uc300\\ubc25\\uc7a1\\uace1\\ubc25\", \"\\uc300\\ubc25\\uc7a1\\uace1\\ubc25\", \"\\uc300\\ubc25\\uc7a1\\uace1\\ubc25\", \"\\uc300\\ubc25\\uc7a1\\uace1\\ubc25\", \"\\uc300\\ubc25\\ud751\\ubbf8\\ubc25\\ucc30\\ud604\\ubbf8\\ubc25\", \"\\uc300\\ubc25\\ud751\\ubbf8\\ubc25\\ucc30\\ud604\\ubbf8\\ubc25\", \"\\uc300\\ubc25\\ud751\\ubbf8\\ubc25\\ucc30\\ud604\\ubbf8\\ubc25\", \"\\uc300\\ubc25\\ud751\\ubbf8\\ubc25\\ucc30\\ud604\\ubbf8\\ubc25\", \"\\uc308\\ubb34\\ubd80\\ucd94\\uc0dd\\ucc44\", \"\\uc308\\ubb34\\ubd80\\ucd94\\uc0dd\\ucc44\", \"\\uc308\\ubb34\\uc591\\ud30c\\uc808\\uc784\", \"\\uc465\\uac13\\ub098\\ubb3c\", \"\\uc465\\uac13\\ub450\\ubd80\\ubb34\\uce68\", \"\\uc465\\uac13\\ub450\\ubd80\\ubb34\\uce68\", \"\\uc544\\uadc0\\ucf69\\ub098\\ubb3c\\ucc1c\", \"\\uc544\\uc0ad\\uace0\\ucd94\\ubb34\\uce68\", \"\\uc544\\uc0ad\\uace0\\ucd94\\ubb34\\uce68\", \"\\uc544\\uc6b1\\uad6d\", \"\\uc544\\uc6b1\\uad6d\", \"\\uc544\\uc6b1\\uad6d\", \"\\uc544\\uc6b1\\uad6d\", \"\\uc544\\uc6b1\\ub41c\\uc7a5\\uad6d\", \"\\uc544\\uc6b1\\ub41c\\uc7a5\\uad6d\", \"\\uc544\\uc6b1\\ub41c\\uc7a5\\uad6d\", \"\\uc54c\\ud0c0\\ub9ac\\uae40\\uce58\", \"\\uc54c\\ud0c0\\ub9ac\\uae40\\uce58\", \"\\uc54c\\ud0c0\\ub9ac\\uae40\\uce58\", \"\\uc54c\\ud0c0\\ub9ac\\uae40\\uce58\", \"\\uc57c\\ucc44\\ube44\\ube54\\ub9cc\\ub450\", \"\\uc591\\ubc30\\ucd94\\uc0d0\\ub7ec\\ub4dc\\uc0ac\\uc6b0\\uc804D\", \"\\uc591\\ubc30\\ucd94\\uc308\", \"\\uc591\\ubc30\\ucd94\\ucf00\\uc77c\\uc219\\uc308\\uc591\\ub150\\uac04\\uc7a5\", \"\\uc591\\uc7a5\\ud53c\\uc7a1\\ucc44\", \"\\uc5b4\\ubb35\\uad6d\", \"\\uc5b4\\ubb35\\uad6d\", \"\\uc5b4\\ubb35\\uad6d\", \"\\uc5b4\\ubb35\\ubcf6\\uc74c\", \"\\uc5b4\\ubb35\\ubcf6\\uc74c\", \"\\uc5b4\\ubb35\\ubcf6\\uc74c\", \"\\uc5b8\\uc591\\uc2dd\\ubd88\\uace0\\uae30\", \"\\uc5b8\\uc591\\uc2dd\\ubd88\\uace0\\uae30\", \"\\uc5b8\\uc591\\uc2dd\\ubd88\\uace0\\uae30\", \"\\uc5bc\\uac08\\uc774\\uad6d\", \"\\uc5f0\\ub450\\ubd80\\uc591\\ub150\\uc7a5\", \"\\uc5f0\\ub450\\ubd80\\uc591\\ub150\\uc7a5\", \"\\uc5f4\\ubb34\\uae40\\uce58\", \"\\uc5f4\\ubb34\\uae40\\uce58\", \"\\uc5f4\\ubb34\\uae40\\uce58\", \"\\uc5f4\\ubb34\\uae40\\uce58\", \"\\uc5f4\\ubb34\\ub098\\ubb3c\", \"\\uc5f4\\ubb34\\ub098\\ubb3c\", \"\\uc5f4\\ubb34\\ub098\\ubb3c\", \"\\uc5f4\\ubb34\\ub41c\\uc7a5\\uad6d\", \"\\uc5f4\\ubb34\\ub41c\\uc7a5\\uad6d\", \"\\uc624\\ubcf5\\uc9c0\\ubb34\\uce68\", \"\\uc624\\ubcf5\\uc9c0\\ubb34\\uce68\", \"\\uc624\\uc0bc\\ubd88\\uace0\\uae30\", \"\\uc624\\uc774\\ub0c9\\uad6d\", \"\\uc624\\uc774\\ubb34\\uce68\", \"\\uc624\\uc774\\ubb34\\uce68\", \"\\uc624\\uc774\\ubb34\\uce68\", \"\\uc624\\uc774\\uc9c0\\ub0c9\\uad6d\", \"\\uc624\\uc774\\uc9c0\\ub0c9\\uad6d\", \"\\uc624\\uc9d5\\uc5b4\\ubcf6\\uc74c\", \"\\uc624\\uc9d5\\uc5b4\\ubcf6\\uc74c\", \"\\uc624\\uc9d5\\uc5b4\\ubcf6\\uc74c\\uc18c\\uba74\", \"\\uc624\\uc9d5\\uc5b4\\uc219\\ud68c\\ubb34\\uce68\", \"\\uc624\\uc9d5\\uc5b4\\uc219\\ud68c\\ubb34\\uce68\", \"\\uc624\\uc9d5\\uc5b4\\uc219\\ud68c\\ubb34\\uce68\", \"\\uc628\\ub450\\ubd80\", \"\\uc62c\\ubc29\\uac1c\\ubb35\\ubb34\\uce68\", \"\\uc694\\uad6c\\ub974\\ud2b8\", \"\\uc694\\uad6c\\ub974\\ud2b8\", \"\\uc694\\ud50c\\ub808\", \"\\uc694\\ud50c\\ub808\\uc624\\ubcf5\\uc9c0\", \"\\uc720\\uae30\\ub18d\\uc2dd\\ud61c\", \"\\uc720\\ubd80\\uc8fc\\uba38\\ub2c8\\uad6d\", \"\\uc720\\uc0b0\\uc2ac\", \"\\uc720\\uc790\\uccad\\uc81c\\uc721\\ubcf6\\uc74c\", \"\\uc720\\ucc44\\ub098\\ubb3c\", \"\\uc721\\uac1c\\uc7a5\", \"\\uc721\\uac1c\\uc7a5\", \"\\uc7a1\\ucc44\", \"\\uc81c\\uc721\\uace0\\ucd94\\uc7a5\\ubd88\\uace0\\uae30\", \"\\uc8fc\\uafb8\\ubbf8\\ubcf6\\uc74c\", \"\\uc8fc\\uafb8\\ubbf8\\ubcf6\\uc74c\", \"\\uc9ec\\ubf55\\ubd88\\uace0\\uae30\", \"\\uc9ec\\ubf55\\ubd88\\uace0\\uae30\", \"\\uc9ec\\ubf55\\ubd88\\uace0\\uae30\", \"\\uca14\\uc0e4\\uc774\\ubb34\\uce68\", \"\\ucac4\\uba74\\ubb34\\uce68\", \"\\ucad1\\uc0c1\\ucd94\\ubb34\\uce68\", \"\\ucad1\\uc0c1\\ucd94\\ubb34\\uce68\", \"\\ucc38\\uce58\\ud68c\\ub36e\\ubc25\", \"\\ucc39\\uc300\\ubc25\", \"\\uccad\\uacbd\\ucc44\\uc0dd\\ucc44\", \"\\ucd08\\ubcf5\\ud2b9\\uc2dd\", \"\\ucd98\\ucc9c\\ub2ed\\uac08\\ube44\", \"\\ucd98\\ucc9c\\ub2ed\\uac08\\ube44\", \"\\uce58\\uc988\\ud568\\ubc15\\uc2a4\\ud14c\\uc774\\ud06c\", \"\\uce58\\ud0a8\\uae4c\\uc2a4\\uc18c\\uc2a4\", \"\\uce58\\ud0a8\\ud551\\uac70\", \"\\uce74\\ub808\\ub36e\\ubc25\", \"\\uce74\\ub808\\ub77c\\uc774\\uc2a4\", \"\\ucf69\\ub098\\ubb3c\\uad6d\", \"\\ucf69\\ub098\\ubb3c\\uad6d\", \"\\ucf69\\ub098\\ubb3c\\uad6d\", \"\\ucf69\\ub098\\ubb3c\\ubb34\\uce68\", \"\\ucf69\\ub098\\ubb3c\\ubb34\\uce68\", \"\\ucf69\\ub098\\ubb3c\\ubc25\", \"\\ucf69\\ub098\\ubb3c\\ubc25\", \"\\ucf69\\ub098\\ubb3c\\ubc25\", \"\\ud0d5\\uc218\\uc5b4\", \"\\ud0d5\\uc218\\uc5b4\", \"\\ud0d5\\uc218\\uc5b4\", \"\\ud33d\\uc774\\uc7a5\\uad6d\", \"\\ud33d\\uc774\\uc7a5\\uad6d\", \"\\ud33d\\uc774\\uc7a5\\uad6d\", \"\\ud3ec\\uae30\\uae40\\uce58\", \"\\ud3ec\\uae30\\uae40\\uce58\", \"\\ud3ec\\uae30\\uae40\\uce58\", \"\\ud3ec\\uae30\\uae40\\uce58\", \"\\ud3ec\\uae30\\uae40\\uce58\\ub538\\uae30\\ud478\\ub529\", \"\\ud3ec\\uae30\\uae40\\uce58\\uc694\\uad6c\\ub974\\ud2b8\", \"\\ud478\\uc2e4\\ub9ac\\ud30c\\uc2a4\\ud0c0\\uc0d0\\ub7ec\\ub4dc\", \"\\ud55c\\uc2dd\\uc7a1\\ucc44\", \"\\ud574\\ubb3c\\ub204\\ub8fd\\uc9c0\\ud0d5\", \"\\ud574\\ubb3c\\ub204\\ub8fd\\uc9c0\\ud0d5\", \"\\ud574\\ubb3c\\ub204\\ub8fd\\uc9c0\\ud0d5\", \"\\ud574\\ubb3c\\ub204\\ub8fd\\uc9c0\\ud0d5\", \"\\ud574\\ubb3c\\ub41c\\uc7a5\\ucc0c\\uac1c\", \"\\ud638\\ubc15\\ub41c\\uc7a5\\ucc0c\\uac1c\", \"\\ud638\\ubc15\\ubd80\\ucd94\\uc804\", \"\\ud64d\\uc5b4\\ucc44\\ubb34\\uce68\", \"\\ud6c8\\uc81c\\uc624\\ub9ac\\uad6c\\uc774\", \"\\ud6c8\\uc81c\\uc624\\ub9ac\\ub9c8\\ub298\\ubcf6\\uc74c\", \"\\ud751\\uc784\\uc790\\uc5f0\\uadfc\\uc0d0\\ub7ec\\ub4dc\"]}, \"R\": 30, \"lambda.step\": 0.01, \"plot.opts\": {\"xlab\": \"PC1\", \"ylab\": \"PC2\"}, \"topic.order\": [2, 3, 1, 4]};\n",
       "\n",
       "function LDAvis_load_lib(url, callback){\n",
       "  var s = document.createElement('script');\n",
       "  s.src = url;\n",
       "  s.async = true;\n",
       "  s.onreadystatechange = s.onload = callback;\n",
       "  s.onerror = function(){console.warn(\"failed to load library \" + url);};\n",
       "  document.getElementsByTagName(\"head\")[0].appendChild(s);\n",
       "}\n",
       "\n",
       "if(typeof(LDAvis) !== \"undefined\"){\n",
       "   // already loaded: just create the visualization\n",
       "   !function(LDAvis){\n",
       "       new LDAvis(\"#\" + \"ldavis_el583341402299605598567524109041\", ldavis_el583341402299605598567524109041_data);\n",
       "   }(LDAvis);\n",
       "}else if(typeof define === \"function\" && define.amd){\n",
       "   // require.js is available: use it to load d3/LDAvis\n",
       "   require.config({paths: {d3: \"https://d3js.org/d3.v5\"}});\n",
       "   require([\"d3\"], function(d3){\n",
       "      window.d3 = d3;\n",
       "      LDAvis_load_lib(\"https://cdn.jsdelivr.net/gh/bmabey/pyLDAvis@3.2.2/pyLDAvis/js/ldavis.v3.0.0.js\", function(){\n",
       "        new LDAvis(\"#\" + \"ldavis_el583341402299605598567524109041\", ldavis_el583341402299605598567524109041_data);\n",
       "      });\n",
       "    });\n",
       "}else{\n",
       "    // require.js not available: dynamically load d3 & LDAvis\n",
       "    LDAvis_load_lib(\"https://d3js.org/d3.v5.js\", function(){\n",
       "         LDAvis_load_lib(\"https://cdn.jsdelivr.net/gh/bmabey/pyLDAvis@3.2.2/pyLDAvis/js/ldavis.v3.0.0.js\", function(){\n",
       "                 new LDAvis(\"#\" + \"ldavis_el583341402299605598567524109041\", ldavis_el583341402299605598567524109041_data);\n",
       "            })\n",
       "         });\n",
       "}\n",
       "</script>"
      ],
      "text/plain": [
       "<IPython.core.display.HTML object>"
      ]
     },
     "execution_count": 278,
     "metadata": {},
     "output_type": "execute_result"
    }
   ],
   "source": [
    "import pyLDAvis.gensim\n",
    "pyLDAvis.enable_notebook()\n",
    "vis = pyLDAvis.gensim.prepare(ldamodel, corpus, dictionary)\n",
    "pyLDAvis.display(vis)"
   ]
  },
  {
   "cell_type": "code",
   "execution_count": 279,
   "id": "c88ef5e5",
   "metadata": {},
   "outputs": [
    {
     "name": "stderr",
     "output_type": "stream",
     "text": [
      "/Users/doyeonpyun/opt/anaconda3/lib/python3.8/site-packages/ipykernel/ipkernel.py:287: DeprecationWarning: `should_run_async` will not call `transform_cell` automatically in the future. Please pass the result to `transformed_cell` argument and any exception that happen during thetransform in `preprocessing_exc_tuple` in IPython 7.17 and above.\n",
      "  and should_run_async(code)\n"
     ]
    }
   ],
   "source": [
    "def make_topictable_per_doc(ldamodel, corpus):\n",
    "    topic_table = pd.DataFrame()\n",
    "\n",
    "    # 몇 번째 문서인지를 의미하는 문서 번호와 해당 문서의 토픽 비중을 한 줄씩 꺼내온다.\n",
    "    for i, topic_list in enumerate(ldamodel[corpus]):\n",
    "        doc = topic_list[0] if ldamodel.per_word_topics else topic_list            \n",
    "        doc = sorted(doc, key=lambda x: (x[1]), reverse=True)\n",
    "        # 각 문서에 대해서 비중이 높은 토픽순으로 토픽을 정렬한다.\n",
    "        # EX) 정렬 전 0번 문서 : (2번 토픽, 48.5%), (8번 토픽, 25%), (10번 토픽, 5%), (12번 토픽, 21.5%), \n",
    "        # Ex) 정렬 후 0번 문서 : (2번 토픽, 48.5%), (8번 토픽, 25%), (12번 토픽, 21.5%), (10번 토픽, 5%)\n",
    "        # 48 > 25 > 21 > 5 순으로 정렬이 된 것.\n",
    "\n",
    "        # 모든 문서에 대해서 각각 아래를 수행\n",
    "        for j, (topic_num, prop_topic) in enumerate(doc): #  몇 번 토픽인지와 비중을 나눠서 저장한다.\n",
    "            if j == 0:  # 정렬을 한 상태이므로 가장 앞에 있는 것이 가장 비중이 높은 토픽\n",
    "                topic_table = topic_table.append(pd.Series([int(topic_num), round(prop_topic,4), topic_list]), ignore_index=True)\n",
    "                # 가장 비중이 높은 토픽과, 가장 비중이 높은 토픽의 비중과, 전체 토픽의 비중을 저장한다.\n",
    "            else:\n",
    "                break\n",
    "    return(topic_table)"
   ]
  },
  {
   "cell_type": "code",
   "execution_count": 280,
   "id": "916b5656",
   "metadata": {},
   "outputs": [
    {
     "name": "stderr",
     "output_type": "stream",
     "text": [
      "/Users/doyeonpyun/opt/anaconda3/lib/python3.8/site-packages/ipykernel/ipkernel.py:287: DeprecationWarning: `should_run_async` will not call `transform_cell` automatically in the future. Please pass the result to `transformed_cell` argument and any exception that happen during thetransform in `preprocessing_exc_tuple` in IPython 7.17 and above.\n",
      "  and should_run_async(code)\n"
     ]
    },
    {
     "data": {
      "text/html": [
       "<div>\n",
       "<style scoped>\n",
       "    .dataframe tbody tr th:only-of-type {\n",
       "        vertical-align: middle;\n",
       "    }\n",
       "\n",
       "    .dataframe tbody tr th {\n",
       "        vertical-align: top;\n",
       "    }\n",
       "\n",
       "    .dataframe thead th {\n",
       "        text-align: right;\n",
       "    }\n",
       "</style>\n",
       "<table border=\"1\" class=\"dataframe\">\n",
       "  <thead>\n",
       "    <tr style=\"text-align: right;\">\n",
       "      <th></th>\n",
       "      <th>문서 번호</th>\n",
       "      <th>가장 비중이 높은 토픽</th>\n",
       "      <th>가장 높은 토픽의 비중</th>\n",
       "      <th>각 토픽의 비중</th>\n",
       "    </tr>\n",
       "  </thead>\n",
       "  <tbody>\n",
       "    <tr>\n",
       "      <th>0</th>\n",
       "      <td>0</td>\n",
       "      <td>1.0</td>\n",
       "      <td>0.9043</td>\n",
       "      <td>[(0, 0.03180503), (1, 0.9043225), (2, 0.032407...</td>\n",
       "    </tr>\n",
       "    <tr>\n",
       "      <th>1</th>\n",
       "      <td>1</td>\n",
       "      <td>3.0</td>\n",
       "      <td>0.5581</td>\n",
       "      <td>[(0, 0.031920366), (1, 0.37576136), (2, 0.0341...</td>\n",
       "    </tr>\n",
       "    <tr>\n",
       "      <th>2</th>\n",
       "      <td>2</td>\n",
       "      <td>2.0</td>\n",
       "      <td>0.9051</td>\n",
       "      <td>[(0, 0.031640027), (1, 0.031854738), (2, 0.905...</td>\n",
       "    </tr>\n",
       "    <tr>\n",
       "      <th>3</th>\n",
       "      <td>3</td>\n",
       "      <td>2.0</td>\n",
       "      <td>0.9027</td>\n",
       "      <td>[(0, 0.032088313), (1, 0.03367071), (2, 0.9026...</td>\n",
       "    </tr>\n",
       "    <tr>\n",
       "      <th>4</th>\n",
       "      <td>4</td>\n",
       "      <td>1.0</td>\n",
       "      <td>0.6967</td>\n",
       "      <td>[(0, 0.031758208), (1, 0.6967047), (2, 0.03287...</td>\n",
       "    </tr>\n",
       "    <tr>\n",
       "      <th>5</th>\n",
       "      <td>5</td>\n",
       "      <td>2.0</td>\n",
       "      <td>0.9037</td>\n",
       "      <td>[(0, 0.032031395), (1, 0.032688826), (2, 0.903...</td>\n",
       "    </tr>\n",
       "    <tr>\n",
       "      <th>6</th>\n",
       "      <td>6</td>\n",
       "      <td>1.0</td>\n",
       "      <td>0.9039</td>\n",
       "      <td>[(0, 0.031511802), (1, 0.90385914), (2, 0.0329...</td>\n",
       "    </tr>\n",
       "    <tr>\n",
       "      <th>7</th>\n",
       "      <td>7</td>\n",
       "      <td>1.0</td>\n",
       "      <td>0.4794</td>\n",
       "      <td>[(0, 0.45519343), (1, 0.47941902), (2, 0.03384...</td>\n",
       "    </tr>\n",
       "    <tr>\n",
       "      <th>8</th>\n",
       "      <td>8</td>\n",
       "      <td>2.0</td>\n",
       "      <td>0.8992</td>\n",
       "      <td>[(0, 0.032781392), (1, 0.03566303), (2, 0.8992...</td>\n",
       "    </tr>\n",
       "    <tr>\n",
       "      <th>9</th>\n",
       "      <td>9</td>\n",
       "      <td>1.0</td>\n",
       "      <td>0.9040</td>\n",
       "      <td>[(0, 0.031643312), (1, 0.9040083), (2, 0.03290...</td>\n",
       "    </tr>\n",
       "  </tbody>\n",
       "</table>\n",
       "</div>"
      ],
      "text/plain": [
       "   문서 번호  가장 비중이 높은 토픽  가장 높은 토픽의 비중  \\\n",
       "0      0           1.0        0.9043   \n",
       "1      1           3.0        0.5581   \n",
       "2      2           2.0        0.9051   \n",
       "3      3           2.0        0.9027   \n",
       "4      4           1.0        0.6967   \n",
       "5      5           2.0        0.9037   \n",
       "6      6           1.0        0.9039   \n",
       "7      7           1.0        0.4794   \n",
       "8      8           2.0        0.8992   \n",
       "9      9           1.0        0.9040   \n",
       "\n",
       "                                            각 토픽의 비중  \n",
       "0  [(0, 0.03180503), (1, 0.9043225), (2, 0.032407...  \n",
       "1  [(0, 0.031920366), (1, 0.37576136), (2, 0.0341...  \n",
       "2  [(0, 0.031640027), (1, 0.031854738), (2, 0.905...  \n",
       "3  [(0, 0.032088313), (1, 0.03367071), (2, 0.9026...  \n",
       "4  [(0, 0.031758208), (1, 0.6967047), (2, 0.03287...  \n",
       "5  [(0, 0.032031395), (1, 0.032688826), (2, 0.903...  \n",
       "6  [(0, 0.031511802), (1, 0.90385914), (2, 0.0329...  \n",
       "7  [(0, 0.45519343), (1, 0.47941902), (2, 0.03384...  \n",
       "8  [(0, 0.032781392), (1, 0.03566303), (2, 0.8992...  \n",
       "9  [(0, 0.031643312), (1, 0.9040083), (2, 0.03290...  "
      ]
     },
     "execution_count": 280,
     "metadata": {},
     "output_type": "execute_result"
    }
   ],
   "source": [
    "topictable = make_topictable_per_doc(ldamodel, corpus)\n",
    "topictable = topictable.reset_index() # 문서 번호을 의미하는 열(column)로 사용하기 위해서 인덱스 열을 하나 더 만든다.\n",
    "topictable.columns = ['문서 번호', '가장 비중이 높은 토픽', '가장 높은 토픽의 비중', '각 토픽의 비중']\n",
    "topictable[:10]"
   ]
  },
  {
   "cell_type": "code",
   "execution_count": 281,
   "id": "534194cb",
   "metadata": {},
   "outputs": [
    {
     "name": "stderr",
     "output_type": "stream",
     "text": [
      "/Users/doyeonpyun/opt/anaconda3/lib/python3.8/site-packages/ipykernel/ipkernel.py:287: DeprecationWarning: `should_run_async` will not call `transform_cell` automatically in the future. Please pass the result to `transformed_cell` argument and any exception that happen during thetransform in `preprocessing_exc_tuple` in IPython 7.17 and above.\n",
      "  and should_run_async(code)\n"
     ]
    },
    {
     "data": {
      "text/html": [
       "<div>\n",
       "<style scoped>\n",
       "    .dataframe tbody tr th:only-of-type {\n",
       "        vertical-align: middle;\n",
       "    }\n",
       "\n",
       "    .dataframe tbody tr th {\n",
       "        vertical-align: top;\n",
       "    }\n",
       "\n",
       "    .dataframe thead th {\n",
       "        text-align: right;\n",
       "    }\n",
       "</style>\n",
       "<table border=\"1\" class=\"dataframe\">\n",
       "  <thead>\n",
       "    <tr style=\"text-align: right;\">\n",
       "      <th></th>\n",
       "      <th>문서 번호</th>\n",
       "      <th>가장 비중이 높은 토픽</th>\n",
       "      <th>가장 높은 토픽의 비중</th>\n",
       "      <th>각 토픽의 비중</th>\n",
       "    </tr>\n",
       "  </thead>\n",
       "  <tbody>\n",
       "    <tr>\n",
       "      <th>0</th>\n",
       "      <td>0</td>\n",
       "      <td>1.0</td>\n",
       "      <td>0.9043</td>\n",
       "      <td>[(0, 0.03180503), (1, 0.9043225), (2, 0.032407...</td>\n",
       "    </tr>\n",
       "    <tr>\n",
       "      <th>1</th>\n",
       "      <td>1</td>\n",
       "      <td>3.0</td>\n",
       "      <td>0.5581</td>\n",
       "      <td>[(0, 0.031920366), (1, 0.37576136), (2, 0.0341...</td>\n",
       "    </tr>\n",
       "    <tr>\n",
       "      <th>2</th>\n",
       "      <td>2</td>\n",
       "      <td>2.0</td>\n",
       "      <td>0.9051</td>\n",
       "      <td>[(0, 0.031640027), (1, 0.031854738), (2, 0.905...</td>\n",
       "    </tr>\n",
       "    <tr>\n",
       "      <th>3</th>\n",
       "      <td>3</td>\n",
       "      <td>2.0</td>\n",
       "      <td>0.9027</td>\n",
       "      <td>[(0, 0.032088313), (1, 0.03367071), (2, 0.9026...</td>\n",
       "    </tr>\n",
       "    <tr>\n",
       "      <th>4</th>\n",
       "      <td>4</td>\n",
       "      <td>1.0</td>\n",
       "      <td>0.6967</td>\n",
       "      <td>[(0, 0.031758208), (1, 0.6967047), (2, 0.03287...</td>\n",
       "    </tr>\n",
       "    <tr>\n",
       "      <th>...</th>\n",
       "      <td>...</td>\n",
       "      <td>...</td>\n",
       "      <td>...</td>\n",
       "      <td>...</td>\n",
       "    </tr>\n",
       "    <tr>\n",
       "      <th>1200</th>\n",
       "      <td>1200</td>\n",
       "      <td>1.0</td>\n",
       "      <td>0.8964</td>\n",
       "      <td>[(0, 0.0376003), (1, 0.8963504), (2, 0.0324177...</td>\n",
       "    </tr>\n",
       "    <tr>\n",
       "      <th>1201</th>\n",
       "      <td>1201</td>\n",
       "      <td>2.0</td>\n",
       "      <td>0.9029</td>\n",
       "      <td>[(0, 0.031391524), (1, 0.034164254), (2, 0.902...</td>\n",
       "    </tr>\n",
       "    <tr>\n",
       "      <th>1202</th>\n",
       "      <td>1202</td>\n",
       "      <td>1.0</td>\n",
       "      <td>0.9024</td>\n",
       "      <td>[(0, 0.033084515), (1, 0.90236634), (2, 0.0331...</td>\n",
       "    </tr>\n",
       "    <tr>\n",
       "      <th>1203</th>\n",
       "      <td>1203</td>\n",
       "      <td>2.0</td>\n",
       "      <td>0.9046</td>\n",
       "      <td>[(0, 0.03191814), (1, 0.03184761), (2, 0.90461...</td>\n",
       "    </tr>\n",
       "    <tr>\n",
       "      <th>1204</th>\n",
       "      <td>1204</td>\n",
       "      <td>0.0</td>\n",
       "      <td>0.9055</td>\n",
       "      <td>[(0, 0.90552825), (1, 0.031589467), (2, 0.0315...</td>\n",
       "    </tr>\n",
       "  </tbody>\n",
       "</table>\n",
       "<p>1205 rows × 4 columns</p>\n",
       "</div>"
      ],
      "text/plain": [
       "      문서 번호  가장 비중이 높은 토픽  가장 높은 토픽의 비중  \\\n",
       "0         0           1.0        0.9043   \n",
       "1         1           3.0        0.5581   \n",
       "2         2           2.0        0.9051   \n",
       "3         3           2.0        0.9027   \n",
       "4         4           1.0        0.6967   \n",
       "...     ...           ...           ...   \n",
       "1200   1200           1.0        0.8964   \n",
       "1201   1201           2.0        0.9029   \n",
       "1202   1202           1.0        0.9024   \n",
       "1203   1203           2.0        0.9046   \n",
       "1204   1204           0.0        0.9055   \n",
       "\n",
       "                                               각 토픽의 비중  \n",
       "0     [(0, 0.03180503), (1, 0.9043225), (2, 0.032407...  \n",
       "1     [(0, 0.031920366), (1, 0.37576136), (2, 0.0341...  \n",
       "2     [(0, 0.031640027), (1, 0.031854738), (2, 0.905...  \n",
       "3     [(0, 0.032088313), (1, 0.03367071), (2, 0.9026...  \n",
       "4     [(0, 0.031758208), (1, 0.6967047), (2, 0.03287...  \n",
       "...                                                 ...  \n",
       "1200  [(0, 0.0376003), (1, 0.8963504), (2, 0.0324177...  \n",
       "1201  [(0, 0.031391524), (1, 0.034164254), (2, 0.902...  \n",
       "1202  [(0, 0.033084515), (1, 0.90236634), (2, 0.0331...  \n",
       "1203  [(0, 0.03191814), (1, 0.03184761), (2, 0.90461...  \n",
       "1204  [(0, 0.90552825), (1, 0.031589467), (2, 0.0315...  \n",
       "\n",
       "[1205 rows x 4 columns]"
      ]
     },
     "execution_count": 281,
     "metadata": {},
     "output_type": "execute_result"
    }
   ],
   "source": [
    "topictable"
   ]
  },
  {
   "cell_type": "code",
   "execution_count": 283,
   "id": "390d44c2",
   "metadata": {},
   "outputs": [
    {
     "name": "stderr",
     "output_type": "stream",
     "text": [
      "/Users/doyeonpyun/opt/anaconda3/lib/python3.8/site-packages/ipykernel/ipkernel.py:287: DeprecationWarning: `should_run_async` will not call `transform_cell` automatically in the future. Please pass the result to `transformed_cell` argument and any exception that happen during thetransform in `preprocessing_exc_tuple` in IPython 7.17 and above.\n",
      "  and should_run_async(code)\n"
     ]
    },
    {
     "data": {
      "text/plain": [
       "[(0,\n",
       "  '0.059*\"쌀밥잡곡밥\" + 0.059*\"포기김치\" + 0.019*\"쌀밥흑미밥찰현미밥\" + 0.015*\"배추겉절이\" + 0.012*\"미소장국\" + 0.011*\"콩나물무침\" + 0.010*\"열무김치\" + 0.009*\"깍두기\" + 0.009*\"나물비빔밥\" + 0.007*\"알타리김치\"'),\n",
       " (1,\n",
       "  '0.135*\"쌀밥잡곡밥\" + 0.121*\"포기김치\" + 0.008*\"콩나물국\" + 0.008*\"된장찌개\" + 0.007*\"깍두기\" + 0.007*\"알타리김치\" + 0.007*\"닭갈비\" + 0.007*\"버섯불고기\" + 0.007*\"오징어볶음\" + 0.007*\"배추겉절이\"'),\n",
       " (2,\n",
       "  '0.093*\"포기김치\" + 0.076*\"쌀밥잡곡밥\" + 0.014*\"맑은국\" + 0.012*\"열무김치\" + 0.011*\"훈제오리구이\" + 0.011*\"배추겉절이\" + 0.009*\"쌀밥흑미밥찰현미밥\" + 0.009*\"가쯔오장국\" + 0.008*\"카레덮밥\" + 0.007*\"오이무침\"'),\n",
       " (3,\n",
       "  '0.057*\"쌀밥잡곡밥\" + 0.028*\"포기김치\" + 0.018*\"배추겉절이\" + 0.013*\"부대찌개\" + 0.013*\"열무김치\" + 0.010*\"쌀밥흑미밥찰현미밥\" + 0.009*\"매운돼지갈비찜\" + 0.008*\"메추리알조림\" + 0.008*\"콩나물국\" + 0.008*\"된장찌개\"')]"
      ]
     },
     "execution_count": 283,
     "metadata": {},
     "output_type": "execute_result"
    }
   ],
   "source": [
    "ldamodel.print_topics()"
   ]
  },
  {
   "cell_type": "code",
   "execution_count": 294,
   "id": "82d4c210",
   "metadata": {},
   "outputs": [
    {
     "name": "stderr",
     "output_type": "stream",
     "text": [
      "/Users/doyeonpyun/opt/anaconda3/lib/python3.8/site-packages/ipykernel/ipkernel.py:287: DeprecationWarning: `should_run_async` will not call `transform_cell` automatically in the future. Please pass the result to `transformed_cell` argument and any exception that happen during thetransform in `preprocessing_exc_tuple` in IPython 7.17 and above.\n",
      "  and should_run_async(code)\n"
     ]
    },
    {
     "data": {
      "text/html": [
       "<div>\n",
       "<style scoped>\n",
       "    .dataframe tbody tr th:only-of-type {\n",
       "        vertical-align: middle;\n",
       "    }\n",
       "\n",
       "    .dataframe tbody tr th {\n",
       "        vertical-align: top;\n",
       "    }\n",
       "\n",
       "    .dataframe thead th {\n",
       "        text-align: right;\n",
       "    }\n",
       "</style>\n",
       "<table border=\"1\" class=\"dataframe\">\n",
       "  <thead>\n",
       "    <tr style=\"text-align: right;\">\n",
       "      <th></th>\n",
       "      <th>문서 번호</th>\n",
       "      <th>가장 비중이 높은 토픽</th>\n",
       "      <th>가장 높은 토픽의 비중</th>\n",
       "      <th>각 토픽의 비중</th>\n",
       "    </tr>\n",
       "  </thead>\n",
       "  <tbody>\n",
       "    <tr>\n",
       "      <th>0</th>\n",
       "      <td>0</td>\n",
       "      <td>1.0</td>\n",
       "      <td>0.9043</td>\n",
       "      <td>[(0, 0.03180503), (1, 0.9043225), (2, 0.032407...</td>\n",
       "    </tr>\n",
       "    <tr>\n",
       "      <th>1</th>\n",
       "      <td>1</td>\n",
       "      <td>3.0</td>\n",
       "      <td>0.5581</td>\n",
       "      <td>[(0, 0.031920366), (1, 0.37576136), (2, 0.0341...</td>\n",
       "    </tr>\n",
       "    <tr>\n",
       "      <th>2</th>\n",
       "      <td>2</td>\n",
       "      <td>2.0</td>\n",
       "      <td>0.9051</td>\n",
       "      <td>[(0, 0.031640027), (1, 0.031854738), (2, 0.905...</td>\n",
       "    </tr>\n",
       "    <tr>\n",
       "      <th>3</th>\n",
       "      <td>3</td>\n",
       "      <td>2.0</td>\n",
       "      <td>0.9027</td>\n",
       "      <td>[(0, 0.032088313), (1, 0.03367071), (2, 0.9026...</td>\n",
       "    </tr>\n",
       "    <tr>\n",
       "      <th>4</th>\n",
       "      <td>4</td>\n",
       "      <td>1.0</td>\n",
       "      <td>0.6967</td>\n",
       "      <td>[(0, 0.031758208), (1, 0.6967047), (2, 0.03287...</td>\n",
       "    </tr>\n",
       "    <tr>\n",
       "      <th>...</th>\n",
       "      <td>...</td>\n",
       "      <td>...</td>\n",
       "      <td>...</td>\n",
       "      <td>...</td>\n",
       "    </tr>\n",
       "    <tr>\n",
       "      <th>1200</th>\n",
       "      <td>1200</td>\n",
       "      <td>1.0</td>\n",
       "      <td>0.8964</td>\n",
       "      <td>[(0, 0.0376003), (1, 0.8963504), (2, 0.0324177...</td>\n",
       "    </tr>\n",
       "    <tr>\n",
       "      <th>1201</th>\n",
       "      <td>1201</td>\n",
       "      <td>2.0</td>\n",
       "      <td>0.9029</td>\n",
       "      <td>[(0, 0.031391524), (1, 0.034164254), (2, 0.902...</td>\n",
       "    </tr>\n",
       "    <tr>\n",
       "      <th>1202</th>\n",
       "      <td>1202</td>\n",
       "      <td>1.0</td>\n",
       "      <td>0.9024</td>\n",
       "      <td>[(0, 0.033084515), (1, 0.90236634), (2, 0.0331...</td>\n",
       "    </tr>\n",
       "    <tr>\n",
       "      <th>1203</th>\n",
       "      <td>1203</td>\n",
       "      <td>2.0</td>\n",
       "      <td>0.9046</td>\n",
       "      <td>[(0, 0.03191814), (1, 0.03184761), (2, 0.90461...</td>\n",
       "    </tr>\n",
       "    <tr>\n",
       "      <th>1204</th>\n",
       "      <td>1204</td>\n",
       "      <td>0.0</td>\n",
       "      <td>0.9055</td>\n",
       "      <td>[(0, 0.90552825), (1, 0.031589467), (2, 0.0315...</td>\n",
       "    </tr>\n",
       "  </tbody>\n",
       "</table>\n",
       "<p>1205 rows × 4 columns</p>\n",
       "</div>"
      ],
      "text/plain": [
       "      문서 번호  가장 비중이 높은 토픽  가장 높은 토픽의 비중  \\\n",
       "0         0           1.0        0.9043   \n",
       "1         1           3.0        0.5581   \n",
       "2         2           2.0        0.9051   \n",
       "3         3           2.0        0.9027   \n",
       "4         4           1.0        0.6967   \n",
       "...     ...           ...           ...   \n",
       "1200   1200           1.0        0.8964   \n",
       "1201   1201           2.0        0.9029   \n",
       "1202   1202           1.0        0.9024   \n",
       "1203   1203           2.0        0.9046   \n",
       "1204   1204           0.0        0.9055   \n",
       "\n",
       "                                               각 토픽의 비중  \n",
       "0     [(0, 0.03180503), (1, 0.9043225), (2, 0.032407...  \n",
       "1     [(0, 0.031920366), (1, 0.37576136), (2, 0.0341...  \n",
       "2     [(0, 0.031640027), (1, 0.031854738), (2, 0.905...  \n",
       "3     [(0, 0.032088313), (1, 0.03367071), (2, 0.9026...  \n",
       "4     [(0, 0.031758208), (1, 0.6967047), (2, 0.03287...  \n",
       "...                                                 ...  \n",
       "1200  [(0, 0.0376003), (1, 0.8963504), (2, 0.0324177...  \n",
       "1201  [(0, 0.031391524), (1, 0.034164254), (2, 0.902...  \n",
       "1202  [(0, 0.033084515), (1, 0.90236634), (2, 0.0331...  \n",
       "1203  [(0, 0.03191814), (1, 0.03184761), (2, 0.90461...  \n",
       "1204  [(0, 0.90552825), (1, 0.031589467), (2, 0.0315...  \n",
       "\n",
       "[1205 rows x 4 columns]"
      ]
     },
     "execution_count": 294,
     "metadata": {},
     "output_type": "execute_result"
    }
   ],
   "source": [
    "pd.DataFrame(topictable)"
   ]
  },
  {
   "cell_type": "code",
   "execution_count": null,
   "id": "43a96390",
   "metadata": {},
   "outputs": [],
   "source": []
  }
 ],
 "metadata": {
  "kernelspec": {
   "display_name": "Python 3",
   "language": "python",
   "name": "python3"
  },
  "language_info": {
   "codemirror_mode": {
    "name": "ipython",
    "version": 3
   },
   "file_extension": ".py",
   "mimetype": "text/x-python",
   "name": "python",
   "nbconvert_exporter": "python",
   "pygments_lexer": "ipython3",
   "version": "3.8.8"
  }
 },
 "nbformat": 4,
 "nbformat_minor": 5
}
