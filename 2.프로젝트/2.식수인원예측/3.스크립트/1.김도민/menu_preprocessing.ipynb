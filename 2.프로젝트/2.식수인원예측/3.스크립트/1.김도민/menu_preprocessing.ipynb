{
 "cells": [
  {
   "cell_type": "code",
   "execution_count": 3,
   "id": "e3c9115e",
   "metadata": {},
   "outputs": [],
   "source": [
    "import re\n",
    "import pandas as pd\n",
    "import numpy as np\n",
    "\n",
    "import matplotlib.pyplot as plt\n",
    "import seaborn as sns\n",
    "import warnings\n",
    "\n",
    "warnings.filterwarnings(\"ignore\")\n",
    "%matplotlib inline"
   ]
  },
  {
   "cell_type": "code",
   "execution_count": 37,
   "id": "980ae9f3",
   "metadata": {},
   "outputs": [],
   "source": [
    "train = pd.read_csv(\"./data/train.csv\")\n",
    "test = pd.read_csv(\"./data/test.csv\")"
   ]
  },
  {
   "cell_type": "code",
   "execution_count": 38,
   "id": "efa905ed",
   "metadata": {},
   "outputs": [],
   "source": [
    "# 조식\n",
    "train[\"조식메뉴\"] = train[\"조식메뉴\"].apply(lambda x: x.replace(\"/\", \" \"))\n",
    "test[\"조식메뉴\"] = test[\"조식메뉴\"].apply(lambda x: x.replace(\"/\", \" \"))\n",
    "\n",
    "# 중식\n",
    "train[\"중식메뉴\"] = train[\"중식메뉴\"].apply(lambda x: x.replace(\"/\", \" \"))\n",
    "test[\"중식메뉴\"] = test[\"중식메뉴\"].apply(lambda x: x.replace(\"/\", \" \"))\n",
    "\n",
    "# 석식\n",
    "train[\"석식메뉴\"] = train[\"석식메뉴\"].apply(lambda x: x.replace(\"/\", \" \"))\n",
    "test[\"석식메뉴\"] = test[\"석식메뉴\"].apply(lambda x: x.replace(\"/\", \" \"))"
   ]
  },
  {
   "cell_type": "code",
   "execution_count": 39,
   "id": "sustainable-cocktail",
   "metadata": {},
   "outputs": [],
   "source": [
    "menu = pd.read_csv(\"./data/메뉴2.csv\")"
   ]
  },
  {
   "cell_type": "code",
   "execution_count": 40,
   "id": "christian-romania",
   "metadata": {},
   "outputs": [],
   "source": [
    "train[\"조식메뉴\"] = train[\"조식메뉴\"].apply(lambda x: re.sub(\"\\\\(.*?\\\\)\", \"\", x))\n",
    "train[\"중식메뉴\"] = train[\"중식메뉴\"].apply(lambda x: re.sub(\"\\\\(.*?\\\\)\", \"\", x))\n",
    "train[\"석식메뉴\"] = train[\"석식메뉴\"].apply(lambda x: re.sub(\"\\\\(.*?\\\\)\", \"\", x))\n",
    "\n",
    "test[\"조식메뉴\"] = test[\"조식메뉴\"].apply(lambda x: re.sub(\"\\\\(.*?\\\\)\", \"\", x))\n",
    "test[\"중식메뉴\"] = test[\"중식메뉴\"].apply(lambda x: re.sub(\"\\\\(.*?\\\\)\", \"\", x))\n",
    "test[\"석식메뉴\"] = test[\"석식메뉴\"].apply(lambda x: re.sub(\"\\\\(.*?\\\\)\", \"\", x))"
   ]
  },
  {
   "cell_type": "code",
   "execution_count": 41,
   "id": "directed-picnic",
   "metadata": {},
   "outputs": [],
   "source": [
    "train[\"조식메뉴\"] = train[\"조식메뉴\"].apply(lambda x: x.split())\n",
    "train[\"중식메뉴\"] = train[\"중식메뉴\"].apply(lambda x: x.split())\n",
    "train[\"석식메뉴\"] = train[\"석식메뉴\"].apply(lambda x: x.split())\n",
    "\n",
    "test[\"조식메뉴\"] = test[\"조식메뉴\"].apply(lambda x: x.split())\n",
    "test[\"중식메뉴\"] = test[\"중식메뉴\"].apply(lambda x: x.split())\n",
    "test[\"석식메뉴\"] = test[\"석식메뉴\"].apply(lambda x: x.split())"
   ]
  },
  {
   "cell_type": "code",
   "execution_count": 42,
   "id": "empty-dutch",
   "metadata": {},
   "outputs": [],
   "source": [
    "menu = menu.iloc[:, :10]"
   ]
  },
  {
   "cell_type": "code",
   "execution_count": 58,
   "id": "arabic-local",
   "metadata": {},
   "outputs": [],
   "source": [
    "df = pd.concat([train, test])"
   ]
  },
  {
   "cell_type": "code",
   "execution_count": 59,
   "id": "discrete-classic",
   "metadata": {},
   "outputs": [],
   "source": [
    "df.reset_index(drop = True, inplace = True)"
   ]
  },
  {
   "cell_type": "code",
   "execution_count": 60,
   "id": "corrected-penguin",
   "metadata": {},
   "outputs": [
    {
     "data": {
      "text/html": [
       "<div>\n",
       "<style scoped>\n",
       "    .dataframe tbody tr th:only-of-type {\n",
       "        vertical-align: middle;\n",
       "    }\n",
       "\n",
       "    .dataframe tbody tr th {\n",
       "        vertical-align: top;\n",
       "    }\n",
       "\n",
       "    .dataframe thead th {\n",
       "        text-align: right;\n",
       "    }\n",
       "</style>\n",
       "<table border=\"1\" class=\"dataframe\">\n",
       "  <thead>\n",
       "    <tr style=\"text-align: right;\">\n",
       "      <th></th>\n",
       "      <th>일자</th>\n",
       "      <th>요일</th>\n",
       "      <th>본사정원수</th>\n",
       "      <th>본사휴가자수</th>\n",
       "      <th>본사출장자수</th>\n",
       "      <th>본사시간외근무명령서승인건수</th>\n",
       "      <th>현본사소속재택근무자수</th>\n",
       "      <th>조식메뉴</th>\n",
       "      <th>중식메뉴</th>\n",
       "      <th>석식메뉴</th>\n",
       "      <th>중식계</th>\n",
       "      <th>석식계</th>\n",
       "    </tr>\n",
       "  </thead>\n",
       "  <tbody>\n",
       "    <tr>\n",
       "      <th>0</th>\n",
       "      <td>2016-02-01</td>\n",
       "      <td>월</td>\n",
       "      <td>2601</td>\n",
       "      <td>50</td>\n",
       "      <td>150</td>\n",
       "      <td>238</td>\n",
       "      <td>0.0</td>\n",
       "      <td>[모닝롤, 찐빵, 우유, 두유, 주스, 계란후라이, 호두죽, 쌀밥, 된장찌개, 쥐어...</td>\n",
       "      <td>[쌀밥, 잡곡밥, 오징어찌개, 쇠불고기, 계란찜, 청포묵무침, 요구르트, 포기김치]</td>\n",
       "      <td>[쌀밥, 잡곡밥, 육개장, 자반고등어구이, 두부조림, 건파래무침, 포기김치]</td>\n",
       "      <td>1039.0</td>\n",
       "      <td>331.0</td>\n",
       "    </tr>\n",
       "  </tbody>\n",
       "</table>\n",
       "</div>"
      ],
      "text/plain": [
       "           일자 요일  본사정원수  본사휴가자수  본사출장자수  본사시간외근무명령서승인건수  현본사소속재택근무자수  \\\n",
       "0  2016-02-01  월   2601      50     150             238          0.0   \n",
       "\n",
       "                                                조식메뉴  \\\n",
       "0  [모닝롤, 찐빵, 우유, 두유, 주스, 계란후라이, 호두죽, 쌀밥, 된장찌개, 쥐어...   \n",
       "\n",
       "                                             중식메뉴  \\\n",
       "0  [쌀밥, 잡곡밥, 오징어찌개, 쇠불고기, 계란찜, 청포묵무침, 요구르트, 포기김치]   \n",
       "\n",
       "                                         석식메뉴     중식계    석식계  \n",
       "0  [쌀밥, 잡곡밥, 육개장, 자반고등어구이, 두부조림, 건파래무침, 포기김치]  1039.0  331.0  "
      ]
     },
     "execution_count": 60,
     "metadata": {},
     "output_type": "execute_result"
    }
   ],
   "source": [
    "df.head(1)"
   ]
  },
  {
   "cell_type": "code",
   "execution_count": 62,
   "id": "outdoor-property",
   "metadata": {},
   "outputs": [],
   "source": [
    "df_lst = []\n",
    "for idx in range(len(df)):\n",
    "    lst = df[\"중식메뉴\"][0] + df[\"석식메뉴\"][0]\n",
    "    day = [df.iloc[idx, 0] for _ in range(len(lst))]\n",
    "    use_df = pd.DataFrame({\"일자\":day, \"메뉴\":lst})\n",
    "    df_lst.append(use_df)"
   ]
  },
  {
   "cell_type": "code",
   "execution_count": 65,
   "id": "radio-hazard",
   "metadata": {},
   "outputs": [],
   "source": [
    "use_df = pd.concat(df_lst).reset_index(drop = True)"
   ]
  },
  {
   "cell_type": "code",
   "execution_count": 73,
   "id": "wrapped-tumor",
   "metadata": {},
   "outputs": [],
   "source": [
    "check_menu = pd.merge(use_df, menu, how = \"left\", on = \"메뉴\")"
   ]
  },
  {
   "cell_type": "code",
   "execution_count": 74,
   "id": "signed-attraction",
   "metadata": {},
   "outputs": [],
   "source": [
    "check_menu.to_csv(\"./data/check_menu.csv\", encoding = \"euc-kr\", index = False)"
   ]
  },
  {
   "cell_type": "code",
   "execution_count": 76,
   "id": "4d7e2657",
   "metadata": {},
   "outputs": [
    {
     "data": {
      "text/plain": [
       "일자                     0\n",
       "메뉴                     0\n",
       "작업자                 1255\n",
       "대분류                 1255\n",
       "중분류(재료1)            2510\n",
       "중분류2(재료2)          12550\n",
       "중분류3(재료3)          18825\n",
       "중분류4(재료4)          18825\n",
       "중분류5(재료5)          18825\n",
       "소분류1(육류 종류만 기재)    17570\n",
       "양식(western) 여부     18825\n",
       "dtype: int64"
      ]
     },
     "execution_count": 76,
     "metadata": {},
     "output_type": "execute_result"
    }
   ],
   "source": [
    "check_menu.isnull().sum()"
   ]
  },
  {
   "cell_type": "code",
   "execution_count": null,
   "id": "later-scientist",
   "metadata": {},
   "outputs": [],
   "source": []
  }
 ],
 "metadata": {
  "kernelspec": {
   "display_name": "Python 3",
   "language": "python",
   "name": "python3"
  },
  "language_info": {
   "codemirror_mode": {
    "name": "ipython",
    "version": 3
   },
   "file_extension": ".py",
   "mimetype": "text/x-python",
   "name": "python",
   "nbconvert_exporter": "python",
   "pygments_lexer": "ipython3",
   "version": "3.7.9"
  }
 },
 "nbformat": 4,
 "nbformat_minor": 5
}
