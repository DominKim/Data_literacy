{
 "cells": [
  {
   "cell_type": "code",
   "execution_count": 49,
   "metadata": {},
   "outputs": [],
   "source": [
    "from googleapiclient.discovery import build\n",
    "from googleapiclient.errors import HttpError\n",
    "from oauth2client.tools import argparser\n",
    "import pandas as pd\n",
    "import re\n",
    "import urllib.request\n",
    "import json"
   ]
  },
  {
   "cell_type": "markdown",
   "metadata": {},
   "source": [
    "#### 도민님이 전달주신 url에서 videoId만 추출합니다"
   ]
  },
  {
   "cell_type": "code",
   "execution_count": 3,
   "metadata": {},
   "outputs": [],
   "source": [
    "video_id =  pd.read_csv(\"D:/경돼님_api/경돼영상url.csv\",engine='python')"
   ]
  },
  {
   "cell_type": "markdown",
   "metadata": {},
   "source": [
    "#### lambda를 이용해서 각 url을 =로 나누고 그중 2번째값이 videoId를 리스트화합니다"
   ]
  },
  {
   "cell_type": "code",
   "execution_count": 5,
   "metadata": {},
   "outputs": [],
   "source": [
    "video_full_id = video_id['url'].apply(lambda x:x.split(\"=\")[1]).tolist()"
   ]
  },
  {
   "cell_type": "markdown",
   "metadata": {},
   "source": [
    "#### 키값을 입력합니다"
   ]
  },
  {
   "cell_type": "code",
   "execution_count": 7,
   "metadata": {},
   "outputs": [],
   "source": [
    "developer_key = \"API키\""
   ]
  },
  {
   "cell_type": "code",
   "execution_count": 8,
   "metadata": {},
   "outputs": [],
   "source": [
    "youtube_service_name = \"youtube\"\n",
    "youtube_api_version = \"v3\""
   ]
  },
  {
   "cell_type": "markdown",
   "metadata": {},
   "source": [
    "#### youtube_api 정보를 만듭니다"
   ]
  },
  {
   "cell_type": "code",
   "execution_count": 9,
   "metadata": {},
   "outputs": [],
   "source": [
    "youtube_api = build(youtube_service_name,youtube_api_version,developerKey=developer_key)"
   ]
  },
  {
   "cell_type": "markdown",
   "metadata": {},
   "source": [
    "#### 각 뽑아올 항목을 리스트로 만드는 작업입니다."
   ]
  },
  {
   "cell_type": "code",
   "execution_count": 27,
   "metadata": {},
   "outputs": [],
   "source": [
    "# snippet에서 뽑아올 수 있는 정보들\n",
    "title = []\n",
    "description = []\n",
    "tags = []\n",
    "publishedAt = []\n",
    "\n",
    "# content detail에서 뽑아올 수 있는 정보\n",
    "duration = []\n",
    "\n",
    "# statistics에서 뽑아올 수 있는 정보들\n",
    "view_count = []\n",
    "likes = []\n",
    "dislikes = []\n",
    "comment_count = []"
   ]
  },
  {
   "cell_type": "markdown",
   "metadata": {},
   "source": [
    "#### 각 정보를 해당 정보에 맞는 list에 추가합니다\n",
    "#### 혹시 없을 수 있는 항목이 있기 때문에 try, except를 사용하여 그런 값들은 공백을 넣어줍니다"
   ]
  },
  {
   "cell_type": "code",
   "execution_count": 31,
   "metadata": {},
   "outputs": [],
   "source": [
    "for i in range(len(video_full_id)):\n",
    "    request = youtube_api.videos().list(\n",
    "    part = \"snippet,contentDetails,statistics\",\n",
    "    id = video_full_id[i]\n",
    "    )\n",
    "    response = request.execute()\n",
    "    \n",
    "    publishedAt.append(response['items'][0]['snippet']['publishedAt'])\n",
    "    title.append(response['items'][0]['snippet']['title'])\n",
    "    try:\n",
    "        description.append(response['items'][0]['snippet']['description'])\n",
    "    except KeyError:\n",
    "        description.append(\"\")\n",
    "    try:\n",
    "        tags.append(''.join(response['items'][0]['snippet']['tags']))\n",
    "    except KeyError:\n",
    "        tags.append(\"\")\n",
    "    duration.append(response['items'][0]['contentDetails']['duration'])\n",
    "    view_count.append(response['items'][0]['statistics']['viewCount'])\n",
    "    try:\n",
    "        likes.append(response['items'][0]['statistics']['likeCount'])\n",
    "    except KeyError:\n",
    "        likes.append(\"\")\n",
    "    try:\n",
    "        dislikes.append(response['items'][0]['statistics']['dislikeCount'])\n",
    "    except KeyError:\n",
    "        dislikes.append(\"\")\n",
    "    try:\n",
    "        comment_count.append(response['items'][0]['statistics']['commentCount'])\n",
    "    except KeyError:\n",
    "        comment_count.append(\"\")"
   ]
  },
  {
   "cell_type": "code",
   "execution_count": 140,
   "metadata": {},
   "outputs": [],
   "source": [
    "comments_lst = []"
   ]
  },
  {
   "cell_type": "code",
   "execution_count": 142,
   "metadata": {},
   "outputs": [
    {
     "name": "stderr",
     "output_type": "stream",
     "text": [
      "WARNING:googleapiclient.http:Encountered 403 Forbidden with reason \"commentsDisabled\"\n"
     ]
    }
   ],
   "source": [
    "for i,j in enumerate(video_full_id):\n",
    "    video_id_lst2.append(video_full_id[i])\n",
    "    comments_lst_new = []\n",
    "    try:\n",
    "        comments = youtube_api.commentThreads().list(\n",
    "            part='snippet',\n",
    "            videoId = video_full_id[i],\n",
    "            maxResults = 100\n",
    "        ).execute()\n",
    "    except HttpError:\n",
    "        comments_lst.append([])\n",
    "    while comments:\n",
    "        for item in comments['items']:\n",
    "            comment = item['snippet']['topLevelComment']['snippet']\n",
    "            comments_lst_new.append(comment['textOriginal'])\n",
    "        if 'nextPageToken' in comments:\n",
    "            comments = youtube_api.commentThreads().list(part='snippet',videoId = video_full_id[i],\n",
    "                       pageToken = comments['nextPageToken'],maxResults = 100).execute()                              \n",
    "        else:\n",
    "            comments_lst.append(comments_lst_new)\n",
    "            break"
   ]
  }
 ],
 "metadata": {
  "kernelspec": {
   "display_name": "Python 3",
   "language": "python",
   "name": "python3"
  },
  "language_info": {
   "codemirror_mode": {
    "name": "ipython",
    "version": 3
   },
   "file_extension": ".py",
   "mimetype": "text/x-python",
   "name": "python",
   "nbconvert_exporter": "python",
   "pygments_lexer": "ipython3",
   "version": "3.8.8"
  }
 },
 "nbformat": 4,
 "nbformat_minor": 2
}
