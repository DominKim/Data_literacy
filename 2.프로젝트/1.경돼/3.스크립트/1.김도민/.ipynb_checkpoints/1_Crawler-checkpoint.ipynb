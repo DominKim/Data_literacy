{
 "cells": [
  {
   "cell_type": "code",
   "execution_count": 18,
   "metadata": {},
   "outputs": [],
   "source": [
    "from selenium.webdriver import Chrome\n",
    "from selenium.webdriver.common.keys import Keys\n",
    "import time\n",
    "from pandas.io import sql\n",
    "import os\n",
    "import pandas as pd\n",
    "# from decouple import config\n",
    "import pandas as pd\n",
    "import numpy as np\n",
    "from urllib.request import urlretrieve\n",
    "from PIL import Image\n",
    "from matplotlib import cm\n",
    "import re\n",
    "import requests # 웹 페이지 소스를 얻기 위한 패키지(기본 내장 패키지이다.)\n",
    "from bs4 import BeautifulSoup # 웹 페이지 소스를 얻기 위한 패키지, 더 간단히 얻을 수 있다는 장점이 있다고 한다.\n",
    "from datetime import datetime \n",
    "\n",
    "from selenium import webdriver\n",
    "from tqdm import tqdm\n",
    "options = webdriver.ChromeOptions()\n",
    "options.add_argument(\"--start-maximized\"); # chrome 브라우저를 최대한 크기로 옵션을 주는 것\n",
    "\n",
    "# Chrome 실행\n",
    "browser = webdriver.Chrome('./chromedriver', options=options)\n"
   ]
  },
  {
   "cell_type": "code",
   "execution_count": 19,
   "metadata": {},
   "outputs": [],
   "source": [
    "# 경돼 유튜브 이동\n",
    "browser.get(\"https://www.youtube.com/channel/UCFa0g-8D8hYuHvdIh6XQCOg\")\n",
    "\n",
    "# 동영상탭 클릭\n",
    "browser.find_element_by_xpath('//*[@id=\"tabsContent\"]/tp-yt-paper-tab[2]/div').click()\n",
    "\n",
    "# # 스크롤 다운\n",
    "# body = browser.find_element_by_css_selector('body')\n",
    "# for i in range(32):\n",
    "#     body.send_keys(Keys.PAGE_DOWN)\n",
    "#     time.sleep(1)"
   ]
  },
  {
   "cell_type": "code",
   "execution_count": 23,
   "metadata": {},
   "outputs": [
    {
     "name": "stdout",
     "output_type": "stream",
     "text": [
      "Message: no such element: Unable to locate element: {\"method\":\"xpath\",\"selector\":\"/html/body/ytd-app/div/ytd-page-manager/ytd-watch-flexy/div[5]/div[1]/div/ytd-comments/ytd-item-section-renderer/div[3]/ytd-comment-thread-renderer[17]/ytd-comment-renderer/div[2]/div[2]/ytd-expander/div/yt-formatted-string[2]\"}\n",
      "  (Session info: chrome=90.0.4430.212)\n",
      "\n"
     ]
    }
   ],
   "source": [
    "i = 1\n",
    "\n",
    "# 영상 클릭\n",
    "browser.find_element_by_xpath(f'/html/body/ytd-app/div/ytd-page-manager/ytd-browse/ytd-two-column-browse-results-renderer/div[1]/ytd-section-list-renderer/div[2]/ytd-item-section-renderer/div[3]/ytd-grid-renderer/div[1]/ytd-grid-video-renderer[{str(i)}]/div[1]/div[1]/div[1]/h3/a').click()\n",
    "\n",
    "# 광고 시간 \n",
    "time.sleep(10)\n",
    "\n",
    "# 영상 멈추기\n",
    "browser.find_element_by_xpath('//*[@id=\"movie_player\"]/div[32]/div[2]/div[1]/button').click()\n",
    "\n",
    "# 영상 제목\n",
    "name = browser.find_element_by_xpath('//*[@id=\"container\"]/h1/yt-formatted-string').text\n",
    "time.sleep(1)\n",
    "\n",
    "# 조회수\n",
    "watch = browser.find_element_by_xpath('//*[@id=\"count\"]/ytd-video-view-count-renderer/span[1]').text\n",
    "watch = int(\"\".join(re.findall(\"[0-9]{1,}\",watch)))\n",
    "time.sleep(1)\n",
    "\n",
    "# 영상 게시일\n",
    "day = browser.find_element_by_xpath('//*[@id=\"date\"]/yt-formatted-string').text\n",
    "day = day.replace(\" \", \"\")[:-1]\n",
    "time.sleep(1)\n",
    "\n",
    "# page_source\n",
    "# 좋아요 수와 싫어요 수를 가져오기 위해 사용\n",
    "html0 = browser.page_source\n",
    "html = BeautifulSoup(html0,'html.parser')\n",
    "\n",
    "# 좋아요 수\n",
    "good = html.find('yt-formatted-string',{'id':'text','class':'style-scope ytd-toggle-button-renderer style-text','aria-label':re.compile('좋아요')}).text\n",
    "good = int(good)\n",
    "time.sleep(1)\n",
    "\n",
    "# 싫어요 수\n",
    "hate = html.find('yt-formatted-string',{'id':'text','class':'style-scope ytd-toggle-button-renderer style-text','aria-label':re.compile('싫어요')}).text\n",
    "hate = int(hate)\n",
    "time.sleep(1)\n",
    "\n",
    "# 개요\n",
    "outline = browser.find_element_by_xpath('//*[@id=\"description\"]/yt-formatted-string/span[1]').text\n",
    "outline = outline.replace(\"\\n\", \" \")\n",
    "time.sleep(1)\n",
    "\n",
    "# 영상길이\n",
    "video_length = browser.find_element_by_xpath('//*[@id=\"movie_player\"]/div[32]/div[2]/div[1]/div[1]/span[3]').text\n",
    "time.sleep(1)\n",
    "\n",
    "# 댓글 수\n",
    "comment_num = browser.find_element_by_xpath('//*[@id=\"count\"]/yt-formatted-string/span[2]').text\n",
    "comment_num = int(comment_num)\n",
    "time.sleep(1)\n",
    "\n",
    "\n",
    "# 스크롤 횟수\n",
    "times = (comment_num // 7) + 2\n",
    "\n",
    "body = browser.find_element_by_css_selector('body')\n",
    "for i in range(times):\n",
    "    body.send_keys(Keys.PAGE_DOWN)\n",
    "    time.sleep(1)\n",
    "\n",
    "# 댓글 lst\n",
    "comment_lst = []\n",
    "# 1부터\n",
    "for i in range(1, (comment_num + 1)):\n",
    "    try:\n",
    "        comment = browser.find_element_by_xpath(f'/html/body/ytd-app/div/ytd-page-manager/ytd-watch-flexy/div[5]/div[1]/div/ytd-comments/ytd-item-section-renderer/div[3]/ytd-comment-thread-renderer[{str(i)}]/ytd-comment-renderer/div[2]/div[2]/ytd-expander/div/yt-formatted-string[2]').text\n",
    "        comment_lst.append(comment)\n",
    "        time.sleep(0.3)\n",
    "    except Exception as e:\n",
    "        break"
   ]
  },
  {
   "cell_type": "code",
   "execution_count": null,
   "metadata": {},
   "outputs": [],
   "source": [
    "youtube_dict = {\"제목\":[], \"조회수\":[], \n",
    "                \"영상_게시날짜\":[], \"좋아요\":[], \n",
    "                \"싫어요\":[], \"개요\":[], \"영상길이\":[],\"댓글수\":[],\n",
    "               \"댓글\":[]}\n",
    "\n",
    "# 영상은 총 595개\n",
    "# 제목, 해시태그, 조회수, 영상 게시날짜, 좋아요, 싫어요, 개요란, 영상길이, 댓글수, 댓글\n",
    "for i in tqdm(range(1, 595)):\n",
    "    # 영상 클릭\n",
    "    browser.find_element_by_xpath(f'/html/body/ytd-app/div/ytd-page-manager/ytd-browse/ytd-two-column-browse-results-renderer/div[1]/ytd-section-list-renderer/div[2]/ytd-item-section-renderer/div[3]/ytd-grid-renderer/div[1]/ytd-grid-video-renderer[{str(i)}]/div[1]/div[1]/div[1]/h3/a').click()\n",
    "    \n",
    "    # 광고 시간 \n",
    "    time.sleep(10)\n",
    "    \n",
    "    # 영상 멈추기\n",
    "    browser.find_element_by_xpath('//*[@id=\"movie_player\"]/div[1]/video').click()\n",
    "    \n",
    "    # 영상 제목\n",
    "    name = browser.find_element_by_xpath('//*[@id=\"container\"]/h1/yt-formatted-string').text\n",
    "    youtube_dict[\"제목\"].append(name)\n",
    "    time.sleep(1)\n",
    "    \n",
    "    # 조회수\n",
    "    watch = browser.find_element_by_xpath('//*[@id=\"count\"]/ytd-video-view-count-renderer/span[1]').text\n",
    "    watch = int(\"\".join(re.findall(\"[0-9]{1,}\",watch)))\n",
    "    youtube_dict[\"조회수\"].append(watch)\n",
    "    time.sleep(1)\n",
    "    \n",
    "    # 영상 게시일\n",
    "    day = browser.find_element_by_xpath('//*[@id=\"date\"]/yt-formatted-string').text\n",
    "    day = day.replace(\" \", \"\")[:-1]\n",
    "    youtube_dict[\"영상_게시날짜\"].append(day)\n",
    "    time.sleep(1)\n",
    "    \n",
    "    # page_source\n",
    "    # 좋아요 수와 싫어요 수를 가져오기 위해 사용\n",
    "    html0 = browser.page_source\n",
    "    html = BeautifulSoup(html0,'html.parser')\n",
    "\n",
    "    # 좋아요 수\n",
    "    good = html.find('yt-formatted-string',{'id':'text','class':'style-scope ytd-toggle-button-renderer style-text','aria-label':re.compile('좋아요')}).text\n",
    "    good = int(good)\n",
    "    youtube_dict[\"좋아요\"].append(good)\n",
    "    time.sleep(1)\n",
    "\n",
    "    # 싫어요 수\n",
    "    hate = html.find('yt-formatted-string',{'id':'text','class':'style-scope ytd-toggle-button-renderer style-text','aria-label':re.compile('싫어요')}).text\n",
    "    hate = int(hate)\n",
    "    youtube_dict[\"싫어요\"].append(hate)\n",
    "    time.sleep(1)\n",
    "    \n",
    "    # 개요\n",
    "    try:\n",
    "        outline = browser.find_element_by_xpath('//*[@id=\"description\"]/yt-formatted-string/span[1]').text\n",
    "        outline = outline.replace(\"\\n\", \" \")\n",
    "        youtube_dict[\"개요\"].append(outline)\n",
    "    except Exception as e:\n",
    "        youtube_dict[\"개요\"].append(\"\")\n",
    "        print(e)\n",
    "    time.sleep(1)\n",
    "    \n",
    "    # 영상길이\n",
    "    video_length = html.find(\"span\", {\"class\":\"ytp-time-duration\"}).text\n",
    "    youtube_dict[\"영상길이\"].append(video_length)\n",
    "    time.sleep(1)\n",
    "\n",
    "    # 댓글 수\n",
    "    comment_num = browser.find_element_by_xpath('//*[@id=\"count\"]/yt-formatted-string/span[2]').text\n",
    "    comment_num = int(comment_num)\n",
    "    youtube_dict[\"댓글수\"].append(comment_num)\n",
    "    time.sleep(1)\n",
    "    \n",
    "    \n",
    "    # 스크롤 횟수\n",
    "    times = (comment_num // 7) + 2\n",
    "\n",
    "    body = browser.find_element_by_css_selector('body')\n",
    "    for i in range(times):\n",
    "        body.send_keys(Keys.PAGE_DOWN)\n",
    "        time.sleep(1)\n",
    "        \n",
    "    # 댓글 lst\n",
    "    comment_lst = []\n",
    "    # 1부터\n",
    "    for i in range(1, (comment_num + 1)):\n",
    "        try:\n",
    "            comment = browser.find_element_by_xpath(f'/html/body/ytd-app/div/ytd-page-manager/ytd-watch-flexy/div[5]/div[1]/div/ytd-comments/ytd-item-section-renderer/div[3]/ytd-comment-thread-renderer[{str(i)}]/ytd-comment-renderer/div[2]/div[2]/ytd-expander/div/yt-formatted-string[2]').text\n",
    "            comment_lst.append(comment)\n",
    "            time.sleep(0.3)\n",
    "        except Exception as e:\n",
    "            print(e)\n",
    "            \n",
    "    comment_lst = \"\\n\".join(comment_lst)\n",
    "    youtube_dict[\"댓글\"].append(comment_lst)\n",
    "\n",
    "    browser.get('https://www.youtube.com/channel/UCFa0g-8D8hYuHvdIh6XQCOg/videos')\n",
    "    \n",
    "    \n",
    "#     return name, watch, day, good, hate, video_length, comment_num, comment_lst"
   ]
  },
  {
   "cell_type": "markdown",
   "metadata": {},
   "source": [
    "- 댓글수 : html로 받기\n",
    "- 태그도 오류 예외문 작성 필요\n",
    "- 광고 고려 필요\n",
    "    - 광고 길이가 긴 영상들이 있음"
   ]
  },
  {
   "cell_type": "code",
   "execution_count": null,
   "metadata": {},
   "outputs": [],
   "source": [
    "browser.find_element_by_xpath('//*[@id=\"description\"]/yt-formatted-string/span[1]').text"
   ]
  },
  {
   "cell_type": "code",
   "execution_count": 82,
   "metadata": {},
   "outputs": [
    {
     "data": {
      "text/plain": [
       "'0:00 / 3:29'"
      ]
     },
     "execution_count": 82,
     "metadata": {},
     "output_type": "execute_result"
    }
   ],
   "source": [
    "browser.find_element_by_xpath('//*[@id=\"movie_player\"]/div[32]/div[2]/div[1]/div[1]').text"
   ]
  },
  {
   "cell_type": "code",
   "execution_count": 90,
   "metadata": {},
   "outputs": [],
   "source": [
    "html0 = browser.page_source\n",
    "html = BeautifulSoup(html0,'html.parser')"
   ]
  },
  {
   "cell_type": "code",
   "execution_count": 91,
   "metadata": {},
   "outputs": [
    {
     "data": {
      "text/plain": [
       "'3:29'"
      ]
     },
     "execution_count": 91,
     "metadata": {},
     "output_type": "execute_result"
    }
   ],
   "source": [
    "html.find(\"span\", {\"class\":\"ytp-time-duration\"}).text"
   ]
  },
  {
   "cell_type": "code",
   "execution_count": null,
   "metadata": {},
   "outputs": [],
   "source": [
    "pd.DataFrame(youtube_dict)"
   ]
  },
  {
   "cell_type": "code",
   "execution_count": 108,
   "metadata": {},
   "outputs": [
    {
     "name": "stdout",
     "output_type": "stream",
     "text": [
      "제목\n",
      "5\n",
      "조회수\n",
      "5\n",
      "영상_게시날짜\n",
      "5\n",
      "좋아요\n",
      "5\n",
      "싫어요\n",
      "5\n",
      "개요\n",
      "5\n",
      "영상길이\n",
      "5\n",
      "댓글수\n",
      "4\n",
      "댓글\n",
      "4\n"
     ]
    }
   ],
   "source": [
    "for x,y in youtube_dict.items():\n",
    "    print(x)\n",
    "    print(len(y))"
   ]
  },
  {
   "cell_type": "code",
   "execution_count": null,
   "metadata": {},
   "outputs": [],
   "source": []
  }
 ],
 "metadata": {
  "kernelspec": {
   "display_name": "Python 3",
   "language": "python",
   "name": "python3"
  },
  "language_info": {
   "codemirror_mode": {
    "name": "ipython",
    "version": 3
   },
   "file_extension": ".py",
   "mimetype": "text/x-python",
   "name": "python",
   "nbconvert_exporter": "python",
   "pygments_lexer": "ipython3",
   "version": "3.7.9"
  }
 },
 "nbformat": 4,
 "nbformat_minor": 4
}
