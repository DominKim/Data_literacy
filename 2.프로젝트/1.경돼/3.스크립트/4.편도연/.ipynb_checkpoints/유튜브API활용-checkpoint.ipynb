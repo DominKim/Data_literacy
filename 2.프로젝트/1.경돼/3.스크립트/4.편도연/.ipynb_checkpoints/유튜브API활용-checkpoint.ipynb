{
 "cells": [
  {
   "cell_type": "code",
   "execution_count": 49,
   "metadata": {},
   "outputs": [],
   "source": [
    "from googleapiclient.discovery import build\n",
    "from googleapiclient.errors import HttpError\n",
    "from oauth2client.tools import argparser\n",
    "import pandas as pd\n",
    "import re\n",
    "import urllib.request\n",
    "import json"
   ]
  },
  {
   "cell_type": "markdown",
   "metadata": {},
   "source": [
    "# API활용"
   ]
  },
  {
   "cell_type": "code",
   "execution_count": 3,
   "metadata": {},
   "outputs": [],
   "source": [
    "video_id =  pd.read_csv(\"D:/경돼님_api/경돼영상url.csv\",engine='python')\n",
    "video_full_id = video_id['url'].apply(lambda x:x.split(\"=\")[1]).tolist()\n",
    "\n",
    "#개인 api키 입력 필요함.\n",
    "developer_key = \"API키\"\n",
    "youtube_service_name = \"youtube\"\n",
    "youtube_api_version = \"v3\"\n",
    "\n",
    "youtube_api = build(youtube_service_name,youtube_api_version,developerKey=developer_key)"
   ]
  },
  {
   "cell_type": "markdown",
   "metadata": {},
   "source": [
    "# 추출가능한 데이터 목록"
   ]
  },
  {
   "cell_type": "code",
   "execution_count": 27,
   "metadata": {},
   "outputs": [],
   "source": [
    "# snippet에서 뽑아올 수 있는 정보들\n",
    "title = []\n",
    "description = []\n",
    "tags = []\n",
    "publishedAt = []\n",
    "\n",
    "# content detail에서 뽑아올 수 있는 정보\n",
    "duration = []\n",
    "\n",
    "# statistics에서 뽑아올 수 있는 정보들\n",
    "view_count = []\n",
    "likes = []\n",
    "dislikes = []\n",
    "comment_count = []"
   ]
  },
  {
   "cell_type": "markdown",
   "metadata": {},
   "source": [
    "# 데이터 추출"
   ]
  },
  {
   "cell_type": "code",
   "execution_count": 31,
   "metadata": {},
   "outputs": [],
   "source": [
    "for i in range(len(video_full_id)):\n",
    "    request = youtube_api.videos().list(\n",
    "    part = \"snippet,contentDetails,statistics\",\n",
    "    id = video_full_id[i]\n",
    "    )\n",
    "    response = request.execute()\n",
    "    \n",
    "    publishedAt.append(response['items'][0]['snippet']['publishedAt'])\n",
    "    title.append(response['items'][0]['snippet']['title'])\n",
    "    try:\n",
    "        description.append(response['items'][0]['snippet']['description'])\n",
    "    except KeyError:\n",
    "        description.append(\"\")\n",
    "    try:\n",
    "        tags.append(''.join(response['items'][0]['snippet']['tags']))\n",
    "    except KeyError:\n",
    "        tags.append(\"\")\n",
    "    duration.append(response['items'][0]['contentDetails']['duration'])\n",
    "    view_count.append(response['items'][0]['statistics']['viewCount'])\n",
    "    try:\n",
    "        likes.append(response['items'][0]['statistics']['likeCount'])\n",
    "    except KeyError:\n",
    "        likes.append(\"\")\n",
    "    try:\n",
    "        dislikes.append(response['items'][0]['statistics']['dislikeCount'])\n",
    "    except KeyError:\n",
    "        dislikes.append(\"\")\n",
    "    try:\n",
    "        comment_count.append(response['items'][0]['statistics']['commentCount'])\n",
    "    except KeyError:\n",
    "        comment_count.append(\"\")"
   ]
  },
  {
   "cell_type": "code",
   "execution_count": 140,
   "metadata": {},
   "outputs": [],
   "source": [
    "comments_lst = []"
   ]
  },
  {
   "cell_type": "code",
   "execution_count": 142,
   "metadata": {},
   "outputs": [
    {
     "name": "stderr",
     "output_type": "stream",
     "text": [
      "WARNING:googleapiclient.http:Encountered 403 Forbidden with reason \"commentsDisabled\"\n"
     ]
    }
   ],
   "source": [
    "for i,j in enumerate(video_full_id):\n",
    "    video_id_lst2.append(video_full_id[i])\n",
    "    comments_lst_new = []\n",
    "    try:\n",
    "        comments = youtube_api.commentThreads().list(\n",
    "            part='snippet',\n",
    "            videoId = video_full_id[i],\n",
    "            maxResults = 100\n",
    "        ).execute()\n",
    "    except HttpError:\n",
    "        comments_lst.append([])\n",
    "    while comments:\n",
    "        for item in comments['items']:\n",
    "            comment = item['snippet']['topLevelComment']['snippet']\n",
    "            comments_lst_new.append(comment['textOriginal'])\n",
    "        if 'nextPageToken' in comments:\n",
    "            comments = youtube_api.commentThreads().list(part='snippet',videoId = video_full_id[i],\n",
    "                       pageToken = comments['nextPageToken'],maxResults = 100).execute()                              \n",
    "        else:\n",
    "            comments_lst.append(comments_lst_new)\n",
    "            break"
   ]
  }
 ],
 "metadata": {
  "kernelspec": {
   "display_name": "Python 3",
   "language": "python",
   "name": "python3"
  },
  "language_info": {
   "codemirror_mode": {
    "name": "ipython",
    "version": 3
   },
   "file_extension": ".py",
   "mimetype": "text/x-python",
   "name": "python",
   "nbconvert_exporter": "python",
   "pygments_lexer": "ipython3",
   "version": "3.8.8"
  }
 },
 "nbformat": 4,
 "nbformat_minor": 2
}
