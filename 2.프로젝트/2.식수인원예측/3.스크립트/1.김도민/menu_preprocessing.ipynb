{
 "cells": [
  {
   "cell_type": "code",
   "execution_count": 1,
   "id": "e3c9115e",
   "metadata": {},
   "outputs": [],
   "source": [
    "import re\n",
    "import pandas as pd\n",
    "import numpy as np\n",
    "\n",
    "import matplotlib.pyplot as plt\n",
    "import seaborn as sns\n",
    "import warnings\n",
    "\n",
    "warnings.filterwarnings(\"ignore\")\n",
    "%matplotlib inline"
   ]
  },
  {
   "cell_type": "code",
   "execution_count": 74,
   "id": "980ae9f3",
   "metadata": {},
   "outputs": [],
   "source": [
    "train = pd.read_csv(\"./data/train.csv\")\n",
    "test = pd.read_csv(\"./data/test.csv\")"
   ]
  },
  {
   "cell_type": "code",
   "execution_count": 86,
   "id": "efa905ed",
   "metadata": {},
   "outputs": [],
   "source": [
    "# 조식\n",
    "train[\"조식메뉴\"] = train[\"조식메뉴\"].apply(lambda x: x.replace(\"/\", \" \"))\n",
    "test[\"조식메뉴\"] = test[\"조식메뉴\"].apply(lambda x: x.replace(\"/\", \" \"))\n",
    "\n",
    "# 석식\n",
    "train[\"석식메뉴\"] = train[\"석식메뉴\"].apply(lambda x: x.replace(\"/\", \" \"))\n",
    "test[\"석식메뉴\"] = test[\"석식메뉴\"].apply(lambda x: x.replace(\"/\", \" \"))"
   ]
  },
  {
   "cell_type": "code",
   "execution_count": 97,
   "id": "9b743547",
   "metadata": {},
   "outputs": [],
   "source": [
    "def menu_pre(x1, x2):\n",
    "    \n",
    "    lst = x1.values.tolist() + x2.values.tolist()\n",
    "    lst = \"\".join(lst)\n",
    "    lst = re.sub(\"\\\\(.*?\\\\)\", \"\", lst)\n",
    "    lst = list(set(lst.split(\" \")))\n",
    "    del lst[0]\n",
    "    \n",
    "    return lst\n",
    "\n",
    "# 메뉴\n",
    "breakfast = menu_pre(train[\"조식메뉴\"], test[\"조식메뉴\"])\n",
    "lunch = menu_pre(train[\"석식메뉴\"], test[\"석식메뉴\"])\n",
    "menu = list(set(breakfast + lunch))\n",
    "menu = \" \".join(menu)"
   ]
  },
  {
   "cell_type": "markdown",
   "id": "7a112d45",
   "metadata": {},
   "source": [
    "## 김치"
   ]
  },
  {
   "cell_type": "code",
   "execution_count": 174,
   "id": "4e3ae47f",
   "metadata": {},
   "outputs": [],
   "source": [
    "menu_dic = {'김치':[]}\n",
    "김치 = re.findall(\"[가-힣]+김치|[가-힣]+두기|[가-힣]+겉절이|[가-힣]+박지\", menu)\n",
    "\n",
    "menu_dic[\"김치\"] = 김치"
   ]
  },
  {
   "cell_type": "markdown",
   "id": "1ce02dc3",
   "metadata": {},
   "source": [
    "## 샐러드"
   ]
  },
  {
   "cell_type": "code",
   "execution_count": 197,
   "id": "c9151c13",
   "metadata": {},
   "outputs": [],
   "source": [
    "샐러드 = []\n",
    "for i in menu.split(\" \"):\n",
    "    if \"샐러드\" in i:\n",
    "        샐러드.append(i)\n",
    "        \n",
    "menu_dic[\"샐러드\"] = 샐러드"
   ]
  },
  {
   "cell_type": "markdown",
   "id": "2b18a82a",
   "metadata": {},
   "source": [
    "## 면"
   ]
  },
  {
   "cell_type": "code",
   "execution_count": 212,
   "id": "fc12305a",
   "metadata": {},
   "outputs": [],
   "source": [
    "면 = re.findall(\"[가-힣]+국수|[가-힣]*면+[가-힣]+\", menu)\n",
    "menu_dic[\"면\"] = 면"
   ]
  },
  {
   "cell_type": "code",
   "execution_count": null,
   "id": "4d7e2657",
   "metadata": {},
   "outputs": [],
   "source": []
  }
 ],
 "metadata": {
  "kernelspec": {
   "display_name": "Python 3",
   "language": "python",
   "name": "python3"
  },
  "language_info": {
   "codemirror_mode": {
    "name": "ipython",
    "version": 3
   },
   "file_extension": ".py",
   "mimetype": "text/x-python",
   "name": "python",
   "nbconvert_exporter": "python",
   "pygments_lexer": "ipython3",
   "version": "3.8.8"
  }
 },
 "nbformat": 4,
 "nbformat_minor": 5
}
