{
 "cells": [
  {
   "cell_type": "code",
   "execution_count": 9,
   "id": "killing-relevance",
   "metadata": {},
   "outputs": [],
   "source": [
    "a = \"김\"\n",
    "b = '간디'"
   ]
  },
  {
   "cell_type": "code",
   "execution_count": 10,
   "id": "engaging-tooth",
   "metadata": {},
   "outputs": [
    {
     "name": "stdout",
     "output_type": "stream",
     "text": [
      "김\n"
     ]
    }
   ],
   "source": [
    "print(a)"
   ]
  },
  {
   "cell_type": "code",
   "execution_count": 13,
   "id": "broke-facing",
   "metadata": {},
   "outputs": [
    {
     "name": "stdout",
     "output_type": "stream",
     "text": [
      "100 <class 'int'>\n",
      "김 <class 'str'>\n",
      "True <class 'bool'>\n"
     ]
    }
   ],
   "source": [
    "var1 = 100\n",
    "var2 = '김'\n",
    "var3 = True\n",
    "\n",
    "print(var1, type(var1))\n",
    "print(var2, type(var2))\n",
    "print(var3, type(var3))"
   ]
  },
  {
   "cell_type": "code",
   "execution_count": 58,
   "id": "right-legislation",
   "metadata": {},
   "outputs": [
    {
     "name": "stdout",
     "output_type": "stream",
     "text": [
      "10\n",
      "11\n",
      "11\n"
     ]
    }
   ],
   "source": [
    "# Operator(연산자)\n",
    "i = 10\n",
    "print(i)\n",
    "i = i + 1\n",
    "print(i)\n",
    "i = 10\n",
    "i += 1\n",
    "print(i)"
   ]
  },
  {
   "cell_type": "code",
   "execution_count": 29,
   "id": "exterior-advance",
   "metadata": {},
   "outputs": [
    {
     "data": {
      "text/plain": [
       "12"
      ]
     },
     "execution_count": 29,
     "metadata": {},
     "output_type": "execute_result"
    }
   ],
   "source": [
    "'''\n",
    "연산자(Operater)\n",
    "1. 변수에 값 할당(=)\n",
    "2. 연산자 : 산술, 관계, 논리\n",
    "3. print 형식\n",
    "4. input : 키보드 입력\n",
    "'''"
   ]
  },
  {
   "cell_type": "code",
   "execution_count": 67,
   "id": "popular-tablet",
   "metadata": {},
   "outputs": [
    {
     "name": "stdout",
     "output_type": "stream",
     "text": [
      "a =  10 b =  10\n"
     ]
    }
   ],
   "source": [
    "a, b = 10, 10\n",
    "print(\"a = \", a, \"b = \", b)"
   ]
  },
  {
   "cell_type": "code",
   "execution_count": 69,
   "id": "several-minute",
   "metadata": {},
   "outputs": [
    {
     "name": "stdout",
     "output_type": "stream",
     "text": [
      "a =  200 b =  100\n"
     ]
    }
   ],
   "source": []
  },
  {
   "cell_type": "code",
   "execution_count": null,
   "id": "metric-undergraduate",
   "metadata": {},
   "outputs": [],
   "source": []
  },
  {
   "cell_type": "code",
   "execution_count": null,
   "id": "healthy-worthy",
   "metadata": {},
   "outputs": [],
   "source": []
  },
  {
   "cell_type": "code",
   "execution_count": null,
   "id": "beginning-trout",
   "metadata": {},
   "outputs": [],
   "source": []
  },
  {
   "cell_type": "code",
   "execution_count": null,
   "id": "informed-arnold",
   "metadata": {},
   "outputs": [],
   "source": []
  },
  {
   "cell_type": "code",
   "execution_count": null,
   "id": "intended-agriculture",
   "metadata": {},
   "outputs": [],
   "source": []
  },
  {
   "cell_type": "code",
   "execution_count": null,
   "id": "favorite-robertson",
   "metadata": {},
   "outputs": [],
   "source": []
  },
  {
   "cell_type": "code",
   "execution_count": null,
   "id": "ruled-vision",
   "metadata": {},
   "outputs": [],
   "source": []
  },
  {
   "cell_type": "code",
   "execution_count": null,
   "id": "elegant-resource",
   "metadata": {},
   "outputs": [],
   "source": []
  },
  {
   "cell_type": "code",
   "execution_count": null,
   "id": "exciting-cooper",
   "metadata": {},
   "outputs": [],
   "source": []
  },
  {
   "cell_type": "code",
   "execution_count": 32,
   "id": "approximate-division",
   "metadata": {},
   "outputs": [
    {
     "data": {
      "text/plain": [
       "11"
      ]
     },
     "execution_count": 32,
     "metadata": {},
     "output_type": "execute_result"
    }
   ],
   "source": [
    "v1 ,v2 = 100, 200\n",
    "print(\"v1 = \", v1, \"v2 = \", v2) # v1 =  100 v2 =  200\n",
    "\n",
    "# 변수 값 교체\n",
    "v1, v2 = v2, v1\n",
    "'''\n",
    "tmp = v1\n",
    "v1 = v2\n",
    "v2 = tmp\n",
    "'''\n",
    "print(\"v1 = \", v1, \"v2 = \", v2) # v1 =  200 v2 =  100\n",
    "\n",
    "# 패킹(packing) 할당(* 사용)\n",
    "lst = [1, 2, 3, 4, 5] # vector : 1차원\n",
    "v1, *v2 = lst\n",
    "print(\"v1 = \", v1, \"v2 = \", v2) # v1 =  1 v2 =  [2, 3, 4, 5]\n",
    "\n",
    "*v1, v2 = lst\n",
    "print(\"v1 = \", v1, \"v2 = \", v2) # v1 =  [1, 2, 3, 4] v2 =  5"
   ]
  },
  {
   "cell_type": "code",
   "execution_count": null,
   "id": "quarterly-phase",
   "metadata": {},
   "outputs": [],
   "source": []
  },
  {
   "cell_type": "code",
   "execution_count": null,
   "id": "statistical-oasis",
   "metadata": {},
   "outputs": [],
   "source": []
  }
 ],
 "metadata": {
  "kernelspec": {
   "display_name": "Python 3",
   "language": "python",
   "name": "python3"
  },
  "language_info": {
   "codemirror_mode": {
    "name": "ipython",
    "version": 3
   },
   "file_extension": ".py",
   "mimetype": "text/x-python",
   "name": "python",
   "nbconvert_exporter": "python",
   "pygments_lexer": "ipython3",
   "version": "3.7.9"
  }
 },
 "nbformat": 4,
 "nbformat_minor": 5
}
