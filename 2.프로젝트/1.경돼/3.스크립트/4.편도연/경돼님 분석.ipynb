{
 "cells": [
  {
   "cell_type": "code",
   "execution_count": 3,
   "metadata": {},
   "outputs": [],
   "source": [
    "import pandas as pd\n",
    "import numpy as np\n",
    "import matplotlib.pyplot as plt\n",
    "import seaborn as sns\n",
    "import warnings\n",
    "import re\n",
    "\n",
    "warnings.filterwarnings('ignore')\n",
    "%matplotlib inline"
   ]
  },
  {
   "cell_type": "code",
   "execution_count": 102,
   "metadata": {},
   "outputs": [],
   "source": [
    "#df = open('c:\\R\\Data_literacy\\preprocessing_data.csv','rt',encoding = 'utf-8')\n",
    "df = pd.read_csv('c:\\R\\Data_literacy\\preprocessing_data.csv')"
   ]
  },
  {
   "cell_type": "code",
   "execution_count": 17,
   "metadata": {},
   "outputs": [
    {
     "name": "stdout",
     "output_type": "stream",
     "text": [
      "(598, 15)\n"
     ]
    }
   ],
   "source": [
    "df\n",
    "print(df.shape)"
   ]
  },
  {
   "cell_type": "code",
   "execution_count": 15,
   "metadata": {},
   "outputs": [
    {
     "data": {
      "text/html": [
       "<div>\n",
       "<style scoped>\n",
       "    .dataframe tbody tr th:only-of-type {\n",
       "        vertical-align: middle;\n",
       "    }\n",
       "\n",
       "    .dataframe tbody tr th {\n",
       "        vertical-align: top;\n",
       "    }\n",
       "\n",
       "    .dataframe thead th {\n",
       "        text-align: right;\n",
       "    }\n",
       "</style>\n",
       "<table border=\"1\" class=\"dataframe\">\n",
       "  <thead>\n",
       "    <tr style=\"text-align: right;\">\n",
       "      <th></th>\n",
       "      <th>title</th>\n",
       "      <th>published_at</th>\n",
       "      <th>published_time</th>\n",
       "      <th>published_year</th>\n",
       "      <th>published_month</th>\n",
       "      <th>published_day</th>\n",
       "      <th>month_upload_count</th>\n",
       "      <th>duration</th>\n",
       "      <th>view_count</th>\n",
       "      <th>likes</th>\n",
       "      <th>dislikes</th>\n",
       "      <th>comment_count</th>\n",
       "      <th>description</th>\n",
       "      <th>tags</th>\n",
       "      <th>comments</th>\n",
       "    </tr>\n",
       "  </thead>\n",
       "  <tbody>\n",
       "    <tr>\n",
       "      <th>0</th>\n",
       "      <td>100kg 20회 실화?!?? 아이템 착용</td>\n",
       "      <td>2021-05-31</td>\n",
       "      <td>12</td>\n",
       "      <td>2021</td>\n",
       "      <td>5</td>\n",
       "      <td>31</td>\n",
       "      <td>4</td>\n",
       "      <td>37</td>\n",
       "      <td>973</td>\n",
       "      <td>25.0</td>\n",
       "      <td>2.0</td>\n",
       "      <td>12.0</td>\n",
       "      <td>아이템전....</td>\n",
       "      <td>벤치프레스,스트렝스,경돼 벤치프레스,100kg,벤치프레스100kg,benchpres...</td>\n",
       "      <td>['형님영상보고 5X5X5 루틴하고있는데\\n5,5,5가 효과가 더있나요 아니면 많이...</td>\n",
       "    </tr>\n",
       "    <tr>\n",
       "      <th>1</th>\n",
       "      <td>벤치 120kg,  도와ㅜ줘 도와ㅜ줘!!</td>\n",
       "      <td>2021-05-30</td>\n",
       "      <td>22</td>\n",
       "      <td>2021</td>\n",
       "      <td>5</td>\n",
       "      <td>30</td>\n",
       "      <td>4</td>\n",
       "      <td>43</td>\n",
       "      <td>1487</td>\n",
       "      <td>33.0</td>\n",
       "      <td>0.0</td>\n",
       "      <td>21.0</td>\n",
       "      <td>출근 전 벤치프레스</td>\n",
       "      <td>벤치프레스,Benchpress,스트렝스,경돼</td>\n",
       "      <td>['손바닥 전체적으로 미시나요?\\n자신만의 포인트좀 공유부탁드려요.\\n 상당히 안정...</td>\n",
       "    </tr>\n",
       "  </tbody>\n",
       "</table>\n",
       "</div>"
      ],
      "text/plain": [
       "                     title published_at  published_time  published_year  \\\n",
       "0  100kg 20회 실화?!?? 아이템 착용   2021-05-31              12            2021   \n",
       "1   벤치 120kg,  도와ㅜ줘 도와ㅜ줘!!   2021-05-30              22            2021   \n",
       "\n",
       "   published_month  published_day  month_upload_count  duration  view_count  \\\n",
       "0                5             31                   4        37         973   \n",
       "1                5             30                   4        43        1487   \n",
       "\n",
       "   likes  dislikes  comment_count description  \\\n",
       "0   25.0       2.0           12.0    아이템전....   \n",
       "1   33.0       0.0           21.0  출근 전 벤치프레스   \n",
       "\n",
       "                                                tags  \\\n",
       "0  벤치프레스,스트렝스,경돼 벤치프레스,100kg,벤치프레스100kg,benchpres...   \n",
       "1                           벤치프레스,Benchpress,스트렝스,경돼   \n",
       "\n",
       "                                            comments  \n",
       "0  ['형님영상보고 5X5X5 루틴하고있는데\\n5,5,5가 효과가 더있나요 아니면 많이...  \n",
       "1  ['손바닥 전체적으로 미시나요?\\n자신만의 포인트좀 공유부탁드려요.\\n 상당히 안정...  "
      ]
     },
     "execution_count": 15,
     "metadata": {},
     "output_type": "execute_result"
    }
   ],
   "source": [
    "df.head(2)"
   ]
  },
  {
   "cell_type": "code",
   "execution_count": 103,
   "metadata": {},
   "outputs": [
    {
     "data": {
      "text/plain": [
       "title                 0\n",
       "date                  0\n",
       "published_time        0\n",
       "year                  0\n",
       "month                 0\n",
       "day                   0\n",
       "month_upload_count    0\n",
       "duration              0\n",
       "view_count            0\n",
       "likes                 1\n",
       "dislikes              1\n",
       "comment_count         1\n",
       "description           2\n",
       "tags                  7\n",
       "comments              0\n",
       "dtype: int64"
      ]
     },
     "execution_count": 103,
     "metadata": {},
     "output_type": "execute_result"
    }
   ],
   "source": [
    "df.rename(columns = {'published_at':'date',\n",
    "                     'published_year':'year',\n",
    "                     'published_month':'month',\n",
    "                    'published_day':'day'},inplace = True)\n",
    "df#598,15\n",
    "df.isnull().sum()"
   ]
  },
  {
   "cell_type": "code",
   "execution_count": 107,
   "metadata": {},
   "outputs": [
    {
     "data": {
      "text/html": [
       "<div>\n",
       "<style scoped>\n",
       "    .dataframe tbody tr th:only-of-type {\n",
       "        vertical-align: middle;\n",
       "    }\n",
       "\n",
       "    .dataframe tbody tr th {\n",
       "        vertical-align: top;\n",
       "    }\n",
       "\n",
       "    .dataframe thead th {\n",
       "        text-align: right;\n",
       "    }\n",
       "</style>\n",
       "<table border=\"1\" class=\"dataframe\">\n",
       "  <thead>\n",
       "    <tr style=\"text-align: right;\">\n",
       "      <th></th>\n",
       "      <th>title</th>\n",
       "      <th>date</th>\n",
       "      <th>published_time</th>\n",
       "      <th>year</th>\n",
       "      <th>month</th>\n",
       "      <th>day</th>\n",
       "      <th>month_upload_count</th>\n",
       "      <th>duration</th>\n",
       "      <th>view_count</th>\n",
       "      <th>likes</th>\n",
       "      <th>dislikes</th>\n",
       "      <th>comment_count</th>\n",
       "    </tr>\n",
       "  </thead>\n",
       "  <tbody>\n",
       "    <tr>\n",
       "      <th>0</th>\n",
       "      <td>100kg 20회 실화?!?? 아이템 착용</td>\n",
       "      <td>2021-05-31</td>\n",
       "      <td>12</td>\n",
       "      <td>2021</td>\n",
       "      <td>5</td>\n",
       "      <td>31</td>\n",
       "      <td>4</td>\n",
       "      <td>37</td>\n",
       "      <td>973</td>\n",
       "      <td>25.0</td>\n",
       "      <td>2.0</td>\n",
       "      <td>12.0</td>\n",
       "    </tr>\n",
       "    <tr>\n",
       "      <th>1</th>\n",
       "      <td>벤치 120kg,  도와ㅜ줘 도와ㅜ줘!!</td>\n",
       "      <td>2021-05-30</td>\n",
       "      <td>22</td>\n",
       "      <td>2021</td>\n",
       "      <td>5</td>\n",
       "      <td>30</td>\n",
       "      <td>4</td>\n",
       "      <td>43</td>\n",
       "      <td>1487</td>\n",
       "      <td>33.0</td>\n",
       "      <td>0.0</td>\n",
       "      <td>21.0</td>\n",
       "    </tr>\n",
       "    <tr>\n",
       "      <th>2</th>\n",
       "      <td>출근 전 벤치프레스 100kg</td>\n",
       "      <td>2021-05-26</td>\n",
       "      <td>22</td>\n",
       "      <td>2021</td>\n",
       "      <td>5</td>\n",
       "      <td>26</td>\n",
       "      <td>4</td>\n",
       "      <td>42</td>\n",
       "      <td>2042</td>\n",
       "      <td>31.0</td>\n",
       "      <td>3.0</td>\n",
       "      <td>17.0</td>\n",
       "    </tr>\n",
       "    <tr>\n",
       "      <th>3</th>\n",
       "      <td>궁금했던 것 물어보면 딱 좋은 타이밍!</td>\n",
       "      <td>2021-05-14</td>\n",
       "      <td>2</td>\n",
       "      <td>2021</td>\n",
       "      <td>5</td>\n",
       "      <td>14</td>\n",
       "      <td>4</td>\n",
       "      <td>210</td>\n",
       "      <td>2011</td>\n",
       "      <td>67.0</td>\n",
       "      <td>2.0</td>\n",
       "      <td>16.0</td>\n",
       "    </tr>\n",
       "    <tr>\n",
       "      <th>4</th>\n",
       "      <td>비아냥 속에서도 묵묵히 최선을 다할 것.</td>\n",
       "      <td>2021-04-25</td>\n",
       "      <td>2</td>\n",
       "      <td>2021</td>\n",
       "      <td>4</td>\n",
       "      <td>25</td>\n",
       "      <td>1</td>\n",
       "      <td>13</td>\n",
       "      <td>5501</td>\n",
       "      <td>127.0</td>\n",
       "      <td>7.0</td>\n",
       "      <td>64.0</td>\n",
       "    </tr>\n",
       "    <tr>\n",
       "      <th>...</th>\n",
       "      <td>...</td>\n",
       "      <td>...</td>\n",
       "      <td>...</td>\n",
       "      <td>...</td>\n",
       "      <td>...</td>\n",
       "      <td>...</td>\n",
       "      <td>...</td>\n",
       "      <td>...</td>\n",
       "      <td>...</td>\n",
       "      <td>...</td>\n",
       "      <td>...</td>\n",
       "      <td>...</td>\n",
       "    </tr>\n",
       "    <tr>\n",
       "      <th>593</th>\n",
       "      <td>All round Workouts (전신운동) 07</td>\n",
       "      <td>2016-05-16</td>\n",
       "      <td>9</td>\n",
       "      <td>2016</td>\n",
       "      <td>5</td>\n",
       "      <td>16</td>\n",
       "      <td>13</td>\n",
       "      <td>461</td>\n",
       "      <td>464</td>\n",
       "      <td>11.0</td>\n",
       "      <td>0.0</td>\n",
       "      <td>19.0</td>\n",
       "    </tr>\n",
       "    <tr>\n",
       "      <th>594</th>\n",
       "      <td>SixpackShortCuts (스쿼트, 어깨운동, 일상) 05</td>\n",
       "      <td>2016-05-12</td>\n",
       "      <td>14</td>\n",
       "      <td>2016</td>\n",
       "      <td>5</td>\n",
       "      <td>12</td>\n",
       "      <td>13</td>\n",
       "      <td>346</td>\n",
       "      <td>1127</td>\n",
       "      <td>16.0</td>\n",
       "      <td>1.0</td>\n",
       "      <td>5.0</td>\n",
       "    </tr>\n",
       "    <tr>\n",
       "      <th>595</th>\n",
       "      <td>Body transformation without diet in 3months</td>\n",
       "      <td>2016-05-09</td>\n",
       "      <td>6</td>\n",
       "      <td>2016</td>\n",
       "      <td>5</td>\n",
       "      <td>9</td>\n",
       "      <td>13</td>\n",
       "      <td>209</td>\n",
       "      <td>12163</td>\n",
       "      <td>74.0</td>\n",
       "      <td>6.0</td>\n",
       "      <td>21.0</td>\n",
       "    </tr>\n",
       "    <tr>\n",
       "      <th>596</th>\n",
       "      <td>스모데드리프트  (Sumo Deadlifts) 02</td>\n",
       "      <td>2016-05-08</td>\n",
       "      <td>13</td>\n",
       "      <td>2016</td>\n",
       "      <td>5</td>\n",
       "      <td>8</td>\n",
       "      <td>13</td>\n",
       "      <td>214</td>\n",
       "      <td>3218</td>\n",
       "      <td>29.0</td>\n",
       "      <td>0.0</td>\n",
       "      <td>12.0</td>\n",
       "    </tr>\n",
       "    <tr>\n",
       "      <th>597</th>\n",
       "      <td>등운동 1st video making(스모 데드리프트 180kg) sumo dead...</td>\n",
       "      <td>2016-05-07</td>\n",
       "      <td>9</td>\n",
       "      <td>2016</td>\n",
       "      <td>5</td>\n",
       "      <td>7</td>\n",
       "      <td>13</td>\n",
       "      <td>235</td>\n",
       "      <td>3880</td>\n",
       "      <td>45.0</td>\n",
       "      <td>0.0</td>\n",
       "      <td>30.0</td>\n",
       "    </tr>\n",
       "  </tbody>\n",
       "</table>\n",
       "<p>597 rows × 12 columns</p>\n",
       "</div>"
      ],
      "text/plain": [
       "                                                 title        date  \\\n",
       "0                              100kg 20회 실화?!?? 아이템 착용  2021-05-31   \n",
       "1                               벤치 120kg,  도와ㅜ줘 도와ㅜ줘!!  2021-05-30   \n",
       "2                                     출근 전 벤치프레스 100kg  2021-05-26   \n",
       "3                                궁금했던 것 물어보면 딱 좋은 타이밍!  2021-05-14   \n",
       "4                               비아냥 속에서도 묵묵히 최선을 다할 것.  2021-04-25   \n",
       "..                                                 ...         ...   \n",
       "593                       All round Workouts (전신운동) 07  2016-05-16   \n",
       "594                SixpackShortCuts (스쿼트, 어깨운동, 일상) 05  2016-05-12   \n",
       "595        Body transformation without diet in 3months  2016-05-09   \n",
       "596                       스모데드리프트  (Sumo Deadlifts) 02  2016-05-08   \n",
       "597  등운동 1st video making(스모 데드리프트 180kg) sumo dead...  2016-05-07   \n",
       "\n",
       "     published_time  year  month  day  month_upload_count  duration  \\\n",
       "0                12  2021      5   31                   4        37   \n",
       "1                22  2021      5   30                   4        43   \n",
       "2                22  2021      5   26                   4        42   \n",
       "3                 2  2021      5   14                   4       210   \n",
       "4                 2  2021      4   25                   1        13   \n",
       "..              ...   ...    ...  ...                 ...       ...   \n",
       "593               9  2016      5   16                  13       461   \n",
       "594              14  2016      5   12                  13       346   \n",
       "595               6  2016      5    9                  13       209   \n",
       "596              13  2016      5    8                  13       214   \n",
       "597               9  2016      5    7                  13       235   \n",
       "\n",
       "     view_count  likes  dislikes  comment_count  \n",
       "0           973   25.0       2.0           12.0  \n",
       "1          1487   33.0       0.0           21.0  \n",
       "2          2042   31.0       3.0           17.0  \n",
       "3          2011   67.0       2.0           16.0  \n",
       "4          5501  127.0       7.0           64.0  \n",
       "..          ...    ...       ...            ...  \n",
       "593         464   11.0       0.0           19.0  \n",
       "594        1127   16.0       1.0            5.0  \n",
       "595       12163   74.0       6.0           21.0  \n",
       "596        3218   29.0       0.0           12.0  \n",
       "597        3880   45.0       0.0           30.0  \n",
       "\n",
       "[597 rows x 12 columns]"
      ]
     },
     "execution_count": 107,
     "metadata": {},
     "output_type": "execute_result"
    }
   ],
   "source": [
    "#데이터 전처리\n",
    "#iloc 는 숫자형 인덱스만 받아주고 loc는 문자형 인덱스도 받아줌 > ?\n",
    "#tags,description,comments 삭제\n",
    "df2 = df.drop([\"tags\",\"description\",\"comments\"],axis =1)\n",
    "#1)경돼님이 댓글기능 막으셔서 좋아요 및 싫어요 NA처리 행 제거\n",
    "df2 = df2.dropna(axis=0)\n",
    "df2#597,12 > 댓글 막은 1개의 행 삭제"
   ]
  },
  {
   "cell_type": "code",
   "execution_count": 110,
   "metadata": {},
   "outputs": [
    {
     "name": "stdout",
     "output_type": "stream",
     "text": [
      "(597, 14)\n"
     ]
    }
   ],
   "source": [
    "#interest_rate 변수 생성\n",
    "df2['interest_rate'] = (df2['likes']+df2['dislikes']+df2['comment_count'])/df2['view_count']\n",
    "df2['total_interest'] = df2['likes']+df2['dislikes']+df2['comment_count']\n",
    "#변수추가 이유 : likes, dislikes, comment_ct와 view_count의 상관관계가 유의함을 알 수 있다.from 상관관계\n",
    "#따라서 세 변수를 하나로 통합하여 interest라는 변수로 처리하였다.\n",
    "print(df2.shape) #변수 두개 추가 완료"
   ]
  },
  {
   "cell_type": "code",
   "execution_count": 111,
   "metadata": {},
   "outputs": [
    {
     "data": {
      "text/plain": [
       "<matplotlib.axes._subplots.AxesSubplot at 0x1ecceff79d0>"
      ]
     },
     "execution_count": 111,
     "metadata": {},
     "output_type": "execute_result"
    },
    {
     "data": {
      "image/png": "[encoded data removed]",
      "text/plain": [
       "<Figure size 864x576 with 2 Axes>"
      ]
     },
     "metadata": {
      "needs_background": "light"
     },
     "output_type": "display_data"
    }
   ],
   "source": [
    "a = df2.drop(['title','date'],axis = 1).corr()\n",
    "#plt.figure(figsize = (12,8))\n",
    "#sns.heatmap(a,vmin=-1,vmax=1,annot = True)\n",
    "plt.rcParams[\"figure.figsize\"] = (12,8)\n",
    "sns.heatmap(a,\n",
    "           annot = True, #실제 값 화면에 나타내기\n",
    "           cmap = 'Greens', #색상\n",
    "           vmin = -1, vmax=1 , #컬러차트 영역 -1 ~ +1\n",
    ")"
   ]
  },
  {
   "cell_type": "code",
   "execution_count": 90,
   "metadata": {},
   "outputs": [
    {
     "data": {
      "text/plain": [
       "(-0.2958045569941663, 2.3299999193034625e-13)"
      ]
     },
     "execution_count": 90,
     "metadata": {},
     "output_type": "execute_result"
    }
   ],
   "source": [
    "from scipy import stats\n",
    "#상관관계 view_ct & interest_rate 유의미함.\n",
    "stats.pearsonr(df2.view_count, df2.interest_rate)"
   ]
  },
  {
   "cell_type": "code",
   "execution_count": 91,
   "metadata": {},
   "outputs": [
    {
     "data": {
      "text/plain": [
       "(0.8434204182584297, 1.6092111185541056e-160)"
      ]
     },
     "execution_count": 91,
     "metadata": {},
     "output_type": "execute_result"
    }
   ],
   "source": [
    "#상관관계 view_ct & total_interest 유의미함.\n",
    "stats.pearsonr(df2.view_count,df2.total_interest)"
   ]
  },
  {
   "cell_type": "code",
   "execution_count": 94,
   "metadata": {},
   "outputs": [
    {
     "data": {
      "text/plain": [
       "(-0.20951333409054873, 2.882087198070738e-07)"
      ]
     },
     "execution_count": 94,
     "metadata": {},
     "output_type": "execute_result"
    }
   ],
   "source": [
    "#상관관계 total_interest & interest_rate 유의미함.\n",
    "stats.pearsonr(df2.total_interest,df2.interest_rate)"
   ]
  },
  {
   "cell_type": "code",
   "execution_count": 93,
   "metadata": {},
   "outputs": [
    {
     "data": {
      "text/plain": [
       "(-0.11350435537116084, 0.0058202648808780505)"
      ]
     },
     "execution_count": 93,
     "metadata": {},
     "output_type": "execute_result"
    }
   ],
   "source": [
    "#상관관계 view_count & duration 유의미함.\n",
    "stats.pearsonr(df2.view_count,df2.duration)"
   ]
  },
  {
   "cell_type": "code",
   "execution_count": 112,
   "metadata": {},
   "outputs": [
    {
     "data": {
      "text/plain": [
       "(0.07203026674247316, 0.07865333306187942)"
      ]
     },
     "execution_count": 112,
     "metadata": {},
     "output_type": "execute_result"
    }
   ],
   "source": [
    "#상관관계 vies_count & month_upload_count 유의미지 않다. >*\n",
    "#그러나 month_upload_count의 행구성을 주의해서 파악해야한다.\n",
    "#month별로 카운트되므로 비교할 변수도 month로 묶어줘야 정확한 상관관계 파악 가능.\n",
    "stats.pearsonr(df2.view_count,df2.month_upload_count)"
   ]
  },
  {
   "cell_type": "code",
   "execution_count": 200,
   "metadata": {},
   "outputs": [],
   "source": [
    "mt_upload_ct = df2.loc[:,['year','month','month_upload_count']].groupby(['year','month']).mean()\n",
    "df3 = df2.drop(['title','date','published_time','day','month_upload_count','likes','dislikes','comment_count','duration'],axis =1)\n",
    "a1 = df3.groupby(['year','month']).agg(['mean','sum'])\n",
    "a1.columns = ['mt_mean_view','mt_total_view','mean_interest_rate','aa','bb','total_interest']\n",
    "a1.drop(['aa','bb'],axis=1,inplace = True)"
   ]
  },
  {
   "cell_type": "code",
   "execution_count": 201,
   "metadata": {},
   "outputs": [
    {
     "data": {
      "text/plain": [
       "<matplotlib.axes._subplots.AxesSubplot at 0x1ecd28c52e0>"
      ]
     },
     "execution_count": 201,
     "metadata": {},
     "output_type": "execute_result"
    },
    {
     "data": {
      "image/png": "[encoded data removed]",
      "text/plain": [
       "<Figure size 864x576 with 2 Axes>"
      ]
     },
     "metadata": {
      "needs_background": "light"
     },
     "output_type": "display_data"
    }
   ],
   "source": [
    "a2 = pd.concat([a1,mt_upload_ct],axis =1)\n",
    "b = a2.corr()\n",
    "plt.rcParams[\"figure.figsize\"] = (12,8)\n",
    "sns.heatmap(b,\n",
    "           annot = True, #실제 값 화면에 나타내기\n",
    "           cmap = 'Greens', #색상\n",
    "           vmin = -1, vmax=1 , #컬러차트 영역 -1 ~ +1\n",
    ")"
   ]
  },
  {
   "cell_type": "code",
   "execution_count": 198,
   "metadata": {},
   "outputs": [
    {
     "data": {
      "text/plain": [
       "(0.4291061541979072, 0.0007764962517083991)"
      ]
     },
     "execution_count": 198,
     "metadata": {},
     "output_type": "execute_result"
    }
   ],
   "source": [
    "#month_upload_count와 month_mean_view 유의함.\n",
    "stats.pearsonr(a2.month_upload_count,a2.mt_mean_view)"
   ]
  },
  {
   "cell_type": "code",
   "execution_count": 199,
   "metadata": {},
   "outputs": [
    {
     "data": {
      "text/plain": [
       "(0.6488329957545577, 3.625240447521998e-08)"
      ]
     },
     "execution_count": 199,
     "metadata": {},
     "output_type": "execute_result"
    }
   ],
   "source": [
    "#month_upload_count와 month_total_view 또한 유의함(상관계수 > 0)\n",
    "stats.pearsonr(a2.month_upload_count,a2.mt_total_view)"
   ]
  },
  {
   "cell_type": "code",
   "execution_count": 204,
   "metadata": {},
   "outputs": [
    {
     "data": {
      "text/plain": [
       "(0.701443567199202, 8.632200230180649e-10)"
      ]
     },
     "execution_count": 204,
     "metadata": {},
     "output_type": "execute_result"
    }
   ],
   "source": [
    "#영상업로드와 total_interest 또한 유의미한 상관관계.\n",
    "stats.pearsonr(a2.month_upload_count,a2.total_interest)\n",
    "#인사이트1 : 구독자 수 유지 및 상승을 위해서 영상 업로드 횟수를 올리면 된다!\n",
    "#영상 업로드 횟수가 늘어나면 시청자들의 관심도 높아질 것으로 예상된다."
   ]
  },
  {
   "cell_type": "code",
   "execution_count": 247,
   "metadata": {},
   "outputs": [
    {
     "data": {
      "text/html": [
       "<div>\n",
       "<style scoped>\n",
       "    .dataframe tbody tr th:only-of-type {\n",
       "        vertical-align: middle;\n",
       "    }\n",
       "\n",
       "    .dataframe tbody tr th {\n",
       "        vertical-align: top;\n",
       "    }\n",
       "\n",
       "    .dataframe thead th {\n",
       "        text-align: right;\n",
       "    }\n",
       "</style>\n",
       "<table border=\"1\" class=\"dataframe\">\n",
       "  <thead>\n",
       "    <tr style=\"text-align: right;\">\n",
       "      <th></th>\n",
       "      <th>yr_mean_view</th>\n",
       "      <th>yr_total_view</th>\n",
       "      <th>mn_interest_rate</th>\n",
       "      <th>tt_interest</th>\n",
       "    </tr>\n",
       "    <tr>\n",
       "      <th>year</th>\n",
       "      <th></th>\n",
       "      <th></th>\n",
       "      <th></th>\n",
       "      <th></th>\n",
       "    </tr>\n",
       "  </thead>\n",
       "  <tbody>\n",
       "    <tr>\n",
       "      <th>2017</th>\n",
       "      <td>15155.086022</td>\n",
       "      <td>2818846</td>\n",
       "      <td>0.028180</td>\n",
       "      <td>38980.0</td>\n",
       "    </tr>\n",
       "    <tr>\n",
       "      <th>2018</th>\n",
       "      <td>16364.951049</td>\n",
       "      <td>2340188</td>\n",
       "      <td>0.025845</td>\n",
       "      <td>45268.0</td>\n",
       "    </tr>\n",
       "    <tr>\n",
       "      <th>2019</th>\n",
       "      <td>8859.737500</td>\n",
       "      <td>708779</td>\n",
       "      <td>0.028132</td>\n",
       "      <td>17843.0</td>\n",
       "    </tr>\n",
       "    <tr>\n",
       "      <th>2020</th>\n",
       "      <td>6709.000000</td>\n",
       "      <td>181143</td>\n",
       "      <td>0.037079</td>\n",
       "      <td>4850.0</td>\n",
       "    </tr>\n",
       "    <tr>\n",
       "      <th>2021</th>\n",
       "      <td>3249.133333</td>\n",
       "      <td>48737</td>\n",
       "      <td>0.040804</td>\n",
       "      <td>2057.0</td>\n",
       "    </tr>\n",
       "  </tbody>\n",
       "</table>\n",
       "</div>"
      ],
      "text/plain": [
       "      yr_mean_view  yr_total_view  mn_interest_rate  tt_interest\n",
       "year                                                            \n",
       "2017  15155.086022        2818846          0.028180      38980.0\n",
       "2018  16364.951049        2340188          0.025845      45268.0\n",
       "2019   8859.737500         708779          0.028132      17843.0\n",
       "2020   6709.000000         181143          0.037079       4850.0\n",
       "2021   3249.133333          48737          0.040804       2057.0"
      ]
     },
     "execution_count": 247,
     "metadata": {},
     "output_type": "execute_result"
    }
   ],
   "source": [
    "a3 = df3.groupby(['year']).agg(['mean','sum'])\n",
    "a4 = a3.iloc[1:,[2,3,4,7]]\n",
    "a4.columns = ['yr_mean_view','yr_total_view','mn_interest_rate','tt_interest']\n",
    "a4"
   ]
  },
  {
   "cell_type": "code",
   "execution_count": 245,
   "metadata": {},
   "outputs": [
    {
     "ename": "ValueError",
     "evalue": "Could not interpret input 'year'",
     "output_type": "error",
     "traceback": [
      "\u001b[1;31m---------------------------------------------------------------------------\u001b[0m",
      "\u001b[1;31mValueError\u001b[0m                                Traceback (most recent call last)",
      "\u001b[1;32m<ipython-input-245-615c7512869d>\u001b[0m in \u001b[0;36m<module>\u001b[1;34m\u001b[0m\n\u001b[1;32m----> 1\u001b[1;33m \u001b[0msns\u001b[0m\u001b[1;33m.\u001b[0m\u001b[0mbarplot\u001b[0m\u001b[1;33m(\u001b[0m\u001b[0mx\u001b[0m \u001b[1;33m=\u001b[0m \u001b[1;34m'year'\u001b[0m\u001b[1;33m,\u001b[0m \u001b[0my\u001b[0m \u001b[1;33m=\u001b[0m \u001b[1;34m\"yr_mean_view\"\u001b[0m\u001b[1;33m,\u001b[0m \u001b[0mdata\u001b[0m\u001b[1;33m=\u001b[0m\u001b[0ma3\u001b[0m\u001b[1;33m)\u001b[0m\u001b[1;33m\u001b[0m\u001b[1;33m\u001b[0m\u001b[0m\n\u001b[0m",
      "\u001b[1;32m~\\anaconda3\\lib\\site-packages\\seaborn\\categorical.py\u001b[0m in \u001b[0;36mbarplot\u001b[1;34m(x, y, hue, data, order, hue_order, estimator, ci, n_boot, units, seed, orient, color, palette, saturation, errcolor, errwidth, capsize, dodge, ax, **kwargs)\u001b[0m\n\u001b[0;32m   3142\u001b[0m             ax=None, **kwargs):\n\u001b[0;32m   3143\u001b[0m \u001b[1;33m\u001b[0m\u001b[0m\n\u001b[1;32m-> 3144\u001b[1;33m     plotter = _BarPlotter(x, y, hue, data, order, hue_order,\n\u001b[0m\u001b[0;32m   3145\u001b[0m                           \u001b[0mestimator\u001b[0m\u001b[1;33m,\u001b[0m \u001b[0mci\u001b[0m\u001b[1;33m,\u001b[0m \u001b[0mn_boot\u001b[0m\u001b[1;33m,\u001b[0m \u001b[0munits\u001b[0m\u001b[1;33m,\u001b[0m \u001b[0mseed\u001b[0m\u001b[1;33m,\u001b[0m\u001b[1;33m\u001b[0m\u001b[1;33m\u001b[0m\u001b[0m\n\u001b[0;32m   3146\u001b[0m                           \u001b[0morient\u001b[0m\u001b[1;33m,\u001b[0m \u001b[0mcolor\u001b[0m\u001b[1;33m,\u001b[0m \u001b[0mpalette\u001b[0m\u001b[1;33m,\u001b[0m \u001b[0msaturation\u001b[0m\u001b[1;33m,\u001b[0m\u001b[1;33m\u001b[0m\u001b[1;33m\u001b[0m\u001b[0m\n",
      "\u001b[1;32m~\\anaconda3\\lib\\site-packages\\seaborn\\categorical.py\u001b[0m in \u001b[0;36m__init__\u001b[1;34m(self, x, y, hue, data, order, hue_order, estimator, ci, n_boot, units, seed, orient, color, palette, saturation, errcolor, errwidth, capsize, dodge)\u001b[0m\n\u001b[0;32m   1600\u001b[0m                  errwidth, capsize, dodge):\n\u001b[0;32m   1601\u001b[0m         \u001b[1;34m\"\"\"Initialize the plotter.\"\"\"\u001b[0m\u001b[1;33m\u001b[0m\u001b[1;33m\u001b[0m\u001b[0m\n\u001b[1;32m-> 1602\u001b[1;33m         self.establish_variables(x, y, hue, data, orient,\n\u001b[0m\u001b[0;32m   1603\u001b[0m                                  order, hue_order, units)\n\u001b[0;32m   1604\u001b[0m         \u001b[0mself\u001b[0m\u001b[1;33m.\u001b[0m\u001b[0mestablish_colors\u001b[0m\u001b[1;33m(\u001b[0m\u001b[0mcolor\u001b[0m\u001b[1;33m,\u001b[0m \u001b[0mpalette\u001b[0m\u001b[1;33m,\u001b[0m \u001b[0msaturation\u001b[0m\u001b[1;33m)\u001b[0m\u001b[1;33m\u001b[0m\u001b[1;33m\u001b[0m\u001b[0m\n",
      "\u001b[1;32m~\\anaconda3\\lib\\site-packages\\seaborn\\categorical.py\u001b[0m in \u001b[0;36mestablish_variables\u001b[1;34m(self, x, y, hue, data, orient, order, hue_order, units)\u001b[0m\n\u001b[0;32m    150\u001b[0m                 \u001b[1;32mif\u001b[0m \u001b[0misinstance\u001b[0m\u001b[1;33m(\u001b[0m\u001b[0mvar\u001b[0m\u001b[1;33m,\u001b[0m \u001b[0mstr\u001b[0m\u001b[1;33m)\u001b[0m\u001b[1;33m:\u001b[0m\u001b[1;33m\u001b[0m\u001b[1;33m\u001b[0m\u001b[0m\n\u001b[0;32m    151\u001b[0m                     \u001b[0merr\u001b[0m \u001b[1;33m=\u001b[0m \u001b[1;34m\"Could not interpret input '{}'\"\u001b[0m\u001b[1;33m.\u001b[0m\u001b[0mformat\u001b[0m\u001b[1;33m(\u001b[0m\u001b[0mvar\u001b[0m\u001b[1;33m)\u001b[0m\u001b[1;33m\u001b[0m\u001b[1;33m\u001b[0m\u001b[0m\n\u001b[1;32m--> 152\u001b[1;33m                     \u001b[1;32mraise\u001b[0m \u001b[0mValueError\u001b[0m\u001b[1;33m(\u001b[0m\u001b[0merr\u001b[0m\u001b[1;33m)\u001b[0m\u001b[1;33m\u001b[0m\u001b[1;33m\u001b[0m\u001b[0m\n\u001b[0m\u001b[0;32m    153\u001b[0m \u001b[1;33m\u001b[0m\u001b[0m\n\u001b[0;32m    154\u001b[0m             \u001b[1;31m# Figure out the plotting orientation\u001b[0m\u001b[1;33m\u001b[0m\u001b[1;33m\u001b[0m\u001b[1;33m\u001b[0m\u001b[0m\n",
      "\u001b[1;31mValueError\u001b[0m: Could not interpret input 'year'"
     ]
    }
   ],
   "source": [
    "#그래프 실패..\n",
    "sns.barplot(x = 'year', y = \"yr_mean_view\", data=a3)"
   ]
  },
  {
   "cell_type": "code",
   "execution_count": null,
   "metadata": {},
   "outputs": [],
   "source": [
    "이후 년도별로 쪼개본 분석은 엑셀로 정리하여 파이썬 코드로 정리X\n",
    "시각화 및 더 자세한 코드는 R로 정리!"
   ]
  },
  {
   "cell_type": "code",
   "execution_count": null,
   "metadata": {},
   "outputs": [],
   "source": []
  },
  {
   "cell_type": "code",
   "execution_count": null,
   "metadata": {},
   "outputs": [],
   "source": []
  },
  {
   "cell_type": "code",
   "execution_count": null,
   "metadata": {},
   "outputs": [],
   "source": []
  },
  {
   "cell_type": "code",
   "execution_count": null,
   "metadata": {},
   "outputs": [],
   "source": []
  }
 ],
 "metadata": {
  "kernelspec": {
   "display_name": "Python 3",
   "language": "python",
   "name": "python3"
  },
  "language_info": {
   "codemirror_mode": {
    "name": "ipython",
    "version": 3
   },
   "file_extension": ".py",
   "mimetype": "text/x-python",
   "name": "python",
   "nbconvert_exporter": "python",
   "pygments_lexer": "ipython3",
   "version": "3.8.3"
  }
 },
 "nbformat": 4,
 "nbformat_minor": 4
}
