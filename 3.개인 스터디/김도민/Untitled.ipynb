{
 "cells": [
  {
   "cell_type": "code",
   "execution_count": 9,
   "id": "stopped-source",
   "metadata": {},
   "outputs": [],
   "source": [
    "a = \"김\"\n",
    "b = '간디'"
   ]
  },
  {
   "cell_type": "code",
   "execution_count": 10,
   "id": "equivalent-librarian",
   "metadata": {},
   "outputs": [
    {
     "name": "stdout",
     "output_type": "stream",
     "text": [
      "김\n"
     ]
    }
   ],
   "source": [
    "print(a)"
   ]
  },
  {
   "cell_type": "code",
   "execution_count": 13,
   "id": "worldwide-packaging",
   "metadata": {},
   "outputs": [
    {
     "name": "stdout",
     "output_type": "stream",
     "text": [
      "100 <class 'int'>\n",
      "김 <class 'str'>\n",
      "True <class 'bool'>\n"
     ]
    }
   ],
   "source": [
    "var1 = 100\n",
    "var2 = '김'\n",
    "var3 = True\n",
    "\n",
    "print(var1, type(var1))\n",
    "print(var2, type(var2))\n",
    "print(var3, type(var3))"
   ]
  },
  {
   "cell_type": "code",
   "execution_count": 58,
   "id": "wrapped-validation",
   "metadata": {},
   "outputs": [
    {
     "name": "stdout",
     "output_type": "stream",
     "text": [
      "10\n",
      "11\n",
      "11\n"
     ]
    }
   ],
   "source": [
    "# Operator(연산자)\n",
    "i = 10\n",
    "print(i)\n",
    "i = i + 1\n",
    "print(i)\n",
    "i = 10\n",
    "i += 1\n",
    "print(i)"
   ]
  },
  {
   "cell_type": "code",
   "execution_count": 29,
   "id": "theoretical-exclusion",
   "metadata": {},
   "outputs": [
    {
     "data": {
      "text/plain": [
       "12"
      ]
     },
     "execution_count": 29,
     "metadata": {},
     "output_type": "execute_result"
    }
   ],
   "source": [
    "'''\n",
    "연산자(Operater)\n",
    "1. 변수에 값 할당(=)\n",
    "2. 연산자 : 산술, 관계, 논리\n",
    "3. print 형식\n",
    "4. input : 키보드 입력\n",
    "'''"
   ]
  },
  {
   "cell_type": "code",
   "execution_count": 67,
   "id": "structured-playlist",
   "metadata": {},
   "outputs": [
    {
     "name": "stdout",
     "output_type": "stream",
     "text": [
      "a =  10 b =  10\n"
     ]
    }
   ],
   "source": [
    "a, b = 10, 10\n",
    "print(\"a = \", a, \"b = \", b)"
   ]
  },
  {
   "cell_type": "code",
   "execution_count": 85,
   "id": "hawaiian-thinking",
   "metadata": {},
   "outputs": [],
   "source": [
    "# 2. 연산자 : 산술, 관계, 논리\n",
    "\n",
    "num1 = 100\n",
    "num2 = 20.5"
   ]
  },
  {
   "cell_type": "code",
   "execution_count": 86,
   "id": "tropical-africa",
   "metadata": {},
   "outputs": [
    {
     "name": "stdout",
     "output_type": "stream",
     "text": [
      "add =  120.5 sub =  79.5 mul =  2050.0\n",
      "mul =  2050.0 div =  4.878048780487805\n",
      "div2 =  4.0 div3 =  18.0 squre =  10000\n"
     ]
    }
   ],
   "source": [
    "add = num1 + num2\n",
    "sub = num1 - num2\n",
    "mul = num1 * num2\n",
    "\n",
    "# / : 실수형 몫\n",
    "# // : 정수형 몫\n",
    "# % : 나머지\n",
    "div = num1 / num2\n",
    "div2 = num1 // num2\n",
    "div3 = num1 % num2\n",
    "squre = num1 ** 2\n",
    "print(\"add = \", add, \"sub = \", sub, \"mul = \", mul)\n",
    "print(\"mul = \", mul, \"div = \", div)\n",
    "print(\"div2 = \", div2, \"div3 = \", div3, \"squre = \", squre)"
   ]
  },
  {
   "cell_type": "code",
   "execution_count": null,
   "id": "transsexual-tomorrow",
   "metadata": {},
   "outputs": [],
   "source": [
    "print(\"관계연산자\") # True or False\n",
    "# 1) 동등비교\n",
    "bool_re = num1 == num2\n",
    "print(bool_re) # False\n",
    "\n",
    "bool_re = num1 != num2\n",
    "print(bool_re) # True\n",
    "\n",
    "# 2) 대소 관계 : >, >=, <, <=\n",
    "bool_re = num1 >= num2\n",
    "print(bool_re) # True\n",
    "\n",
    "bool_re = num1 <= num2\n",
    "print(bool_re) # False"
   ]
  },
  {
   "cell_type": "code",
   "execution_count": 93,
   "id": "local-radio",
   "metadata": {},
   "outputs": [
    {
     "name": "stdout",
     "output_type": "stream",
     "text": [
      "Num1과 num2는 다르다\n"
     ]
    }
   ],
   "source": [
    "print(\"논리 연산자\") # or, and, not\n",
    "bool_re = num1 >= num2 or num1 <= 10\n",
    "print(bool_re) # True\n",
    "\n",
    "bool_re = num1 >= num2 and num1 <= 10\n",
    "print(bool_re) # False\n",
    "\n",
    "bool_re = not(num1 <= 10) # False -> True\n",
    "print(bool_re) # True"
   ]
  },
  {
   "cell_type": "code",
   "execution_count": 94,
   "id": "charming-short",
   "metadata": {},
   "outputs": [
    {
     "data": {
      "text/plain": [
       "True"
      ]
     },
     "execution_count": 94,
     "metadata": {},
     "output_type": "execute_result"
    }
   ],
   "source": []
  },
  {
   "cell_type": "code",
   "execution_count": 95,
   "id": "initial-lexington",
   "metadata": {},
   "outputs": [
    {
     "name": "stdout",
     "output_type": "stream",
     "text": [
      "value =  60\n",
      "출력1, 출력2\n",
      "010-1111-2222\n"
     ]
    }
   ],
   "source": [
    "# 1) 기본 인수\n",
    "print(\"value = \", 10 + 20 +30) # value =  60\n",
    "print(\"출력1\", end = \", \") # 출력1, 출력2\n",
    "print(\"출력2\")\n",
    "print(\"010\", \"1111\", \"2222\", sep = \"-\") # 010-1111-2222"
   ]
  },
  {
   "cell_type": "code",
   "execution_count": 102,
   "id": "nervous-heart",
   "metadata": {},
   "outputs": [
    {
     "name": "stdout",
     "output_type": "stream",
     "text": [
      "원주율 =    3.146\n",
      "금액 =      10000\n",
      "금액 =    125,000\n"
     ]
    }
   ],
   "source": [
    "# 2) format(value, \"형식\")\n",
    "print(\"원주율 =\", format(3.1459, \"8.3f\")) # 원주율 =    3.146 \"8(전체 자릿수).3(소숫점자리)f\"\n",
    "print(\"금액 =\", format(10000, \"10d\"))    # 금액 =      10000\n",
    "print(\"금액 =\", format(125000, \"10,d\"))   # 금액 = 125,000\n"
   ]
  },
  {
   "cell_type": "code",
   "execution_count": 103,
   "id": "respiratory-warning",
   "metadata": {},
   "outputs": [
    {
     "name": "stdout",
     "output_type": "stream",
     "text": [
      "10 + 20 = 30\n",
      "PI = 3.146\n"
     ]
    }
   ],
   "source": [
    "num1 = 10; num2 = 20\n",
    "tot = num1 + num2\n",
    "print(\"%d + %d = %d\" % (num1, num2, tot))\n",
    "print(\"%s = %.3f\" % (\"PI\", 3.1459))"
   ]
  },
  {
   "cell_type": "code",
   "execution_count": 104,
   "id": "surface-sheriff",
   "metadata": {},
   "outputs": [
    {
     "name": "stdout",
     "output_type": "stream",
     "text": [
      "10 + 20 = 30\n",
      "PI = 3.146\n"
     ]
    }
   ],
   "source": [
    "# 3) print(\"양식문자\" % (값)) \n",
    "num1 = 10; num2 = 20\n",
    "tot = num1 + num2\n",
    "print(\"%d + %d = %d\" % (num1, num2, tot))     # 10 + 20 = 30\n",
    "print(\"%s = %.3f\" % (\"PI\", 3.1459))           # PI = 3.146"
   ]
  },
  {
   "cell_type": "code",
   "execution_count": 115,
   "id": "municipal-plaintiff",
   "metadata": {},
   "outputs": [
    {
     "name": "stdout",
     "output_type": "stream",
     "text": [
      "name : 홍길동, age : 35\n",
      "name : 홍길동, age : 35\n",
      "name : 홍길동, age : 35\n",
      "김도민 : 35, 양시영 : 김도민\n"
     ]
    }
   ],
   "source": [
    "# 4) 외부 상수 받기\n",
    "# \"{}, {}\".format(value1, value2)\n",
    "print(\"name : {}, age : {}\".format(\"홍길동\", 35))\n",
    "\n",
    "print(\"name : {}, age : {}\".format(\"홍길동\", 35))\n",
    "# name : 홍길동, age : 35\n",
    "print(\"name : {1}, age : {0}\".format(35, \"홍길동\"))\n",
    "# name : 홍길동, age : 35\n",
    "\n",
    "print(f\"김도민 : {35}, 양시영 : {'김도민'}\")"
   ]
  },
  {
   "cell_type": "code",
   "execution_count": 112,
   "id": "romance-adrian",
   "metadata": {},
   "outputs": [],
   "source": [
    "del 김도민"
   ]
  },
  {
   "cell_type": "code",
   "execution_count": null,
   "id": "reliable-pierce",
   "metadata": {},
   "outputs": [],
   "source": [
    "# format 축약형 : sql\n",
    "# select * from emp whre name = '홍길동'\n",
    "name = \"홍길동\"\n",
    "age = int(input(\"나이 : \"))\n",
    "sql = f\"select * from emp where name = '{name}' and age = {age}\"\n",
    "# f = format\n",
    "print(sql) # select * from emp where name = '홍길동' and age = 35"
   ]
  },
  {
   "cell_type": "code",
   "execution_count": null,
   "id": "young-farmer",
   "metadata": {},
   "outputs": [],
   "source": [
    "# 3. print 형식\n",
    "help(print) # 함수 도움말\n",
    "# package > module > function or class\n",
    "# Help on built-in function print in module builtins:\n",
    "# print(value, ..., sep=' ', end='\\n'\n",
    "# module builtins: 기본 모듈(Python 설치 시 자동으로 설치되는 모듈)\n",
    "'''\n",
    "함수의 인수\n",
    "매개변수 : 값을 넘겨 받는 함수\n",
    "파라미터 : 값을 갖는 변수 (대개 함수 내에서 dfault 값)\n",
    "'''\n",
    "\n",
    "# 1) 기본 인수\n",
    "print(\"value = \", 10 + 20 +30) # value =  60\n",
    "print(\"출력1\", end = \", \") # 출력1, 출력2\n",
    "print(\"출력2\")\n",
    "print(\"010\", \"1111\", \"2222\", sep = \"-\") # 010-1111-2222\n",
    "\n",
    "# 2) format(value, \"형식\")\n",
    "print(\"원주율 =\", format(3.1459, \"8.3f\")) # 원주율 =    3.146 \"8(전체 자릿수).3(소숫점자리)f\"\n",
    "print(\"금액 =\", format(10000, \"10d\"))    # 금액 =      10000\n",
    "print(\"금액 =\", format(125000, \"3,d\"))   # 금액 = 125,000\n",
    "\n",
    "# 3) print(\"양식문자\" % (값)) # 양식문자(p.22)\n",
    "num1 = 10; num2 = 20\n",
    "tot = num1 + num2\n",
    "print(\"%d + %d = %d\" % (num1, num2, tot))     # 10 + 20 = 30\n",
    "print(\"8진수 = %o, 16진수 = %x\" % (num1, num1)) # 8진수 = 12, 16진수 = a\n",
    "print(\"%s = %.3f\" % (\"PI\", 3.1459))           # PI = 3.146\n",
    "\n",
    "# 4) 외부 상수 받기\n",
    "# \"{}, {}\".format(value1, value2)\n",
    "print(\"name : {}, age : {}\".format(\"홍길동\", 35))\n",
    "# name : 홍길동, age : 35\n",
    "print(\"name : {1}, age : {0}\".format(35, \"홍길동\"))\n",
    "# name : 홍길동, age : 35\n",
    "\n",
    "# format 축약형 : sql\n",
    "# select * from emp whre name = '홍길동'\n",
    "name = \"홍길동\"\n",
    "age = int(input(\"나이 : \"))\n",
    "sql = f\"select * from emp where name = '{name}' and age = {age}\"\n",
    "# f = format\n",
    "print(sql) # select * from emp where name = '홍길동' and age = 35"
   ]
  },
  {
   "cell_type": "code",
   "execution_count": null,
   "id": "confident-student",
   "metadata": {},
   "outputs": [],
   "source": [
    "'김도민'"
   ]
  }
 ],
 "metadata": {
  "kernelspec": {
   "display_name": "Python 3",
   "language": "python",
   "name": "python3"
  },
  "language_info": {
   "codemirror_mode": {
    "name": "ipython",
    "version": 3
   },
   "file_extension": ".py",
   "mimetype": "text/x-python",
   "name": "python",
   "nbconvert_exporter": "python",
   "pygments_lexer": "ipython3",
   "version": "3.7.9"
  }
 },
 "nbformat": 4,
 "nbformat_minor": 5
}
