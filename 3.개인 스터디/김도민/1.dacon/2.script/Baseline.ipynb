{
 "cells": [
  {
   "cell_type": "code",
   "execution_count": 56,
   "id": "optical-devil",
   "metadata": {},
   "outputs": [],
   "source": [
    "import pandas as pd\n",
    "import numpy as np\n",
    "import matplotlib.pyplot as plt\n",
    "import seaborn as sns\n",
    "import re\n",
    "from datetime import datetime\n",
    "from datetime import timedelta\n",
    "\n",
    "from sklearn.model_selection import train_test_split, KFold\n",
    "from sklearn.metrics import r2_score, mean_absolute_error\n",
    "from sklearn.linear_model import LinearRegression\n",
    "from sklearn.tree import DecisionTreeRegressor\n",
    "from sklearn.ensemble import RandomForestRegressor\n",
    "\n",
    "from xgboost import XGBRegressor\n",
    "\n",
    "import warnings\n",
    "\n",
    "warnings.filterwarnings(\"ignore\")\n",
    "%matplotlib inline"
   ]
  },
  {
   "cell_type": "code",
   "execution_count": 57,
   "id": "opposed-uruguay",
   "metadata": {},
   "outputs": [],
   "source": [
    "# 한글 깨짐\n",
    "import platform\n",
    "if platform.system() == 'Darwin': #맥\n",
    "        plt.rc('font', family='AppleGothic') \n",
    "elif platform.system() == 'Windows': #윈도우\n",
    "        plt.rc('font', family='Malgun Gothic') \n",
    "elif platform.system() == 'Linux': #리눅스 (구글 콜랩)\n",
    "        #!wget \"https://www.wfonts.com/download/data/2016/06/13/malgun-gothic/malgun.ttf\"\n",
    "        #!mv malgun.ttf /usr/share/fonts/truetype/\n",
    "        #import matplotlib.font_manager as fm \n",
    "        #fm._rebuild() \n",
    "        plt.rc('font', family='Malgun Gothic') \n",
    "plt.rcParams['axes.unicode_minus'] = False #한글 폰트 사용시 마이너스 폰트 깨짐 해결"
   ]
  },
  {
   "cell_type": "code",
   "execution_count": 2,
   "id": "respective-flavor",
   "metadata": {},
   "outputs": [],
   "source": [
    "train = pd.read_csv(\"../1.data/train.csv\")\n",
    "test = pd.read_csv(\"../1.data/test.csv\")\n",
    "submit = pd.read_csv(\"../1.data/sample_submission.csv\")"
   ]
  },
  {
   "cell_type": "markdown",
   "id": "associate-delay",
   "metadata": {},
   "source": [
    "## 식수 인원 파생변수 생성"
   ]
  },
  {
   "cell_type": "code",
   "execution_count": 44,
   "id": "atlantic-playing",
   "metadata": {},
   "outputs": [],
   "source": [
    "# 전주 식수 인원\n",
    "# test set에서는 구할 수 없다.\n",
    "def previous_week(x):\n",
    "    stamp = datetime.strptime(x, \"%Y-%m-%d\")\n",
    "    day = stamp - timedelta(7)\n",
    "    a = day.strftime(\"%Y-%m-%d\")\n",
    "    return a\n",
    "\n",
    "train[\"전주일자\"] = train[\"일자\"].apply(lambda x: previous_week(x))\n",
    "test[\"전주일자\"] = test[\"일자\"].apply(lambda x: previous_week(x))"
   ]
  },
  {
   "cell_type": "code",
   "execution_count": 65,
   "id": "pregnant-infection",
   "metadata": {},
   "outputs": [],
   "source": [
    "# 요일 별 식수 인원(평균)\n",
    "# test set에서는 구할 수 없다.\n",
    "df = train.groupby(\"요일\")[[\"중식계\", \"석식계\"]].agg(\"mean\").reset_index()\n",
    "\n",
    "train[\"요일별중식계\"] = 0\n",
    "train[\"요일별석식계\"] = 0\n",
    "\n",
    "for idx in range(len(df)):\n",
    "    day = train.loc[idx, \"요일\"]\n",
    "    value = df[df[\"요일\"] == day]\n",
    "    train.loc[idx, \"요일별중식계\"] = value[\"중식계\"].values[0]\n",
    "    train.loc[idx, \"요일별석식계\"] = value[\"석식계\"].values[0]"
   ]
  },
  {
   "cell_type": "code",
   "execution_count": null,
   "id": "comparable-tutorial",
   "metadata": {},
   "outputs": [],
   "source": [
    "# 상관분석\n",
    "plt.figure(figsize = (15, 8))\n",
    "plt.xticks(color = \"white\", fontsize = 15)\n",
    "plt.yticks(color = \"white\", fontsize = 15)\n",
    "sns.heatmap(train.corr(), annot = True)"
   ]
  },
  {
   "cell_type": "code",
   "execution_count": null,
   "id": "economic-ebony",
   "metadata": {},
   "outputs": [],
   "source": [
    "# 월 별 식수 인원(평균)\n",
    "# test set에서는 구할 수 없다."
   ]
  },
  {
   "cell_type": "code",
   "execution_count": 7,
   "id": "italian-ethnic",
   "metadata": {},
   "outputs": [],
   "source": [
    "# 실근무자 수\n",
    "train[\"실근무자수\"] = train[\"본사정원수\"] - train[\"본사출장자수\"] - train[\"본사휴가자수\"] - train[\"현본사소속재택근무자수\"]\n",
    "test[\"실근무자수\"] = test[\"본사정원수\"] - test[\"본사출장자수\"] - test[\"본사휴가자수\"] - test[\"현본사소속재택근무자수\"]"
   ]
  },
  {
   "cell_type": "code",
   "execution_count": 49,
   "id": "opened-terminal",
   "metadata": {},
   "outputs": [],
   "source": [
    "train['요일'] = train['요일'].map({'월':0, '화':1, '수':2, '목':3, '금':4})\n",
    "test['요일'] = test['요일'].map({'월':0, '화':1, '수':2, '목':3, '금':4})"
   ]
  },
  {
   "cell_type": "markdown",
   "id": "bulgarian-techno",
   "metadata": {},
   "source": [
    "## 날씨 데이터 전처리"
   ]
  },
  {
   "cell_type": "code",
   "execution_count": 74,
   "id": "empirical-cookbook",
   "metadata": {},
   "outputs": [],
   "source": [
    "weather2016 = pd.read_csv(\"../1.data/2016_weather.csv\", encoding=\"euc-kr\")"
   ]
  },
  {
   "cell_type": "code",
   "execution_count": 77,
   "id": "human-commission",
   "metadata": {},
   "outputs": [
    {
     "data": {
      "text/plain": [
       "Index(['지점', '지점명', '일시', '기온(°C)', '기온 QC플래그', '강수량(mm)', '강수량 QC플래그',\n",
       "       '풍속(m/s)', '풍속 QC플래그', '풍향(16방위)', '풍향 QC플래그', '습도(%)', '습도 QC플래그',\n",
       "       '증기압(hPa)', '이슬점온도(°C)', '현지기압(hPa)', '현지기압 QC플래그', '해면기압(hPa)',\n",
       "       '해면기압 QC플래그', '일조(hr)', '일조 QC플래그', '일사(MJ/m2)', '적설(cm)', '3시간신적설(cm)',\n",
       "       '전운량(10분위)', '중하층운량(10분위)', '운형(운형약어)', '최저운고(100m )', '시정(10m)',\n",
       "       '지면상태(지면상태코드)', '현상번호(국내식)', '지면온도(°C)', '지면온도 QC플래그', '5cm 지중온도(°C)',\n",
       "       '10cm 지중온도(°C)', '20cm 지중온도(°C)', '30cm 지중온도(°C)'],\n",
       "      dtype='object')"
      ]
     },
     "execution_count": 77,
     "metadata": {},
     "output_type": "execute_result"
    }
   ],
   "source": [
    "weather2016.columns"
   ]
  },
  {
   "cell_type": "code",
   "execution_count": null,
   "id": "amateur-majority",
   "metadata": {},
   "outputs": [],
   "source": []
  },
  {
   "cell_type": "code",
   "execution_count": 50,
   "id": "australian-representative",
   "metadata": {},
   "outputs": [],
   "source": [
    "x_train = train[['요일', '본사정원수', '본사출장자수', '본사시간외근무명령서승인건수', '현본사소속재택근무자수',\n",
    "                \"실근무자수\"]]\n",
    "y1_train = train['중식계']\n",
    "y2_train = train['석식계']\n",
    "\n",
    "x_test = test[['요일', '본사정원수', '본사출장자수', '본사시간외근무명령서승인건수', '현본사소속재택근무자수',\n",
    "              \"실근무자수\"]]"
   ]
  },
  {
   "cell_type": "code",
   "execution_count": 51,
   "id": "sweet-investigator",
   "metadata": {},
   "outputs": [],
   "source": [
    "model1 = XGBRegressor(n_jobs=-1, random_state=42)\n",
    "model2 = XGBRegressor(n_jobs=-1, random_state=42)"
   ]
  },
  {
   "cell_type": "code",
   "execution_count": 52,
   "id": "knowing-smile",
   "metadata": {},
   "outputs": [
    {
     "data": {
      "text/plain": [
       "XGBRegressor(base_score=0.5, booster='gbtree', colsample_bylevel=1,\n",
       "             colsample_bynode=1, colsample_bytree=1, gamma=0, gpu_id=-1,\n",
       "             importance_type='gain', interaction_constraints='',\n",
       "             learning_rate=0.300000012, max_delta_step=0, max_depth=6,\n",
       "             min_child_weight=1, missing=nan, monotone_constraints='()',\n",
       "             n_estimators=100, n_jobs=-1, num_parallel_tree=1, random_state=42,\n",
       "             reg_alpha=0, reg_lambda=1, scale_pos_weight=1, subsample=1,\n",
       "             tree_method='exact', validate_parameters=1, verbosity=None)"
      ]
     },
     "execution_count": 52,
     "metadata": {},
     "output_type": "execute_result"
    }
   ],
   "source": [
    "model1.fit(x_train, y1_train)\n",
    "model2.fit(x_train, y2_train)"
   ]
  },
  {
   "cell_type": "code",
   "execution_count": 53,
   "id": "bottom-dragon",
   "metadata": {},
   "outputs": [],
   "source": [
    "pred1 = model1.predict(x_test)\n",
    "pred2 = model2.predict(x_test)"
   ]
  },
  {
   "cell_type": "code",
   "execution_count": 54,
   "id": "phantom-component",
   "metadata": {},
   "outputs": [],
   "source": [
    "submit['중식계'] = pred1\n",
    "submit['석식계'] = pred2"
   ]
  },
  {
   "cell_type": "code",
   "execution_count": 55,
   "id": "warming-union",
   "metadata": {},
   "outputs": [],
   "source": [
    "submit.to_csv('baseline.csv', index=False)"
   ]
  },
  {
   "cell_type": "code",
   "execution_count": null,
   "id": "polished-richards",
   "metadata": {},
   "outputs": [],
   "source": []
  }
 ],
 "metadata": {
  "kernelspec": {
   "display_name": "Python 3",
   "language": "python",
   "name": "python3"
  },
  "language_info": {
   "codemirror_mode": {
    "name": "ipython",
    "version": 3
   },
   "file_extension": ".py",
   "mimetype": "text/x-python",
   "name": "python",
   "nbconvert_exporter": "python",
   "pygments_lexer": "ipython3",
   "version": "3.7.9"
  }
 },
 "nbformat": 4,
 "nbformat_minor": 5
}
